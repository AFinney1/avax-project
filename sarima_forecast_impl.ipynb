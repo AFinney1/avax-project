{
 "cells": [
  {
   "cell_type": "code",
   "execution_count": 152,
   "metadata": {},
   "outputs": [],
   "source": [
    "import torch\n",
    "import torch.nn.utils.prune as prune \n",
    "import numpy as np\n",
    "import plotly.express as px\n",
    "import plotly.graph_objects as go \n",
    "import pandas as pd \n",
    "import torchvision\n",
    "from torch.autograd import Variable\n",
    "import os\n",
    "from datetime import datetime, timedelta\n",
    "import yfinance as yf\n"
   ]
  },
  {
   "cell_type": "code",
   "execution_count": 153,
   "metadata": {},
   "outputs": [
    {
     "data": {
      "text/plain": [
       "True"
      ]
     },
     "execution_count": 153,
     "metadata": {},
     "output_type": "execute_result"
    }
   ],
   "source": [
    "check_gpu = torch.cuda.is_available()\n",
    "check_gpu"
   ]
  },
  {
   "cell_type": "code",
   "execution_count": 154,
   "metadata": {},
   "outputs": [],
   "source": [
    "os.environ['CUDA_LAUNCH_BLOCKING'] = \"1\""
   ]
  },
  {
   "cell_type": "code",
   "execution_count": 155,
   "metadata": {},
   "outputs": [
    {
     "data": {
      "text/plain": [
       "'NVIDIA GeForce RTX 2080 Ti'"
      ]
     },
     "execution_count": 155,
     "metadata": {},
     "output_type": "execute_result"
    }
   ],
   "source": [
    "check_devices = torch.cuda.get_device_name()\n",
    "check_devices"
   ]
  },
  {
   "cell_type": "code",
   "execution_count": 156,
   "metadata": {},
   "outputs": [],
   "source": [
    "crypto_name = 'apeusd'\n",
    "#example_ohlc_df = pd.DataFrame({\"Time\": [1, 2, 3, 4, 5, 6, 7, 8, 9, 10],\"Open\": [1, 2, 3, 4, 5, 6, 7, 8, 9, 10],\"High\": [1, 2, 3, 4, 5, 6, 7, 8, 9, 10],\"Low\": [1, 2, 3, 4, 5, 6, 7, 8, 9, 10],\"Close\": [1, 2, 3, 4, 5, 6, 7, 8, 9, 10]})\n",
    "\n",
    "ohlc_df = pd.read_csv('historical_price/' + crypto_name + '.csv')\n",
    "ohlc_df.index = pd.to_datetime(ohlc_df['time'], unit = 'ms')\n",
    "\n",
    "#ohlc_df.index = ohlc_df.index.tz_localize('UTC').tz_convert('US/Eastern')"
   ]
  },
  {
   "cell_type": "code",
   "execution_count": 157,
   "metadata": {},
   "outputs": [
    {
     "name": "stdout",
     "output_type": "stream",
     "text": [
      "137126\n"
     ]
    }
   ],
   "source": [
    "print(len(ohlc_df))\n",
    "history_used = int(len(ohlc_df)*0.8)"
   ]
  },
  {
   "cell_type": "code",
   "execution_count": 158,
   "metadata": {},
   "outputs": [
    {
     "data": {
      "text/plain": [
       "time\n",
       "2022-07-19 10:16:00    5.7765\n",
       "2022-07-19 10:18:00    5.7755\n",
       "2022-07-19 10:19:00    5.7596\n",
       "2022-07-19 10:20:00    5.7585\n",
       "2022-07-19 10:22:00    5.7676\n",
       "Name: close, dtype: float64"
      ]
     },
     "execution_count": 158,
     "metadata": {},
     "output_type": "execute_result"
    }
   ],
   "source": [
    "price_dataset = ohlc_df.close[-history_used:]\n",
    "time_index = ohlc_df.index[-history_used:]\n",
    "price_dataset.tail()\n"
   ]
  },
  {
   "cell_type": "code",
   "execution_count": 229,
   "metadata": {},
   "outputs": [
    {
     "data": {
      "text/plain": [
       "(65820, 87760, 98730)"
      ]
     },
     "execution_count": 229,
     "metadata": {},
     "output_type": "execute_result"
    }
   ],
   "source": [
    "x_data_len = int(history_used*.6)\n",
    "train_cutoff = int(history_used*.8)\n",
    "test_cutoff = int(history_used*.9)\n",
    "x_data_len, train_cutoff, test_cutoff"
   ]
  },
  {
   "cell_type": "code",
   "execution_count": 230,
   "metadata": {},
   "outputs": [
    {
     "name": "stdout",
     "output_type": "stream",
     "text": [
      "21940\n"
     ]
    }
   ],
   "source": [
    "price_dataset_x = price_dataset[x_data_len:]\n",
    "time_x = time_index[x_data_len:]\n",
    "price_dataset_y = price_dataset[x_data_len:train_cutoff]\n",
    "time_y = time_index[x_data_len:train_cutoff]\n",
    "print(len(price_dataset_y))"
   ]
  },
  {
   "cell_type": "code",
   "execution_count": 231,
   "metadata": {},
   "outputs": [],
   "source": [
    "price_test_x = price_dataset[train_cutoff:test_cutoff]\n",
    "time_test_x = time_index[train_cutoff:test_cutoff]\n",
    "price_test_y = price_dataset[test_cutoff:]\n",
    "time_test_y = time_index[test_cutoff:]\n",
    "#price_test_val = price_dataset[900:1000]\n",
    "#time_test_val = time_index[900:1000]"
   ]
  },
  {
   "cell_type": "code",
   "execution_count": 250,
   "metadata": {},
   "outputs": [],
   "source": [
    "seq_len = 35\n",
    "batch_size = 55"
   ]
  },
  {
   "cell_type": "code",
   "execution_count": 251,
   "metadata": {},
   "outputs": [],
   "source": [
    "class TimeSeriesDataset(torch.utils.data.Dataset):\n",
    "    def __init__(self, X, y, seq_len=5):\n",
    "        self.X = torch.tensor(X, dtype = torch.float32)\n",
    "        self.y = torch.tensor(y, dtype = torch.float32)\n",
    "        self.seq_len = seq_len\n",
    "    def __len__(self):\n",
    "        return self.X.__len__() - (self.seq_len - 1)\n",
    "\n",
    "    def __getitem__(self, index):\n",
    "        #print(len(self.y))\n",
    "        X = self.X[index:index+self.seq_len]\n",
    "        try:\n",
    "            y = self.y[index+self.seq_len]\n",
    "        except:\n",
    "            y = self.y[self.seq_len]\n",
    "        return X, y"
   ]
  },
  {
   "cell_type": "code",
   "execution_count": 252,
   "metadata": {},
   "outputs": [],
   "source": [
    "train_dataset = TimeSeriesDataset(price_dataset_x, price_dataset_y, seq_len=seq_len)\n",
    "test_dataset = TimeSeriesDataset(price_test_x, price_test_y, seq_len=seq_len)\n",
    "#val_dataset = TimeSeriesDataset(price_test_val, price_test_y, seq_len=seq_len)"
   ]
  },
  {
   "cell_type": "code",
   "execution_count": 253,
   "metadata": {},
   "outputs": [],
   "source": [
    "train_loader = torch.utils.data.DataLoader(\n",
    "    train_dataset,\n",
    "    batch_size=batch_size,\n",
    "    drop_last = True, \n",
    "    shuffle=False)\n",
    "\n",
    "test_loader = torch.utils.data.DataLoader(\n",
    "    test_dataset, \n",
    "    batch_size=batch_size, \n",
    "    drop_last=True,\n",
    "    shuffle=False)"
   ]
  },
  {
   "cell_type": "code",
   "execution_count": 254,
   "metadata": {},
   "outputs": [],
   "source": [
    "class LSTM_Model(torch.nn.Module):\n",
    "    def __init__(self, input_dim , hidden_size , num_layers, batch_size):\n",
    "        super(LSTM_Model, self).__init__()\n",
    "        self.num_layers = num_layers\n",
    "        self.input_size = input_dim\n",
    "        self.hidden_size = hidden_size\n",
    "        self.batch_size = batch_size\n",
    "        self.lstm = torch.nn.LSTM(input_size=input_dim , hidden_size = hidden_size , num_layers= num_layers )\n",
    "        self.fc = torch.nn.Linear(hidden_size,1)\n",
    "\n",
    "    def forward(self,x,hn,cn):\n",
    "        out , (hn,cn) = self.lstm(x , (hn,cn))\n",
    "        final_out = self.fc(out[-1])\n",
    "        return final_out,hn,cn\n",
    "\n",
    "    def predict(self,x):\n",
    "        hn,cn  = self.init()\n",
    "        final_out = self.fc(out[-1])\n",
    "        return final_out\n",
    "\n",
    "    def init(self):\n",
    "        h0 =  torch.zeros(self.num_layers , self.batch_size , self.hidden_size)\n",
    "        c0 =  torch.zeros(self.num_layers , self.batch_size , self.hidden_size)\n",
    "        return h0 , c0\n",
    "\n",
    "\n",
    "#device = torch.device('cpu')\n",
    "#print(device)\n",
    "\n",
    "input_dim = 1\n",
    "hidden_size = seq_len\n",
    "num_layers = 5\n",
    "crypto_price_model = LSTM_Model(input_dim, hidden_size, num_layers, batch_size)\n",
    "\n",
    "\n",
    "crypto_price_model#.to(device)\n",
    "\n",
    "loss_function = torch.nn.MSELoss() # Criterion, I believe CrossEntropyLoss has SoftMax built-in so I used it here, this is why my last layer doesn't have a softmax\n",
    "optimizer  = torch.optim.Adam(crypto_price_model.parameters(), lr=0.017) # used adaptive moment estimation to optimize the model"
   ]
  },
  {
   "cell_type": "code",
   "execution_count": 255,
   "metadata": {},
   "outputs": [],
   "source": [
    "#training loop\n",
    "def train(dataloader, model):\n",
    "    predictions = []\n",
    "    loss_list = []\n",
    "    hn , cn = model.init()\n",
    "    model.train()\n",
    "    for batch , item in enumerate(dataloader):\n",
    "        x , y = item\n",
    "        y = y.type(torch.FloatTensor)\n",
    "        #x = x.to(device)\n",
    "        #y = y.to(device)\n",
    "        out , hn , cn = model(x.reshape(seq_len,batch_size,-1),hn,cn)\n",
    "        out = out.view(-1)\n",
    "        # print(out.shape)\n",
    "        # print(y.shape)\n",
    "        loss = loss_function(out.reshape(batch_size) , y)\n",
    "        hn = hn.detach()\n",
    "        cn = cn.detach()\n",
    "        optimizer.zero_grad()\n",
    "        loss.backward()\n",
    "        optimizer.step()\n",
    "        print(f'Training Loss: {loss.item()}')\n",
    "        if batch == len(dataloader)-1:\n",
    "            loss = loss.item()\n",
    "            print(f\"Train loss: {loss:>7f} \")\n",
    "        loss_list.append(loss)\n",
    "        predictions.append(out.detach().numpy())\n",
    "        return predictions, loss_list\n",
    "        "
   ]
  },
  {
   "cell_type": "code",
   "execution_count": 256,
   "metadata": {},
   "outputs": [],
   "source": [
    "def test(dataloader, model):\n",
    "    predictions = []\n",
    "    loss_list = []\n",
    "    hn , cn = model.init()\n",
    "    model.eval()\n",
    "    for batch , item in enumerate(dataloader):\n",
    "        x , y = item\n",
    "        y = y.type(torch.FloatTensor)\n",
    "        #x = x.to(device)\n",
    "        #y = y.to(device)\n",
    "        out , hn , cn = model(x.reshape(seq_len,batch_size,1),hn,cn)\n",
    "        loss = loss_function(out.reshape(batch_size) , y)\n",
    "        print(f\"test loss: {loss.item():>7f} \")\n",
    "        if batch == len(dataloader)-1:\n",
    "            loss = loss.item()\n",
    "            print(f\"Test loss: {loss:>7f} \")\n",
    "        predictions.append(out.detach().numpy())\n",
    "        loss_list.append(loss)\n",
    "        return predictions, loss_list"
   ]
  },
  {
   "cell_type": "code",
   "execution_count": 257,
   "metadata": {},
   "outputs": [
    {
     "name": "stdout",
     "output_type": "stream",
     "text": [
      "Epoch 1: \n",
      "Training Loss: 36.35759735107422\n",
      "Epoch 2: \n",
      "Training Loss: 10.814190864562988\n",
      "Epoch 3: \n",
      "Training Loss: 2.398435592651367\n",
      "Epoch 4: \n",
      "Training Loss: 0.3979949951171875\n",
      "Epoch 5: \n",
      "Training Loss: 1.48612380027771\n",
      "Epoch 6: \n",
      "Training Loss: 1.3226988315582275\n",
      "Epoch 7: \n",
      "Training Loss: 0.6513845324516296\n",
      "Epoch 8: \n",
      "Training Loss: 0.14376942813396454\n",
      "Epoch 9: \n",
      "Training Loss: 0.0025573521852493286\n",
      "Epoch 10: \n",
      "Training Loss: 0.16142718493938446\n",
      "Epoch 11: \n",
      "Training Loss: 0.38197028636932373\n",
      "Epoch 12: \n",
      "Training Loss: 0.4496006667613983\n",
      "Epoch 13: \n",
      "Training Loss: 0.32804879546165466\n",
      "Epoch 14: \n",
      "Training Loss: 0.13674630224704742\n",
      "Epoch 15: \n",
      "Training Loss: 0.014530176296830177\n",
      "Epoch 16: \n",
      "Training Loss: 0.015736164525151253\n",
      "Epoch 17: \n",
      "Training Loss: 0.10189782083034515\n",
      "Epoch 18: \n",
      "Training Loss: 0.187253937125206\n",
      "Epoch 19: \n",
      "Training Loss: 0.20533151924610138\n",
      "Epoch 20: \n",
      "Training Loss: 0.14917555451393127\n",
      "Epoch 21: \n",
      "Training Loss: 0.06376812607049942\n",
      "Epoch 22: \n",
      "Training Loss: 0.006958741694688797\n",
      "Epoch 23: \n",
      "Training Loss: 0.008053437806665897\n",
      "Epoch 24: \n",
      "Training Loss: 0.05127088353037834\n",
      "Epoch 25: \n",
      "Training Loss: 0.09379890561103821\n",
      "Epoch 26: \n",
      "Training Loss: 0.10098020732402802\n",
      "Epoch 27: \n",
      "Training Loss: 0.07004032284021378\n",
      "Epoch 28: \n",
      "Training Loss: 0.02663399651646614\n",
      "Epoch 29: \n",
      "Training Loss: 0.001576546230353415\n",
      "Epoch 30: \n",
      "Training Loss: 0.007540175225585699\n",
      "Epoch 31: \n",
      "Training Loss: 0.03225042298436165\n",
      "Epoch 32: \n",
      "Training Loss: 0.051374439150094986\n",
      "Epoch 33: \n",
      "Training Loss: 0.0490044504404068\n",
      "Epoch 34: \n",
      "Training Loss: 0.028620027005672455\n",
      "Epoch 35: \n",
      "Training Loss: 0.007319495547562838\n",
      "Epoch 36: \n",
      "Training Loss: 0.00035159889375790954\n",
      "Epoch 37: \n",
      "Training Loss: 0.009318702854216099\n",
      "Epoch 38: \n",
      "Training Loss: 0.022889405488967896\n",
      "Epoch 39: \n",
      "Training Loss: 0.027933357283473015\n",
      "Epoch 40: \n",
      "Training Loss: 0.0205767173320055\n",
      "Epoch 41: \n",
      "Training Loss: 0.007952621206641197\n",
      "Epoch 42: \n",
      "Training Loss: 0.0005337106413207948\n",
      "Epoch 43: \n",
      "Training Loss: 0.002805423690006137\n",
      "Epoch 44: \n",
      "Training Loss: 0.010357636958360672\n",
      "Epoch 45: \n",
      "Training Loss: 0.015025299042463303\n",
      "Epoch 46: \n",
      "Training Loss: 0.012551887892186642\n",
      "Epoch 47: \n",
      "Training Loss: 0.0056991917081177235\n",
      "Epoch 48: \n",
      "Training Loss: 0.0007066059042699635\n",
      "Epoch 49: \n",
      "Training Loss: 0.0011912351474165916\n",
      "Epoch 50: \n",
      "Training Loss: 0.005296627525240183\n",
      "Epoch 51: \n",
      "Training Loss: 0.008222554810345173\n",
      "Epoch 52: \n",
      "Training Loss: 0.0070828841999173164\n",
      "Epoch 53: \n",
      "Training Loss: 0.0032679883297532797\n",
      "Epoch 54: \n",
      "Training Loss: 0.0004679117409978062\n",
      "Epoch 55: \n",
      "Training Loss: 0.0008387313573621213\n",
      "Epoch 56: \n",
      "Training Loss: 0.00320114241912961\n",
      "Epoch 57: \n",
      "Training Loss: 0.0046942452900111675\n",
      "Epoch 58: \n",
      "Training Loss: 0.003796288976445794\n",
      "Epoch 59: \n",
      "Training Loss: 0.0015847987961024046\n",
      "Epoch 60: \n",
      "Training Loss: 0.00026255083503201604\n",
      "Epoch 61: \n",
      "Training Loss: 0.0008051221957430243\n",
      "Epoch 62: \n",
      "Training Loss: 0.002186977304518223\n",
      "Epoch 63: \n",
      "Training Loss: 0.0027292498853057623\n",
      "Epoch 64: \n",
      "Training Loss: 0.0018977390136569738\n",
      "Epoch 65: \n",
      "Training Loss: 0.0006580684566870332\n",
      "Epoch 66: \n",
      "Training Loss: 0.0002420052041998133\n",
      "Epoch 67: \n",
      "Training Loss: 0.0008338182233273983\n",
      "Epoch 68: \n",
      "Training Loss: 0.0015495667466893792\n",
      "Epoch 69: \n",
      "Training Loss: 0.0015349157620221376\n",
      "Epoch 70: \n",
      "Training Loss: 0.0008580723078921437\n",
      "Epoch 71: \n",
      "Training Loss: 0.0002845977433025837\n",
      "Epoch 72: \n",
      "Training Loss: 0.00034577841870486736\n",
      "Epoch 73: \n",
      "Training Loss: 0.000806519587058574\n",
      "Epoch 74: \n",
      "Training Loss: 0.0010456264717504382\n",
      "Epoch 75: \n",
      "Training Loss: 0.0007945503457449377\n",
      "Epoch 76: \n",
      "Training Loss: 0.0003722157562151551\n",
      "Epoch 77: \n",
      "Training Loss: 0.00023542824783362448\n",
      "Epoch 78: \n",
      "Training Loss: 0.00044958016951568425\n",
      "Epoch 79: \n",
      "Training Loss: 0.0006809115875512362\n",
      "Epoch 80: \n",
      "Training Loss: 0.0006372974603436887\n",
      "Epoch 81: \n",
      "Training Loss: 0.0003901029995176941\n",
      "Epoch 82: \n",
      "Training Loss: 0.00023206505284179002\n",
      "Epoch 83: \n",
      "Training Loss: 0.00030572732794098556\n",
      "Epoch 84: \n",
      "Training Loss: 0.00046500240569002926\n",
      "Epoch 85: \n",
      "Training Loss: 0.0004923396045342088\n",
      "Epoch 86: \n",
      "Training Loss: 0.0003629786369856447\n",
      "Epoch 87: \n",
      "Training Loss: 0.00024100161681417376\n",
      "Epoch 88: \n",
      "Training Loss: 0.000254686048720032\n",
      "Epoch 89: \n",
      "Training Loss: 0.0003511696995701641\n",
      "Epoch 90: \n",
      "Training Loss: 0.0003897764254361391\n",
      "Epoch 91: \n",
      "Training Loss: 0.00032458658097311854\n",
      "Epoch 92: \n",
      "Training Loss: 0.0002431340399198234\n",
      "Epoch 93: \n",
      "Training Loss: 0.00023810639686416835\n",
      "Epoch 94: \n",
      "Training Loss: 0.00029419659404084086\n",
      "Epoch 95: \n",
      "Training Loss: 0.000325152650475502\n",
      "Epoch 96: \n",
      "Training Loss: 0.00029128941241651773\n",
      "Epoch 97: \n",
      "Training Loss: 0.00024020380806177855\n",
      "Epoch 98: \n",
      "Training Loss: 0.0002329547278350219\n",
      "Epoch 99: \n",
      "Training Loss: 0.0002659214078448713\n",
      "Epoch 100: \n",
      "Training Loss: 0.00028642595862038434\n",
      "test loss: 1.096925 \n"
     ]
    }
   ],
   "source": [
    "epochs = 100\n",
    "for epoch in range(epochs):\n",
    "    print(f\"Epoch {epoch + 1}: \")\n",
    "    train(train_loader, crypto_price_model)\n",
    "test_predictions = test(test_loader, crypto_price_model)\n",
    "#print(test_predictions[:][:][:][0])"
   ]
  },
  {
   "cell_type": "code",
   "execution_count": 258,
   "metadata": {},
   "outputs": [
    {
     "name": "stdout",
     "output_type": "stream",
     "text": [
      "[6.102842  6.102842  6.102842  6.102842  6.102842  6.102842  6.102842\n",
      " 6.102842  6.102842  6.102842  6.102842  6.102842  6.102842  6.102842\n",
      " 6.102842  6.102842  6.102842  6.102842  6.102842  6.102842  6.102842\n",
      " 6.102842  6.102842  6.102842  6.102842  6.102842  6.102842  6.102842\n",
      " 6.102842  6.102842  6.102842  6.102842  6.102842  6.102842  6.102842\n",
      " 6.102842  6.102842  6.102842  6.102842  6.102842  6.102842  6.102842\n",
      " 6.102842  6.102842  6.102842  6.102842  6.102842  6.102842  6.102842\n",
      " 6.102842  6.102842  6.102842  6.1028414 6.102842  6.1028414]\n"
     ]
    }
   ],
   "source": [
    "forecast_price = np.array([num for num in test_predictions[0][0]]).flatten()\n",
    "print(forecast_price)"
   ]
  },
  {
   "cell_type": "code",
   "execution_count": 259,
   "metadata": {},
   "outputs": [
    {
     "name": "stdout",
     "output_type": "stream",
     "text": [
      "1\n",
      "\n"
     ]
    },
    {
     "data": {
      "application/vnd.plotly.v1+json": {
       "config": {
        "plotlyServerURL": "https://plot.ly"
       },
       "data": [
        {
         "mode": "lines",
         "name": "Predicted Price",
         "type": "scatter",
         "x": [
          "2022-07-06T15:26:00",
          "2022-07-06T15:27:00",
          "2022-07-06T15:28:00",
          "2022-07-06T15:29:00",
          "2022-07-06T15:30:00",
          "2022-07-06T15:31:00",
          "2022-07-06T15:32:00",
          "2022-07-06T15:33:00",
          "2022-07-06T15:34:00",
          "2022-07-06T15:35:00",
          "2022-07-06T15:38:00",
          "2022-07-06T15:40:00",
          "2022-07-06T15:42:00",
          "2022-07-06T15:45:00",
          "2022-07-06T15:46:00",
          "2022-07-06T15:48:00",
          "2022-07-06T15:49:00",
          "2022-07-06T15:50:00",
          "2022-07-06T15:51:00",
          "2022-07-06T15:52:00",
          "2022-07-06T15:54:00",
          "2022-07-06T15:55:00",
          "2022-07-06T15:56:00",
          "2022-07-06T15:58:00",
          "2022-07-06T15:59:00",
          "2022-07-06T16:02:00",
          "2022-07-06T16:03:00",
          "2022-07-06T16:04:00",
          "2022-07-06T16:05:00",
          "2022-07-06T16:06:00",
          "2022-07-06T16:07:00",
          "2022-07-06T16:08:00",
          "2022-07-06T16:10:00",
          "2022-07-06T16:11:00",
          "2022-07-06T16:12:00",
          "2022-07-06T16:13:00",
          "2022-07-06T16:14:00",
          "2022-07-06T16:16:00",
          "2022-07-06T16:18:00",
          "2022-07-06T16:19:00",
          "2022-07-06T16:22:00",
          "2022-07-06T16:24:00",
          "2022-07-06T16:26:00",
          "2022-07-06T16:27:00",
          "2022-07-06T16:28:00",
          "2022-07-06T16:29:00",
          "2022-07-06T16:30:00",
          "2022-07-06T16:31:00",
          "2022-07-06T16:32:00",
          "2022-07-06T16:33:00",
          "2022-07-06T16:34:00",
          "2022-07-06T16:35:00",
          "2022-07-06T16:36:00",
          "2022-07-06T16:37:00",
          "2022-07-06T16:38:00"
         ],
         "y": [
          6.102841854095459,
          6.102841854095459,
          6.102841854095459,
          6.102841854095459,
          6.102841854095459,
          6.102841854095459,
          6.102841854095459,
          6.102841854095459,
          6.102841854095459,
          6.102841854095459,
          6.102841854095459,
          6.102841854095459,
          6.102841854095459,
          6.102841854095459,
          6.102841854095459,
          6.102841854095459,
          6.102841854095459,
          6.102841854095459,
          6.102841854095459,
          6.102841854095459,
          6.102841854095459,
          6.102841854095459,
          6.102841854095459,
          6.102841854095459,
          6.102841854095459,
          6.102841854095459,
          6.102841854095459,
          6.102841854095459,
          6.102841854095459,
          6.102841854095459,
          6.102841854095459,
          6.102841854095459,
          6.102841854095459,
          6.102841854095459,
          6.102841854095459,
          6.102841854095459,
          6.102841854095459,
          6.102841854095459,
          6.102841854095459,
          6.102841854095459,
          6.102841854095459,
          6.102841854095459,
          6.102841854095459,
          6.102841854095459,
          6.102841854095459,
          6.102841854095459,
          6.102841854095459,
          6.102841854095459,
          6.102841854095459,
          6.102841854095459,
          6.102841854095459,
          6.102841854095459,
          6.102841377258301,
          6.102841854095459,
          6.102841377258301
         ]
        },
        {
         "mode": "lines",
         "name": "Actual Price",
         "type": "scatter",
         "x": [
          "2022-07-06T15:26:00",
          "2022-07-06T15:27:00",
          "2022-07-06T15:28:00",
          "2022-07-06T15:29:00",
          "2022-07-06T15:30:00",
          "2022-07-06T15:31:00",
          "2022-07-06T15:32:00",
          "2022-07-06T15:33:00",
          "2022-07-06T15:34:00",
          "2022-07-06T15:35:00",
          "2022-07-06T15:38:00",
          "2022-07-06T15:40:00",
          "2022-07-06T15:42:00",
          "2022-07-06T15:45:00",
          "2022-07-06T15:46:00",
          "2022-07-06T15:48:00",
          "2022-07-06T15:49:00",
          "2022-07-06T15:50:00",
          "2022-07-06T15:51:00",
          "2022-07-06T15:52:00",
          "2022-07-06T15:54:00",
          "2022-07-06T15:55:00",
          "2022-07-06T15:56:00",
          "2022-07-06T15:58:00",
          "2022-07-06T15:59:00",
          "2022-07-06T16:02:00",
          "2022-07-06T16:03:00",
          "2022-07-06T16:04:00",
          "2022-07-06T16:05:00",
          "2022-07-06T16:06:00",
          "2022-07-06T16:07:00",
          "2022-07-06T16:08:00",
          "2022-07-06T16:10:00",
          "2022-07-06T16:11:00",
          "2022-07-06T16:12:00",
          "2022-07-06T16:13:00",
          "2022-07-06T16:14:00",
          "2022-07-06T16:16:00",
          "2022-07-06T16:18:00",
          "2022-07-06T16:19:00",
          "2022-07-06T16:22:00",
          "2022-07-06T16:24:00",
          "2022-07-06T16:26:00",
          "2022-07-06T16:27:00",
          "2022-07-06T16:28:00",
          "2022-07-06T16:29:00",
          "2022-07-06T16:30:00",
          "2022-07-06T16:31:00",
          "2022-07-06T16:32:00",
          "2022-07-06T16:33:00",
          "2022-07-06T16:34:00",
          "2022-07-06T16:35:00",
          "2022-07-06T16:36:00",
          "2022-07-06T16:37:00",
          "2022-07-06T16:38:00"
         ],
         "y": [
          5.0254,
          5.072,
          5.0871,
          5.0925,
          5.0655,
          5.0524,
          5.0408,
          5.0903,
          5.0788,
          5.096,
          5.0743,
          5.0768,
          5.0648,
          5.0643,
          5.0934,
          5.1128,
          5.099,
          5.1003,
          5.0819,
          5.1178,
          5.1721,
          5.1656,
          5.1306,
          5.1202,
          5.1375,
          5.1407,
          5.1237,
          5.1095,
          5.1393,
          5.1314,
          5.1234,
          5.1482,
          5.1455,
          5.1437,
          5.113,
          5.0927,
          5.0626,
          5.0834,
          5.0709,
          5.0601,
          5.0622,
          5.0568,
          5.0588,
          5.0581,
          5.0663,
          5.0885,
          5.0977,
          5.0889,
          5.0865,
          5.0679,
          5.0757,
          5.0817,
          5.1142,
          5.1257,
          5.1437
         ]
        }
       ],
       "layout": {
        "template": {
         "data": {
          "bar": [
           {
            "error_x": {
             "color": "#2a3f5f"
            },
            "error_y": {
             "color": "#2a3f5f"
            },
            "marker": {
             "line": {
              "color": "#E5ECF6",
              "width": 0.5
             },
             "pattern": {
              "fillmode": "overlay",
              "size": 10,
              "solidity": 0.2
             }
            },
            "type": "bar"
           }
          ],
          "barpolar": [
           {
            "marker": {
             "line": {
              "color": "#E5ECF6",
              "width": 0.5
             },
             "pattern": {
              "fillmode": "overlay",
              "size": 10,
              "solidity": 0.2
             }
            },
            "type": "barpolar"
           }
          ],
          "carpet": [
           {
            "aaxis": {
             "endlinecolor": "#2a3f5f",
             "gridcolor": "white",
             "linecolor": "white",
             "minorgridcolor": "white",
             "startlinecolor": "#2a3f5f"
            },
            "baxis": {
             "endlinecolor": "#2a3f5f",
             "gridcolor": "white",
             "linecolor": "white",
             "minorgridcolor": "white",
             "startlinecolor": "#2a3f5f"
            },
            "type": "carpet"
           }
          ],
          "choropleth": [
           {
            "colorbar": {
             "outlinewidth": 0,
             "ticks": ""
            },
            "type": "choropleth"
           }
          ],
          "contour": [
           {
            "colorbar": {
             "outlinewidth": 0,
             "ticks": ""
            },
            "colorscale": [
             [
              0,
              "#0d0887"
             ],
             [
              0.1111111111111111,
              "#46039f"
             ],
             [
              0.2222222222222222,
              "#7201a8"
             ],
             [
              0.3333333333333333,
              "#9c179e"
             ],
             [
              0.4444444444444444,
              "#bd3786"
             ],
             [
              0.5555555555555556,
              "#d8576b"
             ],
             [
              0.6666666666666666,
              "#ed7953"
             ],
             [
              0.7777777777777778,
              "#fb9f3a"
             ],
             [
              0.8888888888888888,
              "#fdca26"
             ],
             [
              1,
              "#f0f921"
             ]
            ],
            "type": "contour"
           }
          ],
          "contourcarpet": [
           {
            "colorbar": {
             "outlinewidth": 0,
             "ticks": ""
            },
            "type": "contourcarpet"
           }
          ],
          "heatmap": [
           {
            "colorbar": {
             "outlinewidth": 0,
             "ticks": ""
            },
            "colorscale": [
             [
              0,
              "#0d0887"
             ],
             [
              0.1111111111111111,
              "#46039f"
             ],
             [
              0.2222222222222222,
              "#7201a8"
             ],
             [
              0.3333333333333333,
              "#9c179e"
             ],
             [
              0.4444444444444444,
              "#bd3786"
             ],
             [
              0.5555555555555556,
              "#d8576b"
             ],
             [
              0.6666666666666666,
              "#ed7953"
             ],
             [
              0.7777777777777778,
              "#fb9f3a"
             ],
             [
              0.8888888888888888,
              "#fdca26"
             ],
             [
              1,
              "#f0f921"
             ]
            ],
            "type": "heatmap"
           }
          ],
          "heatmapgl": [
           {
            "colorbar": {
             "outlinewidth": 0,
             "ticks": ""
            },
            "colorscale": [
             [
              0,
              "#0d0887"
             ],
             [
              0.1111111111111111,
              "#46039f"
             ],
             [
              0.2222222222222222,
              "#7201a8"
             ],
             [
              0.3333333333333333,
              "#9c179e"
             ],
             [
              0.4444444444444444,
              "#bd3786"
             ],
             [
              0.5555555555555556,
              "#d8576b"
             ],
             [
              0.6666666666666666,
              "#ed7953"
             ],
             [
              0.7777777777777778,
              "#fb9f3a"
             ],
             [
              0.8888888888888888,
              "#fdca26"
             ],
             [
              1,
              "#f0f921"
             ]
            ],
            "type": "heatmapgl"
           }
          ],
          "histogram": [
           {
            "marker": {
             "pattern": {
              "fillmode": "overlay",
              "size": 10,
              "solidity": 0.2
             }
            },
            "type": "histogram"
           }
          ],
          "histogram2d": [
           {
            "colorbar": {
             "outlinewidth": 0,
             "ticks": ""
            },
            "colorscale": [
             [
              0,
              "#0d0887"
             ],
             [
              0.1111111111111111,
              "#46039f"
             ],
             [
              0.2222222222222222,
              "#7201a8"
             ],
             [
              0.3333333333333333,
              "#9c179e"
             ],
             [
              0.4444444444444444,
              "#bd3786"
             ],
             [
              0.5555555555555556,
              "#d8576b"
             ],
             [
              0.6666666666666666,
              "#ed7953"
             ],
             [
              0.7777777777777778,
              "#fb9f3a"
             ],
             [
              0.8888888888888888,
              "#fdca26"
             ],
             [
              1,
              "#f0f921"
             ]
            ],
            "type": "histogram2d"
           }
          ],
          "histogram2dcontour": [
           {
            "colorbar": {
             "outlinewidth": 0,
             "ticks": ""
            },
            "colorscale": [
             [
              0,
              "#0d0887"
             ],
             [
              0.1111111111111111,
              "#46039f"
             ],
             [
              0.2222222222222222,
              "#7201a8"
             ],
             [
              0.3333333333333333,
              "#9c179e"
             ],
             [
              0.4444444444444444,
              "#bd3786"
             ],
             [
              0.5555555555555556,
              "#d8576b"
             ],
             [
              0.6666666666666666,
              "#ed7953"
             ],
             [
              0.7777777777777778,
              "#fb9f3a"
             ],
             [
              0.8888888888888888,
              "#fdca26"
             ],
             [
              1,
              "#f0f921"
             ]
            ],
            "type": "histogram2dcontour"
           }
          ],
          "mesh3d": [
           {
            "colorbar": {
             "outlinewidth": 0,
             "ticks": ""
            },
            "type": "mesh3d"
           }
          ],
          "parcoords": [
           {
            "line": {
             "colorbar": {
              "outlinewidth": 0,
              "ticks": ""
             }
            },
            "type": "parcoords"
           }
          ],
          "pie": [
           {
            "automargin": true,
            "type": "pie"
           }
          ],
          "scatter": [
           {
            "marker": {
             "colorbar": {
              "outlinewidth": 0,
              "ticks": ""
             }
            },
            "type": "scatter"
           }
          ],
          "scatter3d": [
           {
            "line": {
             "colorbar": {
              "outlinewidth": 0,
              "ticks": ""
             }
            },
            "marker": {
             "colorbar": {
              "outlinewidth": 0,
              "ticks": ""
             }
            },
            "type": "scatter3d"
           }
          ],
          "scattercarpet": [
           {
            "marker": {
             "colorbar": {
              "outlinewidth": 0,
              "ticks": ""
             }
            },
            "type": "scattercarpet"
           }
          ],
          "scattergeo": [
           {
            "marker": {
             "colorbar": {
              "outlinewidth": 0,
              "ticks": ""
             }
            },
            "type": "scattergeo"
           }
          ],
          "scattergl": [
           {
            "marker": {
             "colorbar": {
              "outlinewidth": 0,
              "ticks": ""
             }
            },
            "type": "scattergl"
           }
          ],
          "scattermapbox": [
           {
            "marker": {
             "colorbar": {
              "outlinewidth": 0,
              "ticks": ""
             }
            },
            "type": "scattermapbox"
           }
          ],
          "scatterpolar": [
           {
            "marker": {
             "colorbar": {
              "outlinewidth": 0,
              "ticks": ""
             }
            },
            "type": "scatterpolar"
           }
          ],
          "scatterpolargl": [
           {
            "marker": {
             "colorbar": {
              "outlinewidth": 0,
              "ticks": ""
             }
            },
            "type": "scatterpolargl"
           }
          ],
          "scatterternary": [
           {
            "marker": {
             "colorbar": {
              "outlinewidth": 0,
              "ticks": ""
             }
            },
            "type": "scatterternary"
           }
          ],
          "surface": [
           {
            "colorbar": {
             "outlinewidth": 0,
             "ticks": ""
            },
            "colorscale": [
             [
              0,
              "#0d0887"
             ],
             [
              0.1111111111111111,
              "#46039f"
             ],
             [
              0.2222222222222222,
              "#7201a8"
             ],
             [
              0.3333333333333333,
              "#9c179e"
             ],
             [
              0.4444444444444444,
              "#bd3786"
             ],
             [
              0.5555555555555556,
              "#d8576b"
             ],
             [
              0.6666666666666666,
              "#ed7953"
             ],
             [
              0.7777777777777778,
              "#fb9f3a"
             ],
             [
              0.8888888888888888,
              "#fdca26"
             ],
             [
              1,
              "#f0f921"
             ]
            ],
            "type": "surface"
           }
          ],
          "table": [
           {
            "cells": {
             "fill": {
              "color": "#EBF0F8"
             },
             "line": {
              "color": "white"
             }
            },
            "header": {
             "fill": {
              "color": "#C8D4E3"
             },
             "line": {
              "color": "white"
             }
            },
            "type": "table"
           }
          ]
         },
         "layout": {
          "annotationdefaults": {
           "arrowcolor": "#2a3f5f",
           "arrowhead": 0,
           "arrowwidth": 1
          },
          "autotypenumbers": "strict",
          "coloraxis": {
           "colorbar": {
            "outlinewidth": 0,
            "ticks": ""
           }
          },
          "colorscale": {
           "diverging": [
            [
             0,
             "#8e0152"
            ],
            [
             0.1,
             "#c51b7d"
            ],
            [
             0.2,
             "#de77ae"
            ],
            [
             0.3,
             "#f1b6da"
            ],
            [
             0.4,
             "#fde0ef"
            ],
            [
             0.5,
             "#f7f7f7"
            ],
            [
             0.6,
             "#e6f5d0"
            ],
            [
             0.7,
             "#b8e186"
            ],
            [
             0.8,
             "#7fbc41"
            ],
            [
             0.9,
             "#4d9221"
            ],
            [
             1,
             "#276419"
            ]
           ],
           "sequential": [
            [
             0,
             "#0d0887"
            ],
            [
             0.1111111111111111,
             "#46039f"
            ],
            [
             0.2222222222222222,
             "#7201a8"
            ],
            [
             0.3333333333333333,
             "#9c179e"
            ],
            [
             0.4444444444444444,
             "#bd3786"
            ],
            [
             0.5555555555555556,
             "#d8576b"
            ],
            [
             0.6666666666666666,
             "#ed7953"
            ],
            [
             0.7777777777777778,
             "#fb9f3a"
            ],
            [
             0.8888888888888888,
             "#fdca26"
            ],
            [
             1,
             "#f0f921"
            ]
           ],
           "sequentialminus": [
            [
             0,
             "#0d0887"
            ],
            [
             0.1111111111111111,
             "#46039f"
            ],
            [
             0.2222222222222222,
             "#7201a8"
            ],
            [
             0.3333333333333333,
             "#9c179e"
            ],
            [
             0.4444444444444444,
             "#bd3786"
            ],
            [
             0.5555555555555556,
             "#d8576b"
            ],
            [
             0.6666666666666666,
             "#ed7953"
            ],
            [
             0.7777777777777778,
             "#fb9f3a"
            ],
            [
             0.8888888888888888,
             "#fdca26"
            ],
            [
             1,
             "#f0f921"
            ]
           ]
          },
          "colorway": [
           "#636efa",
           "#EF553B",
           "#00cc96",
           "#ab63fa",
           "#FFA15A",
           "#19d3f3",
           "#FF6692",
           "#B6E880",
           "#FF97FF",
           "#FECB52"
          ],
          "font": {
           "color": "#2a3f5f"
          },
          "geo": {
           "bgcolor": "white",
           "lakecolor": "white",
           "landcolor": "#E5ECF6",
           "showlakes": true,
           "showland": true,
           "subunitcolor": "white"
          },
          "hoverlabel": {
           "align": "left"
          },
          "hovermode": "closest",
          "mapbox": {
           "style": "light"
          },
          "paper_bgcolor": "white",
          "plot_bgcolor": "#E5ECF6",
          "polar": {
           "angularaxis": {
            "gridcolor": "white",
            "linecolor": "white",
            "ticks": ""
           },
           "bgcolor": "#E5ECF6",
           "radialaxis": {
            "gridcolor": "white",
            "linecolor": "white",
            "ticks": ""
           }
          },
          "scene": {
           "xaxis": {
            "backgroundcolor": "#E5ECF6",
            "gridcolor": "white",
            "gridwidth": 2,
            "linecolor": "white",
            "showbackground": true,
            "ticks": "",
            "zerolinecolor": "white"
           },
           "yaxis": {
            "backgroundcolor": "#E5ECF6",
            "gridcolor": "white",
            "gridwidth": 2,
            "linecolor": "white",
            "showbackground": true,
            "ticks": "",
            "zerolinecolor": "white"
           },
           "zaxis": {
            "backgroundcolor": "#E5ECF6",
            "gridcolor": "white",
            "gridwidth": 2,
            "linecolor": "white",
            "showbackground": true,
            "ticks": "",
            "zerolinecolor": "white"
           }
          },
          "shapedefaults": {
           "line": {
            "color": "#2a3f5f"
           }
          },
          "ternary": {
           "aaxis": {
            "gridcolor": "white",
            "linecolor": "white",
            "ticks": ""
           },
           "baxis": {
            "gridcolor": "white",
            "linecolor": "white",
            "ticks": ""
           },
           "bgcolor": "#E5ECF6",
           "caxis": {
            "gridcolor": "white",
            "linecolor": "white",
            "ticks": ""
           }
          },
          "title": {
           "x": 0.05
          },
          "xaxis": {
           "automargin": true,
           "gridcolor": "white",
           "linecolor": "white",
           "ticks": "",
           "title": {
            "standoff": 15
           },
           "zerolinecolor": "white",
           "zerolinewidth": 2
          },
          "yaxis": {
           "automargin": true,
           "gridcolor": "white",
           "linecolor": "white",
           "ticks": "",
           "title": {
            "standoff": 15
           },
           "zerolinecolor": "white",
           "zerolinewidth": 2
          }
         }
        },
        "title": {
         "text": "Predicted Price vs Actual Price for 'apeusd'"
        },
        "xaxis": {
         "title": {
          "text": "Time"
         }
        },
        "yaxis": {
         "range": [
          0,
          7.102841854095459
         ],
         "title": {
          "text": "Actual Price ($)"
         }
        }
       }
      }
     },
     "metadata": {},
     "output_type": "display_data"
    }
   ],
   "source": [
    "print(len(test_predictions[0]))\n",
    "print()\n",
    "def ave_percentage_error(y_true, y_pred):\n",
    "    return np.mean(np.abs((y_true - y_pred) / y_true)) * 100\n",
    "#print(ave_percentage_error(price_test_y, forecast_price))\n",
    "\n",
    "fig = go.Figure(layout_yaxis_range=[0,max(forecast_price+1) ])\n",
    "pred_line = go.Scatter(x=time_test_y[:len(forecast_price)], y=forecast_price, mode = 'lines', name = 'Predicted Price')\n",
    "fig.add_trace(pred_line)\n",
    "\n",
    "fig.add_trace(go.Scatter(x=time_test_y[:len(forecast_price)], y=price_test_x[:len(forecast_price)], mode = 'lines', name = 'Actual Price'))\n",
    "\n",
    "fig.update_layout(xaxis_title=\"Time\", yaxis_title=\"Actual Price ($)\", title=f\"Predicted Price vs Actual Price for '{crypto_name}'\")\n",
    "\n",
    "#fig.write_json('LSTM_figures/'+f\"{fig_name}_{crypto_name}_predicted_price_test.json\")\n",
    "fig.show()\n",
    "\n"
   ]
  },
  {
   "cell_type": "code",
   "execution_count": 260,
   "metadata": {},
   "outputs": [],
   "source": [
    "\n",
    "def forecast_prices(most_recent_time, most_recent_data):\n",
    "    fig = go.Figure(layout_yaxis_range=[0,max(forecast_price+1) ])\n",
    "    forecast = crypto_price_model.predict(most_recent_data).detach().numpy()\n",
    "    forecast = np.array([num for num in forecast]).flatten()\n",
    "    td = most_recent_time + timedelta(minutes=len(forecast))\n",
    "    #print(td)\n",
    "    forecast_time = [td + timedelta(minutes=i) for i in range(len(forecast))]\n",
    "    \n",
    "    pred_line = go.Scatter(x=forecast_time, y=forecast, mode = 'lines', name = 'Predicted Price')\n",
    "\n",
    "    fig.add_trace(pred_line)\n",
    "    fig.update_layout(xaxis_title=\"Time\", yaxis_title=\"Price ($)\", title=f\"Forecasted Price for '{crypto_name}'\")\n",
    "    #fig.show()\n",
    "    return fig\n"
   ]
  },
  {
   "cell_type": "code",
   "execution_count": 261,
   "metadata": {},
   "outputs": [],
   "source": [
    "def save_figure_as_json(fig, fig_name):\n",
    "    if not os.path.exists('LSTM_figures'):\n",
    "        os.mkdir('LSTM_figures')\n",
    "    fig.write_json('LSTM_figures/'+f'{fig_name}_{crypto_name}.json')\n",
    "save_figure_as_json(fig, 'test_predictions')"
   ]
  },
  {
   "cell_type": "code",
   "execution_count": 262,
   "metadata": {},
   "outputs": [
    {
     "name": "stdout",
     "output_type": "stream",
     "text": [
      "2022-07-21 15:47:00\n",
      "[*********************100%***********************]  1 of 1 completed\n"
     ]
    }
   ],
   "source": [
    "now = datetime.now().replace(second = 0, microsecond=0)\n",
    "print(now)\n",
    "ape = yf.download('APE3-USD', period = '2h', interval = '1m')\n"
   ]
  },
  {
   "cell_type": "code",
   "execution_count": 263,
   "metadata": {},
   "outputs": [
    {
     "name": "stdout",
     "output_type": "stream",
     "text": [
      "2022-07-21 15:42:00-05:00\n"
     ]
    },
    {
     "data": {
      "application/vnd.plotly.v1+json": {
       "config": {
        "plotlyServerURL": "https://plot.ly"
       },
       "data": [
        {
         "mode": "lines",
         "name": "Predicted Price",
         "type": "scatter",
         "x": [
          "2022-07-21T16:37:00-05:00",
          "2022-07-21T16:38:00-05:00",
          "2022-07-21T16:39:00-05:00",
          "2022-07-21T16:40:00-05:00",
          "2022-07-21T16:41:00-05:00",
          "2022-07-21T16:42:00-05:00",
          "2022-07-21T16:43:00-05:00",
          "2022-07-21T16:44:00-05:00",
          "2022-07-21T16:45:00-05:00",
          "2022-07-21T16:46:00-05:00",
          "2022-07-21T16:47:00-05:00",
          "2022-07-21T16:48:00-05:00",
          "2022-07-21T16:49:00-05:00",
          "2022-07-21T16:50:00-05:00",
          "2022-07-21T16:51:00-05:00",
          "2022-07-21T16:52:00-05:00",
          "2022-07-21T16:53:00-05:00",
          "2022-07-21T16:54:00-05:00",
          "2022-07-21T16:55:00-05:00",
          "2022-07-21T16:56:00-05:00",
          "2022-07-21T16:57:00-05:00",
          "2022-07-21T16:58:00-05:00",
          "2022-07-21T16:59:00-05:00",
          "2022-07-21T17:00:00-05:00",
          "2022-07-21T17:01:00-05:00",
          "2022-07-21T17:02:00-05:00",
          "2022-07-21T17:03:00-05:00",
          "2022-07-21T17:04:00-05:00",
          "2022-07-21T17:05:00-05:00",
          "2022-07-21T17:06:00-05:00",
          "2022-07-21T17:07:00-05:00",
          "2022-07-21T17:08:00-05:00",
          "2022-07-21T17:09:00-05:00",
          "2022-07-21T17:10:00-05:00",
          "2022-07-21T17:11:00-05:00",
          "2022-07-21T17:12:00-05:00",
          "2022-07-21T17:13:00-05:00",
          "2022-07-21T17:14:00-05:00",
          "2022-07-21T17:15:00-05:00",
          "2022-07-21T17:16:00-05:00",
          "2022-07-21T17:17:00-05:00",
          "2022-07-21T17:18:00-05:00",
          "2022-07-21T17:19:00-05:00",
          "2022-07-21T17:20:00-05:00",
          "2022-07-21T17:21:00-05:00",
          "2022-07-21T17:22:00-05:00",
          "2022-07-21T17:23:00-05:00",
          "2022-07-21T17:24:00-05:00",
          "2022-07-21T17:25:00-05:00",
          "2022-07-21T17:26:00-05:00",
          "2022-07-21T17:27:00-05:00",
          "2022-07-21T17:28:00-05:00",
          "2022-07-21T17:29:00-05:00",
          "2022-07-21T17:30:00-05:00",
          "2022-07-21T17:31:00-05:00"
         ],
         "y": [
          0.17807568609714508,
          0.17807568609714508,
          0.17807568609714508,
          0.17807568609714508,
          0.17807568609714508,
          0.17807568609714508,
          0.17807568609714508,
          0.17807568609714508,
          0.17807568609714508,
          0.17807568609714508,
          0.17807568609714508,
          0.17807568609714508,
          0.17807568609714508,
          0.17807568609714508,
          0.17807568609714508,
          0.17807568609714508,
          0.17807568609714508,
          0.17807568609714508,
          0.17807568609714508,
          0.17807568609714508,
          0.17807568609714508,
          0.17807568609714508,
          0.17807568609714508,
          0.17807568609714508,
          0.17807568609714508,
          0.17807568609714508,
          0.17807568609714508,
          0.17807568609714508,
          0.17807568609714508,
          0.17807568609714508,
          0.17807568609714508,
          0.17807568609714508,
          0.17807568609714508,
          0.17807568609714508,
          0.17807568609714508,
          0.17807568609714508,
          0.17807568609714508,
          0.17807568609714508,
          0.17807568609714508,
          0.17807568609714508,
          0.17807568609714508,
          0.17807568609714508,
          0.17807568609714508,
          0.17807568609714508,
          0.17807568609714508,
          0.17807568609714508,
          0.17807568609714508,
          0.17807568609714508,
          0.17807568609714508,
          0.17807568609714508,
          0.17807568609714508,
          0.17807568609714508,
          0.17807568609714508,
          0.17807568609714508,
          0.17807568609714508
         ]
        }
       ],
       "layout": {
        "template": {
         "data": {
          "bar": [
           {
            "error_x": {
             "color": "#2a3f5f"
            },
            "error_y": {
             "color": "#2a3f5f"
            },
            "marker": {
             "line": {
              "color": "#E5ECF6",
              "width": 0.5
             },
             "pattern": {
              "fillmode": "overlay",
              "size": 10,
              "solidity": 0.2
             }
            },
            "type": "bar"
           }
          ],
          "barpolar": [
           {
            "marker": {
             "line": {
              "color": "#E5ECF6",
              "width": 0.5
             },
             "pattern": {
              "fillmode": "overlay",
              "size": 10,
              "solidity": 0.2
             }
            },
            "type": "barpolar"
           }
          ],
          "carpet": [
           {
            "aaxis": {
             "endlinecolor": "#2a3f5f",
             "gridcolor": "white",
             "linecolor": "white",
             "minorgridcolor": "white",
             "startlinecolor": "#2a3f5f"
            },
            "baxis": {
             "endlinecolor": "#2a3f5f",
             "gridcolor": "white",
             "linecolor": "white",
             "minorgridcolor": "white",
             "startlinecolor": "#2a3f5f"
            },
            "type": "carpet"
           }
          ],
          "choropleth": [
           {
            "colorbar": {
             "outlinewidth": 0,
             "ticks": ""
            },
            "type": "choropleth"
           }
          ],
          "contour": [
           {
            "colorbar": {
             "outlinewidth": 0,
             "ticks": ""
            },
            "colorscale": [
             [
              0,
              "#0d0887"
             ],
             [
              0.1111111111111111,
              "#46039f"
             ],
             [
              0.2222222222222222,
              "#7201a8"
             ],
             [
              0.3333333333333333,
              "#9c179e"
             ],
             [
              0.4444444444444444,
              "#bd3786"
             ],
             [
              0.5555555555555556,
              "#d8576b"
             ],
             [
              0.6666666666666666,
              "#ed7953"
             ],
             [
              0.7777777777777778,
              "#fb9f3a"
             ],
             [
              0.8888888888888888,
              "#fdca26"
             ],
             [
              1,
              "#f0f921"
             ]
            ],
            "type": "contour"
           }
          ],
          "contourcarpet": [
           {
            "colorbar": {
             "outlinewidth": 0,
             "ticks": ""
            },
            "type": "contourcarpet"
           }
          ],
          "heatmap": [
           {
            "colorbar": {
             "outlinewidth": 0,
             "ticks": ""
            },
            "colorscale": [
             [
              0,
              "#0d0887"
             ],
             [
              0.1111111111111111,
              "#46039f"
             ],
             [
              0.2222222222222222,
              "#7201a8"
             ],
             [
              0.3333333333333333,
              "#9c179e"
             ],
             [
              0.4444444444444444,
              "#bd3786"
             ],
             [
              0.5555555555555556,
              "#d8576b"
             ],
             [
              0.6666666666666666,
              "#ed7953"
             ],
             [
              0.7777777777777778,
              "#fb9f3a"
             ],
             [
              0.8888888888888888,
              "#fdca26"
             ],
             [
              1,
              "#f0f921"
             ]
            ],
            "type": "heatmap"
           }
          ],
          "heatmapgl": [
           {
            "colorbar": {
             "outlinewidth": 0,
             "ticks": ""
            },
            "colorscale": [
             [
              0,
              "#0d0887"
             ],
             [
              0.1111111111111111,
              "#46039f"
             ],
             [
              0.2222222222222222,
              "#7201a8"
             ],
             [
              0.3333333333333333,
              "#9c179e"
             ],
             [
              0.4444444444444444,
              "#bd3786"
             ],
             [
              0.5555555555555556,
              "#d8576b"
             ],
             [
              0.6666666666666666,
              "#ed7953"
             ],
             [
              0.7777777777777778,
              "#fb9f3a"
             ],
             [
              0.8888888888888888,
              "#fdca26"
             ],
             [
              1,
              "#f0f921"
             ]
            ],
            "type": "heatmapgl"
           }
          ],
          "histogram": [
           {
            "marker": {
             "pattern": {
              "fillmode": "overlay",
              "size": 10,
              "solidity": 0.2
             }
            },
            "type": "histogram"
           }
          ],
          "histogram2d": [
           {
            "colorbar": {
             "outlinewidth": 0,
             "ticks": ""
            },
            "colorscale": [
             [
              0,
              "#0d0887"
             ],
             [
              0.1111111111111111,
              "#46039f"
             ],
             [
              0.2222222222222222,
              "#7201a8"
             ],
             [
              0.3333333333333333,
              "#9c179e"
             ],
             [
              0.4444444444444444,
              "#bd3786"
             ],
             [
              0.5555555555555556,
              "#d8576b"
             ],
             [
              0.6666666666666666,
              "#ed7953"
             ],
             [
              0.7777777777777778,
              "#fb9f3a"
             ],
             [
              0.8888888888888888,
              "#fdca26"
             ],
             [
              1,
              "#f0f921"
             ]
            ],
            "type": "histogram2d"
           }
          ],
          "histogram2dcontour": [
           {
            "colorbar": {
             "outlinewidth": 0,
             "ticks": ""
            },
            "colorscale": [
             [
              0,
              "#0d0887"
             ],
             [
              0.1111111111111111,
              "#46039f"
             ],
             [
              0.2222222222222222,
              "#7201a8"
             ],
             [
              0.3333333333333333,
              "#9c179e"
             ],
             [
              0.4444444444444444,
              "#bd3786"
             ],
             [
              0.5555555555555556,
              "#d8576b"
             ],
             [
              0.6666666666666666,
              "#ed7953"
             ],
             [
              0.7777777777777778,
              "#fb9f3a"
             ],
             [
              0.8888888888888888,
              "#fdca26"
             ],
             [
              1,
              "#f0f921"
             ]
            ],
            "type": "histogram2dcontour"
           }
          ],
          "mesh3d": [
           {
            "colorbar": {
             "outlinewidth": 0,
             "ticks": ""
            },
            "type": "mesh3d"
           }
          ],
          "parcoords": [
           {
            "line": {
             "colorbar": {
              "outlinewidth": 0,
              "ticks": ""
             }
            },
            "type": "parcoords"
           }
          ],
          "pie": [
           {
            "automargin": true,
            "type": "pie"
           }
          ],
          "scatter": [
           {
            "marker": {
             "colorbar": {
              "outlinewidth": 0,
              "ticks": ""
             }
            },
            "type": "scatter"
           }
          ],
          "scatter3d": [
           {
            "line": {
             "colorbar": {
              "outlinewidth": 0,
              "ticks": ""
             }
            },
            "marker": {
             "colorbar": {
              "outlinewidth": 0,
              "ticks": ""
             }
            },
            "type": "scatter3d"
           }
          ],
          "scattercarpet": [
           {
            "marker": {
             "colorbar": {
              "outlinewidth": 0,
              "ticks": ""
             }
            },
            "type": "scattercarpet"
           }
          ],
          "scattergeo": [
           {
            "marker": {
             "colorbar": {
              "outlinewidth": 0,
              "ticks": ""
             }
            },
            "type": "scattergeo"
           }
          ],
          "scattergl": [
           {
            "marker": {
             "colorbar": {
              "outlinewidth": 0,
              "ticks": ""
             }
            },
            "type": "scattergl"
           }
          ],
          "scattermapbox": [
           {
            "marker": {
             "colorbar": {
              "outlinewidth": 0,
              "ticks": ""
             }
            },
            "type": "scattermapbox"
           }
          ],
          "scatterpolar": [
           {
            "marker": {
             "colorbar": {
              "outlinewidth": 0,
              "ticks": ""
             }
            },
            "type": "scatterpolar"
           }
          ],
          "scatterpolargl": [
           {
            "marker": {
             "colorbar": {
              "outlinewidth": 0,
              "ticks": ""
             }
            },
            "type": "scatterpolargl"
           }
          ],
          "scatterternary": [
           {
            "marker": {
             "colorbar": {
              "outlinewidth": 0,
              "ticks": ""
             }
            },
            "type": "scatterternary"
           }
          ],
          "surface": [
           {
            "colorbar": {
             "outlinewidth": 0,
             "ticks": ""
            },
            "colorscale": [
             [
              0,
              "#0d0887"
             ],
             [
              0.1111111111111111,
              "#46039f"
             ],
             [
              0.2222222222222222,
              "#7201a8"
             ],
             [
              0.3333333333333333,
              "#9c179e"
             ],
             [
              0.4444444444444444,
              "#bd3786"
             ],
             [
              0.5555555555555556,
              "#d8576b"
             ],
             [
              0.6666666666666666,
              "#ed7953"
             ],
             [
              0.7777777777777778,
              "#fb9f3a"
             ],
             [
              0.8888888888888888,
              "#fdca26"
             ],
             [
              1,
              "#f0f921"
             ]
            ],
            "type": "surface"
           }
          ],
          "table": [
           {
            "cells": {
             "fill": {
              "color": "#EBF0F8"
             },
             "line": {
              "color": "white"
             }
            },
            "header": {
             "fill": {
              "color": "#C8D4E3"
             },
             "line": {
              "color": "white"
             }
            },
            "type": "table"
           }
          ]
         },
         "layout": {
          "annotationdefaults": {
           "arrowcolor": "#2a3f5f",
           "arrowhead": 0,
           "arrowwidth": 1
          },
          "autotypenumbers": "strict",
          "coloraxis": {
           "colorbar": {
            "outlinewidth": 0,
            "ticks": ""
           }
          },
          "colorscale": {
           "diverging": [
            [
             0,
             "#8e0152"
            ],
            [
             0.1,
             "#c51b7d"
            ],
            [
             0.2,
             "#de77ae"
            ],
            [
             0.3,
             "#f1b6da"
            ],
            [
             0.4,
             "#fde0ef"
            ],
            [
             0.5,
             "#f7f7f7"
            ],
            [
             0.6,
             "#e6f5d0"
            ],
            [
             0.7,
             "#b8e186"
            ],
            [
             0.8,
             "#7fbc41"
            ],
            [
             0.9,
             "#4d9221"
            ],
            [
             1,
             "#276419"
            ]
           ],
           "sequential": [
            [
             0,
             "#0d0887"
            ],
            [
             0.1111111111111111,
             "#46039f"
            ],
            [
             0.2222222222222222,
             "#7201a8"
            ],
            [
             0.3333333333333333,
             "#9c179e"
            ],
            [
             0.4444444444444444,
             "#bd3786"
            ],
            [
             0.5555555555555556,
             "#d8576b"
            ],
            [
             0.6666666666666666,
             "#ed7953"
            ],
            [
             0.7777777777777778,
             "#fb9f3a"
            ],
            [
             0.8888888888888888,
             "#fdca26"
            ],
            [
             1,
             "#f0f921"
            ]
           ],
           "sequentialminus": [
            [
             0,
             "#0d0887"
            ],
            [
             0.1111111111111111,
             "#46039f"
            ],
            [
             0.2222222222222222,
             "#7201a8"
            ],
            [
             0.3333333333333333,
             "#9c179e"
            ],
            [
             0.4444444444444444,
             "#bd3786"
            ],
            [
             0.5555555555555556,
             "#d8576b"
            ],
            [
             0.6666666666666666,
             "#ed7953"
            ],
            [
             0.7777777777777778,
             "#fb9f3a"
            ],
            [
             0.8888888888888888,
             "#fdca26"
            ],
            [
             1,
             "#f0f921"
            ]
           ]
          },
          "colorway": [
           "#636efa",
           "#EF553B",
           "#00cc96",
           "#ab63fa",
           "#FFA15A",
           "#19d3f3",
           "#FF6692",
           "#B6E880",
           "#FF97FF",
           "#FECB52"
          ],
          "font": {
           "color": "#2a3f5f"
          },
          "geo": {
           "bgcolor": "white",
           "lakecolor": "white",
           "landcolor": "#E5ECF6",
           "showlakes": true,
           "showland": true,
           "subunitcolor": "white"
          },
          "hoverlabel": {
           "align": "left"
          },
          "hovermode": "closest",
          "mapbox": {
           "style": "light"
          },
          "paper_bgcolor": "white",
          "plot_bgcolor": "#E5ECF6",
          "polar": {
           "angularaxis": {
            "gridcolor": "white",
            "linecolor": "white",
            "ticks": ""
           },
           "bgcolor": "#E5ECF6",
           "radialaxis": {
            "gridcolor": "white",
            "linecolor": "white",
            "ticks": ""
           }
          },
          "scene": {
           "xaxis": {
            "backgroundcolor": "#E5ECF6",
            "gridcolor": "white",
            "gridwidth": 2,
            "linecolor": "white",
            "showbackground": true,
            "ticks": "",
            "zerolinecolor": "white"
           },
           "yaxis": {
            "backgroundcolor": "#E5ECF6",
            "gridcolor": "white",
            "gridwidth": 2,
            "linecolor": "white",
            "showbackground": true,
            "ticks": "",
            "zerolinecolor": "white"
           },
           "zaxis": {
            "backgroundcolor": "#E5ECF6",
            "gridcolor": "white",
            "gridwidth": 2,
            "linecolor": "white",
            "showbackground": true,
            "ticks": "",
            "zerolinecolor": "white"
           }
          },
          "shapedefaults": {
           "line": {
            "color": "#2a3f5f"
           }
          },
          "ternary": {
           "aaxis": {
            "gridcolor": "white",
            "linecolor": "white",
            "ticks": ""
           },
           "baxis": {
            "gridcolor": "white",
            "linecolor": "white",
            "ticks": ""
           },
           "bgcolor": "#E5ECF6",
           "caxis": {
            "gridcolor": "white",
            "linecolor": "white",
            "ticks": ""
           }
          },
          "title": {
           "x": 0.05
          },
          "xaxis": {
           "automargin": true,
           "gridcolor": "white",
           "linecolor": "white",
           "ticks": "",
           "title": {
            "standoff": 15
           },
           "zerolinecolor": "white",
           "zerolinewidth": 2
          },
          "yaxis": {
           "automargin": true,
           "gridcolor": "white",
           "linecolor": "white",
           "ticks": "",
           "title": {
            "standoff": 15
           },
           "zerolinecolor": "white",
           "zerolinewidth": 2
          }
         }
        },
        "title": {
         "text": "Forecasted Price for 'apeusd'"
        },
        "xaxis": {
         "title": {
          "text": "Time"
         }
        },
        "yaxis": {
         "range": [
          0,
          7.102841854095459
         ],
         "title": {
          "text": "Price ($)"
         }
        }
       }
      }
     },
     "metadata": {},
     "output_type": "display_data"
    }
   ],
   "source": [
    "#print(ape.columns)\n",
    "#print(ape.index)\n",
    "ape.index = ape.index.tz_convert('UTC').tz_convert('US/Central')\n",
    "ape_price = ape['Close']\n",
    "last_time = ape.index[-1]\n",
    "print(last_time)\n",
    "figure = forecast_prices(last_time,ape_price)\n",
    "save_figure_as_json(figure, 'Forecast')\n",
    "figure"
   ]
  },
  {
   "cell_type": "code",
   "execution_count": 264,
   "metadata": {},
   "outputs": [],
   "source": [
    "if not os.path.exists('LSTM_parameters'):\n",
    "    os.mkdir('LSTM_parameters')\n",
    "#fig.write_html('LSTM_parameters/'+f'{crypto_name}_predicted_price.html')\n",
    "torch.save(crypto_price_model.state_dict(), f'LSTM_parameters/{crypto_name}_model_weights.pth')"
   ]
  },
  {
   "cell_type": "code",
   "execution_count": 265,
   "metadata": {},
   "outputs": [
    {
     "name": "stdout",
     "output_type": "stream",
     "text": [
      "cuda\n"
     ]
    },
    {
     "data": {
      "text/plain": [
       "<All keys matched successfully>"
      ]
     },
     "execution_count": 265,
     "metadata": {},
     "output_type": "execute_result"
    }
   ],
   "source": [
    "device = torch.device('cuda' if torch.cuda.is_available() else 'cpu')\n",
    "print(device)\n",
    "crypto_price_model.load_state_dict(torch.load(f'LSTM_parameters/{crypto_name}_model_weights.pth',))"
   ]
  },
  {
   "cell_type": "code",
   "execution_count": 266,
   "metadata": {},
   "outputs": [],
   "source": [
    "avax_ticker = yf.Ticker('AVAX-USD')\n",
    "\n"
   ]
  },
  {
   "cell_type": "code",
   "execution_count": 267,
   "metadata": {},
   "outputs": [
    {
     "data": {
      "text/plain": [
       "{'companyOfficers': [],\n",
       " 'twitter': '\"https://twitter.com/AvalancheAVAX\"',\n",
       " 'name': 'Avalanche',\n",
       " 'startDate': 1594598400,\n",
       " 'description': 'Avalanche (AVAX) is a cryptocurrency launched in 2020. Avalanche has a current supply of 404,229,626.49901325 with 283,873,625.31382555 in circulation. The last known price of Avalanche is 23.83551455 USD and is down -5.45 over the last 24 hours. It is currently trading on 285 active market(s) with $1,038,774,291.09 traded over the last 24 hours. More information can be found at https://avax.network/.',\n",
       " 'maxAge': 1,\n",
       " 'exchange': 'CCC',\n",
       " 'shortName': 'Avalanche USD',\n",
       " 'exchangeTimezoneName': 'UTC',\n",
       " 'exchangeTimezoneShortName': 'UTC',\n",
       " 'isEsgPopulated': False,\n",
       " 'gmtOffSetMilliseconds': '0',\n",
       " 'quoteType': 'CRYPTOCURRENCY',\n",
       " 'symbol': 'AVAX-USD',\n",
       " 'messageBoardId': 'finmb_AVAX_CCC',\n",
       " 'market': 'ccc_market',\n",
       " 'previousClose': 23.628454,\n",
       " 'regularMarketOpen': 23.628454,\n",
       " 'twoHundredDayAverage': 58.840977,\n",
       " 'trailingAnnualDividendYield': None,\n",
       " 'payoutRatio': None,\n",
       " 'volume24Hr': 812259200,\n",
       " 'regularMarketDayHigh': 25.359224,\n",
       " 'navPrice': None,\n",
       " 'averageDailyVolume10Day': 688846916,\n",
       " 'totalAssets': None,\n",
       " 'regularMarketPreviousClose': 23.628454,\n",
       " 'fiftyDayAverage': 19.683575,\n",
       " 'trailingAnnualDividendRate': None,\n",
       " 'open': 23.628454,\n",
       " 'toCurrency': 'USD=X',\n",
       " 'averageVolume10days': 688846916,\n",
       " 'expireDate': None,\n",
       " 'yield': None,\n",
       " 'algorithm': None,\n",
       " 'dividendRate': None,\n",
       " 'exDividendDate': None,\n",
       " 'beta': None,\n",
       " 'circulatingSupply': 283876736,\n",
       " 'regularMarketDayLow': 22.773851,\n",
       " 'priceHint': 2,\n",
       " 'currency': 'USD',\n",
       " 'regularMarketVolume': 812259200,\n",
       " 'lastMarket': 'CoinMarketCap',\n",
       " 'maxSupply': None,\n",
       " 'openInterest': None,\n",
       " 'marketCap': 7171726848,\n",
       " 'volumeAllCurrencies': 812259200,\n",
       " 'strikePrice': None,\n",
       " 'averageVolume': 698222809,\n",
       " 'priceToSalesTrailing12Months': None,\n",
       " 'dayLow': 22.773851,\n",
       " 'ask': None,\n",
       " 'ytdReturn': None,\n",
       " 'askSize': None,\n",
       " 'volume': 812259200,\n",
       " 'fiftyTwoWeekHigh': 146.21786,\n",
       " 'forwardPE': None,\n",
       " 'fromCurrency': 'AVAX',\n",
       " 'fiveYearAvgDividendYield': None,\n",
       " 'fiftyTwoWeekLow': 10.243191,\n",
       " 'bid': None,\n",
       " 'tradeable': False,\n",
       " 'dividendYield': None,\n",
       " 'bidSize': None,\n",
       " 'dayHigh': 25.359224,\n",
       " 'coinMarketCapLink': 'https://coinmarketcap.com/currencies/avalanche',\n",
       " 'regularMarketPrice': 25.263525,\n",
       " 'preMarketPrice': None,\n",
       " 'logo_url': ''}"
      ]
     },
     "execution_count": 267,
     "metadata": {},
     "output_type": "execute_result"
    }
   ],
   "source": [
    "avax_ticker.info"
   ]
  }
 ],
 "metadata": {
  "kernelspec": {
   "display_name": "Python 3.8.12 ('cdash')",
   "language": "python",
   "name": "python3"
  },
  "language_info": {
   "codemirror_mode": {
    "name": "ipython",
    "version": 3
   },
   "file_extension": ".py",
   "mimetype": "text/x-python",
   "name": "python",
   "nbconvert_exporter": "python",
   "pygments_lexer": "ipython3",
   "version": "3.8.12"
  },
  "orig_nbformat": 4,
  "vscode": {
   "interpreter": {
    "hash": "6c248653bc0606bb5ad98e7ce728ed50a43cf3c58f96e1e3d8b3257b8bc7a005"
   }
  }
 },
 "nbformat": 4,
 "nbformat_minor": 2
}
