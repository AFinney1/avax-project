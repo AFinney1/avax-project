{
 "cells": [
  {
   "cell_type": "markdown",
   "metadata": {},
   "source": [
    "# Project Plan\n",
    "\n",
    "- [ ] Acquire Avax Price Data\n",
    "-   [ ] Acquire historical data from [CoinMarketCap](https://coinmarketcap.com/)\n",
    "-   [ ] Acquire live data from [CoinMarketCap](https://coinmarketcap.com/) \n",
    "- [ ] Use Kats to build predictive forecast model\n",
    "\n",
    "- [ ] Create a new cell"
   ]
  },
  {
   "cell_type": "code",
   "execution_count": null,
   "metadata": {},
   "outputs": [],
   "source": []
  }
 ],
 "metadata": {
  "language_info": {
   "name": "python"
  },
  "orig_nbformat": 4
 },
 "nbformat": 4,
 "nbformat_minor": 2
}
