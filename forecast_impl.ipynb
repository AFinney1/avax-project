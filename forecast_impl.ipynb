{
 "cells": [
  {
   "cell_type": "code",
   "execution_count": 40,
   "metadata": {},
   "outputs": [],
   "source": [
    "import torch\n",
    "import torch.nn.utils.prune as prune \n",
    "import numpy as np\n",
    "import plotly.express as px\n",
    "import plotly.graph_objects as go \n",
    "import pandas as pd \n",
    "import torchvision\n",
    "from torch.autograd import Variable\n",
    "import os\n",
    "from datetime import datetime, timedelta\n",
    "import yfinance as yf\n"
   ]
  },
  {
   "cell_type": "code",
   "execution_count": 41,
   "metadata": {},
   "outputs": [
    {
     "data": {
      "text/plain": [
       "True"
      ]
     },
     "execution_count": 41,
     "metadata": {},
     "output_type": "execute_result"
    }
   ],
   "source": [
    "check_gpu = torch.cuda.is_available()\n",
    "check_gpu"
   ]
  },
  {
   "cell_type": "code",
   "execution_count": 42,
   "metadata": {},
   "outputs": [],
   "source": [
    "os.environ['CUDA_LAUNCH_BLOCKING'] = \"1\""
   ]
  },
  {
   "cell_type": "code",
   "execution_count": 43,
   "metadata": {},
   "outputs": [
    {
     "data": {
      "text/plain": [
       "'NVIDIA GeForce RTX 2080 Ti'"
      ]
     },
     "execution_count": 43,
     "metadata": {},
     "output_type": "execute_result"
    }
   ],
   "source": [
    "check_devices = torch.cuda.get_device_name()\n",
    "check_devices"
   ]
  },
  {
   "cell_type": "code",
   "execution_count": 44,
   "metadata": {},
   "outputs": [],
   "source": [
    "crypto_name = 'apeusd'\n",
    "#example_ohlc_df = pd.DataFrame({\"Time\": [1, 2, 3, 4, 5, 6, 7, 8, 9, 10],\"Open\": [1, 2, 3, 4, 5, 6, 7, 8, 9, 10],\"High\": [1, 2, 3, 4, 5, 6, 7, 8, 9, 10],\"Low\": [1, 2, 3, 4, 5, 6, 7, 8, 9, 10],\"Close\": [1, 2, 3, 4, 5, 6, 7, 8, 9, 10]})\n",
    "\n",
    "ohlc_df = pd.read_csv('historical_price/' + crypto_name + '.csv')\n",
    "ohlc_df.index = pd.to_datetime(ohlc_df['time'], unit = 'ms')\n",
    "\n",
    "#ohlc_df.index = ohlc_df.index.tz_localize('UTC').tz_convert('US/Eastern')"
   ]
  },
  {
   "cell_type": "code",
   "execution_count": 45,
   "metadata": {},
   "outputs": [
    {
     "name": "stdout",
     "output_type": "stream",
     "text": [
      "DatetimeIndex(['2022-07-19 10:16:00', '2022-07-19 10:18:00',\n",
      "               '2022-07-19 10:19:00', '2022-07-19 10:20:00',\n",
      "               '2022-07-19 10:22:00'],\n",
      "              dtype='datetime64[ns]', name='time', freq=None)\n"
     ]
    },
    {
     "data": {
      "text/plain": [
       "time\n",
       "2022-07-19 10:16:00    5.7765\n",
       "2022-07-19 10:18:00    5.7755\n",
       "2022-07-19 10:19:00    5.7596\n",
       "2022-07-19 10:20:00    5.7585\n",
       "2022-07-19 10:22:00    5.7676\n",
       "Name: close, dtype: float64"
      ]
     },
     "execution_count": 45,
     "metadata": {},
     "output_type": "execute_result"
    }
   ],
   "source": [
    "price_dataset = ohlc_df.close[-1000:]\n",
    "time_index = ohlc_df.index[-1000:]\n",
    "print(time_index[-5:])\n",
    "price_dataset.tail()\n"
   ]
  },
  {
   "cell_type": "code",
   "execution_count": 46,
   "metadata": {},
   "outputs": [
    {
     "name": "stdout",
     "output_type": "stream",
     "text": [
      "200\n"
     ]
    }
   ],
   "source": [
    "price_dataset_x = price_dataset[200:]\n",
    "time_x = time_index[200:]\n",
    "price_dataset_y = price_dataset[200:400]\n",
    "time_y = time_index[200:400]\n",
    "print(len(price_dataset_y))"
   ]
  },
  {
   "cell_type": "code",
   "execution_count": 47,
   "metadata": {},
   "outputs": [],
   "source": [
    "price_test_x = price_dataset[400:600]\n",
    "time_test_x = time_index[400:600]\n",
    "price_test_y = price_dataset[600:900]\n",
    "time_test_y = time_index[600:900]\n",
    "price_test_val = price_dataset[900:1000]\n",
    "time_test_val = time_index[900:1000]"
   ]
  },
  {
   "cell_type": "code",
   "execution_count": 48,
   "metadata": {},
   "outputs": [],
   "source": [
    "seq_len = 10\n",
    "batch_size = 55"
   ]
  },
  {
   "cell_type": "code",
   "execution_count": 49,
   "metadata": {},
   "outputs": [],
   "source": [
    "class TimeSeriesDataset(torch.utils.data.Dataset):\n",
    "    def __init__(self, X, y, seq_len=5):\n",
    "        self.X = torch.tensor(X, dtype = torch.float32)\n",
    "        self.y = torch.tensor(y, dtype = torch.float32)\n",
    "        self.seq_len = seq_len\n",
    "    def __len__(self):\n",
    "        return self.X.__len__() - (self.seq_len - 1)\n",
    "\n",
    "    def __getitem__(self, index):\n",
    "        #print(len(self.y))\n",
    "        X = self.X[index:index+self.seq_len]\n",
    "        try:\n",
    "            y = self.y[index+self.seq_len]\n",
    "        except:\n",
    "            y = self.y[self.seq_len]\n",
    "        return X, y"
   ]
  },
  {
   "cell_type": "code",
   "execution_count": 50,
   "metadata": {},
   "outputs": [],
   "source": [
    "train_dataset = TimeSeriesDataset(price_dataset_x, price_dataset_y, seq_len=seq_len)\n",
    "test_dataset = TimeSeriesDataset(price_test_x, price_test_y, seq_len=seq_len)\n",
    "#val_dataset = TimeSeriesDataset(price_test_val, price_test_y, seq_len=seq_len)"
   ]
  },
  {
   "cell_type": "code",
   "execution_count": 51,
   "metadata": {},
   "outputs": [],
   "source": [
    "train_loader = torch.utils.data.DataLoader(\n",
    "    train_dataset,\n",
    "    batch_size=batch_size,\n",
    "    drop_last = True, \n",
    "    shuffle=False)\n",
    "\n",
    "test_loader = torch.utils.data.DataLoader(\n",
    "    test_dataset, \n",
    "    batch_size=batch_size, \n",
    "    drop_last=True,\n",
    "    shuffle=False)"
   ]
  },
  {
   "cell_type": "code",
   "execution_count": 52,
   "metadata": {},
   "outputs": [],
   "source": [
    "class LSTM_Model(torch.nn.Module):\n",
    "    def __init__(self, input_dim , hidden_size , num_layers, batch_size):\n",
    "        super(LSTM_Model, self).__init__()\n",
    "        self.num_layers = num_layers\n",
    "        self.input_size = input_dim\n",
    "        self.hidden_size = hidden_size\n",
    "        self.batch_size = batch_size\n",
    "        self.lstm = torch.nn.LSTM(input_size=input_dim , hidden_size = hidden_size , num_layers= num_layers )\n",
    "        self.fc = torch.nn.Linear(hidden_size,1)\n",
    "\n",
    "    def forward(self,x,hn,cn):\n",
    "        out , (hn,cn) = self.lstm(x , (hn,cn))\n",
    "        final_out = self.fc(out[-1])\n",
    "        return final_out,hn,cn\n",
    "\n",
    "    def predict(self,x):\n",
    "        hn,cn  = self.init()\n",
    "        final_out = self.fc(hn[-1])\n",
    "        return final_out\n",
    "\n",
    "    def init(self):\n",
    "        h0 =  torch.zeros(self.num_layers , self.batch_size , self.hidden_size)\n",
    "        c0 =  torch.zeros(self.num_layers , self.batch_size , self.hidden_size)\n",
    "        return h0 , c0\n",
    "\n",
    "\n",
    "#device = torch.device('cpu')\n",
    "#print(device)\n",
    "\n",
    "input_dim = 1\n",
    "hidden_size = seq_len\n",
    "num_layers = 3\n",
    "crypto_price_model = LSTM_Model(input_dim, hidden_size, num_layers, batch_size)\n",
    "\n",
    "\n",
    "crypto_price_model#.to(device)\n",
    "\n",
    "loss_function = torch.nn.MSELoss() # Criterion, I believe CrossEntropyLoss has SoftMax built-in so I used it here, this is why my last layer doesn't have a softmax\n",
    "optimizer  = torch.optim.Adam(crypto_price_model.parameters(), lr=0.017) # used adaptive moment estimation to optimize the model"
   ]
  },
  {
   "cell_type": "code",
   "execution_count": 53,
   "metadata": {},
   "outputs": [],
   "source": [
    "#training loop\n",
    "def train(dataloader, model):\n",
    "    predictions = []\n",
    "    loss_list = []\n",
    "    hn , cn = model.init()\n",
    "    model.train()\n",
    "    for batch , item in enumerate(dataloader):\n",
    "        x , y = item\n",
    "        y = y.type(torch.FloatTensor)\n",
    "        #x = x.to(device)\n",
    "        #y = y.to(device)\n",
    "        out , hn , cn = model(x.reshape(seq_len,batch_size,-1),hn,cn)\n",
    "        out = out.view(-1)\n",
    "        # print(out.shape)\n",
    "        # print(y.shape)\n",
    "        loss = loss_function(out.reshape(batch_size) , y)\n",
    "        hn = hn.detach()\n",
    "        cn = cn.detach()\n",
    "        optimizer.zero_grad()\n",
    "        loss.backward()\n",
    "        optimizer.step()\n",
    "        print(f'Training Loss: {loss.item()}')\n",
    "        if batch == len(dataloader)-1:\n",
    "            loss = loss.item()\n",
    "            print(f\"Train loss: {loss:>7f} \")\n",
    "        loss_list.append(loss)\n",
    "        predictions.append(out.detach().numpy())\n",
    "        return predictions, loss_list\n",
    "        "
   ]
  },
  {
   "cell_type": "code",
   "execution_count": 54,
   "metadata": {},
   "outputs": [],
   "source": [
    "def test(dataloader, model):\n",
    "    predictions = []\n",
    "    loss_list = []\n",
    "    hn , cn = model.init()\n",
    "    model.eval()\n",
    "    for batch , item in enumerate(dataloader):\n",
    "        x , y = item\n",
    "        y = y.type(torch.FloatTensor)\n",
    "        #x = x.to(device)\n",
    "        #y = y.to(device)\n",
    "        out , hn , cn = model(x.reshape(seq_len,batch_size,1),hn,cn)\n",
    "        loss = loss_function(out.reshape(batch_size) , y)\n",
    "        print(f\"test loss: {loss.item():>7f} \")\n",
    "        if batch == len(dataloader)-1:\n",
    "            loss = loss.item()\n",
    "            print(f\"Test loss: {loss:>7f} \")\n",
    "        predictions.append(out.detach().numpy())\n",
    "        loss_list.append(loss)\n",
    "        return predictions, loss_list"
   ]
  },
  {
   "cell_type": "code",
   "execution_count": 55,
   "metadata": {},
   "outputs": [
    {
     "name": "stdout",
     "output_type": "stream",
     "text": [
      "Epoch 1: \n",
      "Training Loss: 31.774856567382812\n",
      "Epoch 2: \n",
      "Training Loss: 30.099302291870117\n",
      "Epoch 3: \n",
      "Training Loss: 28.33785057067871\n",
      "Epoch 4: \n",
      "Training Loss: 26.355173110961914\n",
      "Epoch 5: \n",
      "Training Loss: 24.01873016357422\n",
      "Epoch 6: \n",
      "Training Loss: 21.365036010742188\n",
      "Epoch 7: \n",
      "Training Loss: 18.806747436523438\n",
      "Epoch 8: \n",
      "Training Loss: 16.566299438476562\n",
      "Epoch 9: \n",
      "Training Loss: 14.579123497009277\n",
      "Epoch 10: \n",
      "Training Loss: 12.779038429260254\n",
      "Epoch 11: \n",
      "Training Loss: 11.140388488769531\n",
      "Epoch 12: \n",
      "Training Loss: 9.66594123840332\n",
      "Epoch 13: \n",
      "Training Loss: 8.350886344909668\n",
      "Epoch 14: \n",
      "Training Loss: 7.17581033706665\n",
      "Epoch 15: \n",
      "Training Loss: 6.1217169761657715\n",
      "Epoch 16: \n",
      "Training Loss: 5.173968315124512\n",
      "Epoch 17: \n",
      "Training Loss: 4.319900035858154\n",
      "Epoch 18: \n",
      "Training Loss: 3.5499789714813232\n",
      "Epoch 19: \n",
      "Training Loss: 2.8592920303344727\n",
      "Epoch 20: \n",
      "Training Loss: 2.2464587688446045\n",
      "Epoch 21: \n",
      "Training Loss: 1.7117023468017578\n",
      "Epoch 22: \n",
      "Training Loss: 1.2555007934570312\n",
      "Epoch 23: \n",
      "Training Loss: 0.8778862953186035\n",
      "Epoch 24: \n",
      "Training Loss: 0.5777539610862732\n",
      "Epoch 25: \n",
      "Training Loss: 0.3512372672557831\n",
      "Epoch 26: \n",
      "Training Loss: 0.19026833772659302\n",
      "Epoch 27: \n",
      "Training Loss: 0.08457865566015244\n",
      "Epoch 28: \n",
      "Training Loss: 0.024622388184070587\n",
      "Epoch 29: \n",
      "Training Loss: 0.0018571987748146057\n",
      "Epoch 30: \n",
      "Training Loss: 0.008217686787247658\n",
      "Epoch 31: \n",
      "Training Loss: 0.03598189726471901\n",
      "Epoch 32: \n",
      "Training Loss: 0.07789691537618637\n",
      "Epoch 33: \n",
      "Training Loss: 0.12738008797168732\n",
      "Epoch 34: \n",
      "Training Loss: 0.17872096598148346\n",
      "Epoch 35: \n",
      "Training Loss: 0.22723717987537384\n",
      "Epoch 36: \n",
      "Training Loss: 0.2693539261817932\n",
      "Epoch 37: \n",
      "Training Loss: 0.3026115298271179\n",
      "Epoch 38: \n",
      "Training Loss: 0.32558757066726685\n",
      "Epoch 39: \n",
      "Training Loss: 0.3377828001976013\n",
      "Epoch 40: \n",
      "Training Loss: 0.3394623100757599\n",
      "Epoch 41: \n",
      "Training Loss: 0.3314906358718872\n",
      "Epoch 42: \n",
      "Training Loss: 0.3151671290397644\n",
      "Epoch 43: \n",
      "Training Loss: 0.2920745611190796\n",
      "Epoch 44: \n",
      "Training Loss: 0.2639400064945221\n",
      "Epoch 45: \n",
      "Training Loss: 0.23251691460609436\n",
      "Epoch 46: \n",
      "Training Loss: 0.19948984682559967\n",
      "Epoch 47: \n",
      "Training Loss: 0.16639405488967896\n",
      "Epoch 48: \n",
      "Training Loss: 0.13455991446971893\n",
      "Epoch 49: \n",
      "Training Loss: 0.10507780313491821\n",
      "Epoch 50: \n",
      "Training Loss: 0.07877110689878464\n",
      "Epoch 51: \n",
      "Training Loss: 0.05619814619421959\n",
      "Epoch 52: \n",
      "Training Loss: 0.03765634447336197\n",
      "Epoch 53: \n",
      "Training Loss: 0.023206116631627083\n",
      "Epoch 54: \n",
      "Training Loss: 0.012699064798653126\n",
      "Epoch 55: \n",
      "Training Loss: 0.005814822856336832\n",
      "Epoch 56: \n",
      "Training Loss: 0.0021029748022556305\n",
      "Epoch 57: \n",
      "Training Loss: 0.0010249129263684154\n",
      "Epoch 58: \n",
      "Training Loss: 0.001996156992390752\n",
      "Epoch 59: \n",
      "Training Loss: 0.004424966871738434\n",
      "Epoch 60: \n",
      "Training Loss: 0.007746965158730745\n",
      "Epoch 61: \n",
      "Training Loss: 0.011451720260083675\n",
      "Epoch 62: \n",
      "Training Loss: 0.015105001628398895\n",
      "Epoch 63: \n",
      "Training Loss: 0.018361041322350502\n",
      "Epoch 64: \n",
      "Training Loss: 0.020968737080693245\n",
      "Epoch 65: \n",
      "Training Loss: 0.02277069166302681\n",
      "Epoch 66: \n",
      "Training Loss: 0.023697465658187866\n",
      "Epoch 67: \n",
      "Training Loss: 0.023756928741931915\n",
      "Epoch 68: \n",
      "Training Loss: 0.023018771782517433\n",
      "Epoch 69: \n",
      "Training Loss: 0.021601570770144463\n",
      "Epoch 70: \n",
      "Training Loss: 0.019654156640172005\n",
      "Epoch 71: \n",
      "Training Loss: 0.017341407015919685\n",
      "Epoch 72: \n",
      "Training Loss: 0.014830509200692177\n",
      "Epoch 73: \n",
      "Training Loss: 0.01227814145386219\n",
      "Epoch 74: \n",
      "Training Loss: 0.009822324849665165\n",
      "Epoch 75: \n",
      "Training Loss: 0.007574728224426508\n",
      "Epoch 76: \n",
      "Training Loss: 0.005618083290755749\n",
      "Epoch 77: \n",
      "Training Loss: 0.004004290793091059\n",
      "Epoch 78: \n",
      "Training Loss: 0.00275597651489079\n",
      "Epoch 79: \n",
      "Training Loss: 0.0018693524179980159\n",
      "Epoch 80: \n",
      "Training Loss: 0.001318490132689476\n",
      "Epoch 81: \n",
      "Training Loss: 0.0010606892174109817\n",
      "Epoch 82: \n",
      "Training Loss: 0.0010417934972792864\n",
      "Epoch 83: \n",
      "Training Loss: 0.001201897975988686\n",
      "Epoch 84: \n",
      "Training Loss: 0.0014802938094362617\n",
      "Epoch 85: \n",
      "Training Loss: 0.0018197819590568542\n",
      "Epoch 86: \n",
      "Training Loss: 0.0021700726356357336\n",
      "Epoch 87: \n",
      "Training Loss: 0.0024901225697249174\n",
      "Epoch 88: \n",
      "Training Loss: 0.0027496248949319124\n",
      "Epoch 89: \n",
      "Training Loss: 0.0029289883095771074\n",
      "Epoch 90: \n",
      "Training Loss: 0.00301922345533967\n",
      "Epoch 91: \n",
      "Training Loss: 0.0030204972717911005\n",
      "Epoch 92: \n",
      "Training Loss: 0.002940613776445389\n",
      "Epoch 93: \n",
      "Training Loss: 0.00279291532933712\n",
      "Epoch 94: \n",
      "Training Loss: 0.0025944383814930916\n",
      "Epoch 95: \n",
      "Training Loss: 0.0023639004211872816\n",
      "Epoch 96: \n",
      "Training Loss: 0.002119575161486864\n",
      "Epoch 97: \n",
      "Training Loss: 0.0018784034764394164\n",
      "Epoch 98: \n",
      "Training Loss: 0.0016545166727155447\n",
      "Epoch 99: \n",
      "Training Loss: 0.0014585703611373901\n",
      "Epoch 100: \n",
      "Training Loss: 0.0012977209407836199\n",
      "test loss: 0.004383 \n"
     ]
    }
   ],
   "source": [
    "epochs = 100\n",
    "for epoch in range(epochs):\n",
    "    print(f\"Epoch {epoch + 1}: \")\n",
    "    train(train_loader, crypto_price_model)\n",
    "test_predictions = test(test_loader, crypto_price_model)\n",
    "#print(test_predictions[:][:][:][0])"
   ]
  },
  {
   "cell_type": "code",
   "execution_count": 56,
   "metadata": {},
   "outputs": [
    {
     "name": "stdout",
     "output_type": "stream",
     "text": [
      "[5.7798786 5.7798786 5.7798786 5.7798786 5.7798786 5.7798786 5.7798786\n",
      " 5.7798786 5.7798786 5.7798786 5.7798786 5.7798786 5.7798786 5.7798786\n",
      " 5.7798786 5.7798786 5.7798786 5.7798786 5.7798786 5.7798786 5.7798786\n",
      " 5.7798786 5.7798786 5.7798786 5.7798786 5.7798786 5.7798786 5.7798786\n",
      " 5.7798786 5.7798786 5.7798786 5.7798786 5.7798786 5.7798786 5.7798786\n",
      " 5.7798786 5.7798786 5.7798786 5.7798786 5.7798786 5.7798786 5.7798786\n",
      " 5.7798786 5.7798786 5.7798786 5.7798786 5.7798786 5.7798786 5.7798786\n",
      " 5.7798786 5.7798786 5.7798786 5.779879  5.779879  5.779879 ]\n"
     ]
    }
   ],
   "source": [
    "forecast_price = np.array([num for num in test_predictions[0][0]]).flatten()\n",
    "print(forecast_price)"
   ]
  },
  {
   "cell_type": "code",
   "execution_count": 57,
   "metadata": {},
   "outputs": [
    {
     "name": "stdout",
     "output_type": "stream",
     "text": [
      "1\n",
      "\n"
     ]
    },
    {
     "data": {
      "application/vnd.plotly.v1+json": {
       "config": {
        "plotlyServerURL": "https://plot.ly"
       },
       "data": [
        {
         "mode": "lines",
         "name": "Predicted Price",
         "type": "scatter",
         "x": [
          "2022-07-19T01:37:00",
          "2022-07-19T01:38:00",
          "2022-07-19T01:39:00",
          "2022-07-19T01:40:00",
          "2022-07-19T01:42:00",
          "2022-07-19T01:43:00",
          "2022-07-19T01:44:00",
          "2022-07-19T01:45:00",
          "2022-07-19T01:46:00",
          "2022-07-19T01:48:00",
          "2022-07-19T01:49:00",
          "2022-07-19T01:53:00",
          "2022-07-19T01:54:00",
          "2022-07-19T01:55:00",
          "2022-07-19T01:56:00",
          "2022-07-19T01:57:00",
          "2022-07-19T01:58:00",
          "2022-07-19T02:00:00",
          "2022-07-19T02:01:00",
          "2022-07-19T02:03:00",
          "2022-07-19T02:04:00",
          "2022-07-19T02:05:00",
          "2022-07-19T02:06:00",
          "2022-07-19T02:08:00",
          "2022-07-19T02:09:00",
          "2022-07-19T02:10:00",
          "2022-07-19T02:11:00",
          "2022-07-19T02:12:00",
          "2022-07-19T02:13:00",
          "2022-07-19T02:15:00",
          "2022-07-19T02:17:00",
          "2022-07-19T02:18:00",
          "2022-07-19T02:19:00",
          "2022-07-19T02:21:00",
          "2022-07-19T02:22:00",
          "2022-07-19T02:23:00",
          "2022-07-19T02:24:00",
          "2022-07-19T02:25:00",
          "2022-07-19T02:27:00",
          "2022-07-19T02:28:00",
          "2022-07-19T02:29:00",
          "2022-07-19T02:31:00",
          "2022-07-19T02:33:00",
          "2022-07-19T02:36:00",
          "2022-07-19T02:37:00",
          "2022-07-19T02:39:00",
          "2022-07-19T02:40:00",
          "2022-07-19T02:41:00",
          "2022-07-19T02:42:00",
          "2022-07-19T02:43:00",
          "2022-07-19T02:44:00",
          "2022-07-19T02:46:00",
          "2022-07-19T02:47:00",
          "2022-07-19T02:50:00",
          "2022-07-19T02:51:00"
         ],
         "y": [
          5.779878616333008,
          5.779878616333008,
          5.779878616333008,
          5.779878616333008,
          5.779878616333008,
          5.779878616333008,
          5.779878616333008,
          5.779878616333008,
          5.779878616333008,
          5.779878616333008,
          5.779878616333008,
          5.779878616333008,
          5.779878616333008,
          5.779878616333008,
          5.779878616333008,
          5.779878616333008,
          5.779878616333008,
          5.779878616333008,
          5.779878616333008,
          5.779878616333008,
          5.779878616333008,
          5.779878616333008,
          5.779878616333008,
          5.779878616333008,
          5.779878616333008,
          5.779878616333008,
          5.779878616333008,
          5.779878616333008,
          5.779878616333008,
          5.779878616333008,
          5.779878616333008,
          5.779878616333008,
          5.779878616333008,
          5.779878616333008,
          5.779878616333008,
          5.779878616333008,
          5.779878616333008,
          5.779878616333008,
          5.779878616333008,
          5.779878616333008,
          5.779878616333008,
          5.779878616333008,
          5.779878616333008,
          5.779878616333008,
          5.779878616333008,
          5.779878616333008,
          5.779878616333008,
          5.779878616333008,
          5.779878616333008,
          5.779878616333008,
          5.779878616333008,
          5.779878616333008,
          5.779879093170166,
          5.779879093170166,
          5.779879093170166
         ]
        },
        {
         "mode": "lines",
         "name": "Actual Price",
         "type": "scatter",
         "x": [
          "2022-07-19T01:37:00",
          "2022-07-19T01:38:00",
          "2022-07-19T01:39:00",
          "2022-07-19T01:40:00",
          "2022-07-19T01:42:00",
          "2022-07-19T01:43:00",
          "2022-07-19T01:44:00",
          "2022-07-19T01:45:00",
          "2022-07-19T01:46:00",
          "2022-07-19T01:48:00",
          "2022-07-19T01:49:00",
          "2022-07-19T01:53:00",
          "2022-07-19T01:54:00",
          "2022-07-19T01:55:00",
          "2022-07-19T01:56:00",
          "2022-07-19T01:57:00",
          "2022-07-19T01:58:00",
          "2022-07-19T02:00:00",
          "2022-07-19T02:01:00",
          "2022-07-19T02:03:00",
          "2022-07-19T02:04:00",
          "2022-07-19T02:05:00",
          "2022-07-19T02:06:00",
          "2022-07-19T02:08:00",
          "2022-07-19T02:09:00",
          "2022-07-19T02:10:00",
          "2022-07-19T02:11:00",
          "2022-07-19T02:12:00",
          "2022-07-19T02:13:00",
          "2022-07-19T02:15:00",
          "2022-07-19T02:17:00",
          "2022-07-19T02:18:00",
          "2022-07-19T02:19:00",
          "2022-07-19T02:21:00",
          "2022-07-19T02:22:00",
          "2022-07-19T02:23:00",
          "2022-07-19T02:24:00",
          "2022-07-19T02:25:00",
          "2022-07-19T02:27:00",
          "2022-07-19T02:28:00",
          "2022-07-19T02:29:00",
          "2022-07-19T02:31:00",
          "2022-07-19T02:33:00",
          "2022-07-19T02:36:00",
          "2022-07-19T02:37:00",
          "2022-07-19T02:39:00",
          "2022-07-19T02:40:00",
          "2022-07-19T02:41:00",
          "2022-07-19T02:42:00",
          "2022-07-19T02:43:00",
          "2022-07-19T02:44:00",
          "2022-07-19T02:46:00",
          "2022-07-19T02:47:00",
          "2022-07-19T02:50:00",
          "2022-07-19T02:51:00"
         ],
         "y": [
          5.6912,
          5.7165,
          5.7289,
          5.7352,
          5.7632,
          5.7462,
          5.7403,
          5.7565,
          5.7662,
          5.759,
          5.7666,
          5.7607,
          5.7426,
          5.7519,
          5.7419,
          5.7366,
          5.7347,
          5.7119,
          5.7158,
          5.7372,
          5.7507,
          5.7491,
          5.7471,
          5.7441,
          5.7491,
          5.7543,
          5.7444,
          5.7463,
          5.7556,
          5.7597,
          5.7527,
          5.7591,
          5.7652,
          5.78,
          5.7834,
          5.7986,
          5.7855,
          5.7949,
          5.7836,
          5.7736,
          5.833,
          5.8208,
          5.8367,
          5.829,
          5.8187,
          5.8117,
          5.8013,
          5.7789,
          5.7926,
          5.7857,
          5.7787,
          5.767,
          5.7506,
          5.739,
          5.7271
         ]
        }
       ],
       "layout": {
        "template": {
         "data": {
          "bar": [
           {
            "error_x": {
             "color": "#2a3f5f"
            },
            "error_y": {
             "color": "#2a3f5f"
            },
            "marker": {
             "line": {
              "color": "#E5ECF6",
              "width": 0.5
             },
             "pattern": {
              "fillmode": "overlay",
              "size": 10,
              "solidity": 0.2
             }
            },
            "type": "bar"
           }
          ],
          "barpolar": [
           {
            "marker": {
             "line": {
              "color": "#E5ECF6",
              "width": 0.5
             },
             "pattern": {
              "fillmode": "overlay",
              "size": 10,
              "solidity": 0.2
             }
            },
            "type": "barpolar"
           }
          ],
          "carpet": [
           {
            "aaxis": {
             "endlinecolor": "#2a3f5f",
             "gridcolor": "white",
             "linecolor": "white",
             "minorgridcolor": "white",
             "startlinecolor": "#2a3f5f"
            },
            "baxis": {
             "endlinecolor": "#2a3f5f",
             "gridcolor": "white",
             "linecolor": "white",
             "minorgridcolor": "white",
             "startlinecolor": "#2a3f5f"
            },
            "type": "carpet"
           }
          ],
          "choropleth": [
           {
            "colorbar": {
             "outlinewidth": 0,
             "ticks": ""
            },
            "type": "choropleth"
           }
          ],
          "contour": [
           {
            "colorbar": {
             "outlinewidth": 0,
             "ticks": ""
            },
            "colorscale": [
             [
              0,
              "#0d0887"
             ],
             [
              0.1111111111111111,
              "#46039f"
             ],
             [
              0.2222222222222222,
              "#7201a8"
             ],
             [
              0.3333333333333333,
              "#9c179e"
             ],
             [
              0.4444444444444444,
              "#bd3786"
             ],
             [
              0.5555555555555556,
              "#d8576b"
             ],
             [
              0.6666666666666666,
              "#ed7953"
             ],
             [
              0.7777777777777778,
              "#fb9f3a"
             ],
             [
              0.8888888888888888,
              "#fdca26"
             ],
             [
              1,
              "#f0f921"
             ]
            ],
            "type": "contour"
           }
          ],
          "contourcarpet": [
           {
            "colorbar": {
             "outlinewidth": 0,
             "ticks": ""
            },
            "type": "contourcarpet"
           }
          ],
          "heatmap": [
           {
            "colorbar": {
             "outlinewidth": 0,
             "ticks": ""
            },
            "colorscale": [
             [
              0,
              "#0d0887"
             ],
             [
              0.1111111111111111,
              "#46039f"
             ],
             [
              0.2222222222222222,
              "#7201a8"
             ],
             [
              0.3333333333333333,
              "#9c179e"
             ],
             [
              0.4444444444444444,
              "#bd3786"
             ],
             [
              0.5555555555555556,
              "#d8576b"
             ],
             [
              0.6666666666666666,
              "#ed7953"
             ],
             [
              0.7777777777777778,
              "#fb9f3a"
             ],
             [
              0.8888888888888888,
              "#fdca26"
             ],
             [
              1,
              "#f0f921"
             ]
            ],
            "type": "heatmap"
           }
          ],
          "heatmapgl": [
           {
            "colorbar": {
             "outlinewidth": 0,
             "ticks": ""
            },
            "colorscale": [
             [
              0,
              "#0d0887"
             ],
             [
              0.1111111111111111,
              "#46039f"
             ],
             [
              0.2222222222222222,
              "#7201a8"
             ],
             [
              0.3333333333333333,
              "#9c179e"
             ],
             [
              0.4444444444444444,
              "#bd3786"
             ],
             [
              0.5555555555555556,
              "#d8576b"
             ],
             [
              0.6666666666666666,
              "#ed7953"
             ],
             [
              0.7777777777777778,
              "#fb9f3a"
             ],
             [
              0.8888888888888888,
              "#fdca26"
             ],
             [
              1,
              "#f0f921"
             ]
            ],
            "type": "heatmapgl"
           }
          ],
          "histogram": [
           {
            "marker": {
             "pattern": {
              "fillmode": "overlay",
              "size": 10,
              "solidity": 0.2
             }
            },
            "type": "histogram"
           }
          ],
          "histogram2d": [
           {
            "colorbar": {
             "outlinewidth": 0,
             "ticks": ""
            },
            "colorscale": [
             [
              0,
              "#0d0887"
             ],
             [
              0.1111111111111111,
              "#46039f"
             ],
             [
              0.2222222222222222,
              "#7201a8"
             ],
             [
              0.3333333333333333,
              "#9c179e"
             ],
             [
              0.4444444444444444,
              "#bd3786"
             ],
             [
              0.5555555555555556,
              "#d8576b"
             ],
             [
              0.6666666666666666,
              "#ed7953"
             ],
             [
              0.7777777777777778,
              "#fb9f3a"
             ],
             [
              0.8888888888888888,
              "#fdca26"
             ],
             [
              1,
              "#f0f921"
             ]
            ],
            "type": "histogram2d"
           }
          ],
          "histogram2dcontour": [
           {
            "colorbar": {
             "outlinewidth": 0,
             "ticks": ""
            },
            "colorscale": [
             [
              0,
              "#0d0887"
             ],
             [
              0.1111111111111111,
              "#46039f"
             ],
             [
              0.2222222222222222,
              "#7201a8"
             ],
             [
              0.3333333333333333,
              "#9c179e"
             ],
             [
              0.4444444444444444,
              "#bd3786"
             ],
             [
              0.5555555555555556,
              "#d8576b"
             ],
             [
              0.6666666666666666,
              "#ed7953"
             ],
             [
              0.7777777777777778,
              "#fb9f3a"
             ],
             [
              0.8888888888888888,
              "#fdca26"
             ],
             [
              1,
              "#f0f921"
             ]
            ],
            "type": "histogram2dcontour"
           }
          ],
          "mesh3d": [
           {
            "colorbar": {
             "outlinewidth": 0,
             "ticks": ""
            },
            "type": "mesh3d"
           }
          ],
          "parcoords": [
           {
            "line": {
             "colorbar": {
              "outlinewidth": 0,
              "ticks": ""
             }
            },
            "type": "parcoords"
           }
          ],
          "pie": [
           {
            "automargin": true,
            "type": "pie"
           }
          ],
          "scatter": [
           {
            "marker": {
             "colorbar": {
              "outlinewidth": 0,
              "ticks": ""
             }
            },
            "type": "scatter"
           }
          ],
          "scatter3d": [
           {
            "line": {
             "colorbar": {
              "outlinewidth": 0,
              "ticks": ""
             }
            },
            "marker": {
             "colorbar": {
              "outlinewidth": 0,
              "ticks": ""
             }
            },
            "type": "scatter3d"
           }
          ],
          "scattercarpet": [
           {
            "marker": {
             "colorbar": {
              "outlinewidth": 0,
              "ticks": ""
             }
            },
            "type": "scattercarpet"
           }
          ],
          "scattergeo": [
           {
            "marker": {
             "colorbar": {
              "outlinewidth": 0,
              "ticks": ""
             }
            },
            "type": "scattergeo"
           }
          ],
          "scattergl": [
           {
            "marker": {
             "colorbar": {
              "outlinewidth": 0,
              "ticks": ""
             }
            },
            "type": "scattergl"
           }
          ],
          "scattermapbox": [
           {
            "marker": {
             "colorbar": {
              "outlinewidth": 0,
              "ticks": ""
             }
            },
            "type": "scattermapbox"
           }
          ],
          "scatterpolar": [
           {
            "marker": {
             "colorbar": {
              "outlinewidth": 0,
              "ticks": ""
             }
            },
            "type": "scatterpolar"
           }
          ],
          "scatterpolargl": [
           {
            "marker": {
             "colorbar": {
              "outlinewidth": 0,
              "ticks": ""
             }
            },
            "type": "scatterpolargl"
           }
          ],
          "scatterternary": [
           {
            "marker": {
             "colorbar": {
              "outlinewidth": 0,
              "ticks": ""
             }
            },
            "type": "scatterternary"
           }
          ],
          "surface": [
           {
            "colorbar": {
             "outlinewidth": 0,
             "ticks": ""
            },
            "colorscale": [
             [
              0,
              "#0d0887"
             ],
             [
              0.1111111111111111,
              "#46039f"
             ],
             [
              0.2222222222222222,
              "#7201a8"
             ],
             [
              0.3333333333333333,
              "#9c179e"
             ],
             [
              0.4444444444444444,
              "#bd3786"
             ],
             [
              0.5555555555555556,
              "#d8576b"
             ],
             [
              0.6666666666666666,
              "#ed7953"
             ],
             [
              0.7777777777777778,
              "#fb9f3a"
             ],
             [
              0.8888888888888888,
              "#fdca26"
             ],
             [
              1,
              "#f0f921"
             ]
            ],
            "type": "surface"
           }
          ],
          "table": [
           {
            "cells": {
             "fill": {
              "color": "#EBF0F8"
             },
             "line": {
              "color": "white"
             }
            },
            "header": {
             "fill": {
              "color": "#C8D4E3"
             },
             "line": {
              "color": "white"
             }
            },
            "type": "table"
           }
          ]
         },
         "layout": {
          "annotationdefaults": {
           "arrowcolor": "#2a3f5f",
           "arrowhead": 0,
           "arrowwidth": 1
          },
          "autotypenumbers": "strict",
          "coloraxis": {
           "colorbar": {
            "outlinewidth": 0,
            "ticks": ""
           }
          },
          "colorscale": {
           "diverging": [
            [
             0,
             "#8e0152"
            ],
            [
             0.1,
             "#c51b7d"
            ],
            [
             0.2,
             "#de77ae"
            ],
            [
             0.3,
             "#f1b6da"
            ],
            [
             0.4,
             "#fde0ef"
            ],
            [
             0.5,
             "#f7f7f7"
            ],
            [
             0.6,
             "#e6f5d0"
            ],
            [
             0.7,
             "#b8e186"
            ],
            [
             0.8,
             "#7fbc41"
            ],
            [
             0.9,
             "#4d9221"
            ],
            [
             1,
             "#276419"
            ]
           ],
           "sequential": [
            [
             0,
             "#0d0887"
            ],
            [
             0.1111111111111111,
             "#46039f"
            ],
            [
             0.2222222222222222,
             "#7201a8"
            ],
            [
             0.3333333333333333,
             "#9c179e"
            ],
            [
             0.4444444444444444,
             "#bd3786"
            ],
            [
             0.5555555555555556,
             "#d8576b"
            ],
            [
             0.6666666666666666,
             "#ed7953"
            ],
            [
             0.7777777777777778,
             "#fb9f3a"
            ],
            [
             0.8888888888888888,
             "#fdca26"
            ],
            [
             1,
             "#f0f921"
            ]
           ],
           "sequentialminus": [
            [
             0,
             "#0d0887"
            ],
            [
             0.1111111111111111,
             "#46039f"
            ],
            [
             0.2222222222222222,
             "#7201a8"
            ],
            [
             0.3333333333333333,
             "#9c179e"
            ],
            [
             0.4444444444444444,
             "#bd3786"
            ],
            [
             0.5555555555555556,
             "#d8576b"
            ],
            [
             0.6666666666666666,
             "#ed7953"
            ],
            [
             0.7777777777777778,
             "#fb9f3a"
            ],
            [
             0.8888888888888888,
             "#fdca26"
            ],
            [
             1,
             "#f0f921"
            ]
           ]
          },
          "colorway": [
           "#636efa",
           "#EF553B",
           "#00cc96",
           "#ab63fa",
           "#FFA15A",
           "#19d3f3",
           "#FF6692",
           "#B6E880",
           "#FF97FF",
           "#FECB52"
          ],
          "font": {
           "color": "#2a3f5f"
          },
          "geo": {
           "bgcolor": "white",
           "lakecolor": "white",
           "landcolor": "#E5ECF6",
           "showlakes": true,
           "showland": true,
           "subunitcolor": "white"
          },
          "hoverlabel": {
           "align": "left"
          },
          "hovermode": "closest",
          "mapbox": {
           "style": "light"
          },
          "paper_bgcolor": "white",
          "plot_bgcolor": "#E5ECF6",
          "polar": {
           "angularaxis": {
            "gridcolor": "white",
            "linecolor": "white",
            "ticks": ""
           },
           "bgcolor": "#E5ECF6",
           "radialaxis": {
            "gridcolor": "white",
            "linecolor": "white",
            "ticks": ""
           }
          },
          "scene": {
           "xaxis": {
            "backgroundcolor": "#E5ECF6",
            "gridcolor": "white",
            "gridwidth": 2,
            "linecolor": "white",
            "showbackground": true,
            "ticks": "",
            "zerolinecolor": "white"
           },
           "yaxis": {
            "backgroundcolor": "#E5ECF6",
            "gridcolor": "white",
            "gridwidth": 2,
            "linecolor": "white",
            "showbackground": true,
            "ticks": "",
            "zerolinecolor": "white"
           },
           "zaxis": {
            "backgroundcolor": "#E5ECF6",
            "gridcolor": "white",
            "gridwidth": 2,
            "linecolor": "white",
            "showbackground": true,
            "ticks": "",
            "zerolinecolor": "white"
           }
          },
          "shapedefaults": {
           "line": {
            "color": "#2a3f5f"
           }
          },
          "ternary": {
           "aaxis": {
            "gridcolor": "white",
            "linecolor": "white",
            "ticks": ""
           },
           "baxis": {
            "gridcolor": "white",
            "linecolor": "white",
            "ticks": ""
           },
           "bgcolor": "#E5ECF6",
           "caxis": {
            "gridcolor": "white",
            "linecolor": "white",
            "ticks": ""
           }
          },
          "title": {
           "x": 0.05
          },
          "xaxis": {
           "automargin": true,
           "gridcolor": "white",
           "linecolor": "white",
           "ticks": "",
           "title": {
            "standoff": 15
           },
           "zerolinecolor": "white",
           "zerolinewidth": 2
          },
          "yaxis": {
           "automargin": true,
           "gridcolor": "white",
           "linecolor": "white",
           "ticks": "",
           "title": {
            "standoff": 15
           },
           "zerolinecolor": "white",
           "zerolinewidth": 2
          }
         }
        },
        "title": {
         "text": "Predicted Price vs Actual Price for 'apeusd'"
        },
        "xaxis": {
         "title": {
          "text": "Time"
         }
        },
        "yaxis": {
         "title": {
          "text": "Actual Price ($)"
         }
        }
       }
      }
     },
     "metadata": {},
     "output_type": "display_data"
    }
   ],
   "source": [
    "print(len(test_predictions[0]))\n",
    "print()\n",
    "def ave_percentage_error(y_true, y_pred):\n",
    "    return np.mean(np.abs((y_true - y_pred) / y_true)) * 100\n",
    "#print(ave_percentage_error(price_test_y, forecast_price))\n",
    "\n",
    "fig = go.Figure()\n",
    "pred_line = go.Scatter(x=time_test_y[:len(forecast_price)], y=forecast_price, mode = 'lines', name = 'Predicted Price')\n",
    "fig.add_trace(pred_line)\n",
    "\n",
    "fig.add_trace(go.Scatter(x=time_test_y[:len(forecast_price)], y=price_test_val[:len(forecast_price)], mode = 'lines', name = 'Actual Price'))\n",
    "\n",
    "fig.update_layout(xaxis_title=\"Time\", yaxis_title=\"Actual Price ($)\", title=f\"Predicted Price vs Actual Price for '{crypto_name}'\")\n",
    "fig.write_json(\"'LSTM_figures/'+f'{fig_name}_{crypto_name}_predicted_price_test.json\")\n",
    "fig.show()\n",
    "\n"
   ]
  },
  {
   "cell_type": "code",
   "execution_count": 84,
   "metadata": {},
   "outputs": [],
   "source": [
    "\n",
    "def forecast_prices(most_recent_time, most_recent_data):\n",
    "    fig = go.Figure()\n",
    "    forecast = crypto_price_model.predict(most_recent_data).detach().numpy()\n",
    "    forecast = np.array([num for num in forecast]).flatten()\n",
    "    td = most_recent_time + timedelta(minutes=len(forecast))\n",
    "    #print(td)\n",
    "    forecast_time = [td + timedelta(minutes=i) for i in range(len(forecast))]\n",
    "    \n",
    "    pred_line = go.Scatter(x=forecast_time, y=forecast, mode = 'lines', name = 'Predicted Price')\n",
    "\n",
    "    fig.add_trace(pred_line)\n",
    "    fig.update_layout(xaxis_title=\"Time\", yaxis_title=\"Price ($)\", title=f\"Forecasted Price for '{crypto_name}'\")\n",
    "    #fig.show()\n",
    "    return fig\n"
   ]
  },
  {
   "cell_type": "code",
   "execution_count": 97,
   "metadata": {},
   "outputs": [],
   "source": [
    "def save_figure_as_json(fig, fig_name):\n",
    "    if not os.path.exists('LSTM_figures'):\n",
    "        os.mkdir('LSTM_figures')\n",
    "    fig.write_json('LSTM_figures/'+f'{fig_name}_{crypto_name}.json')\n",
    "save_figure_as_json(fig, 'test_predictions')"
   ]
  },
  {
   "cell_type": "code",
   "execution_count": 93,
   "metadata": {},
   "outputs": [
    {
     "name": "stdout",
     "output_type": "stream",
     "text": [
      "2022-07-19 17:36:00\n",
      "[*********************100%***********************]  1 of 1 completed\n"
     ]
    }
   ],
   "source": [
    "now = datetime.now().replace(second = 0, microsecond=0)\n",
    "print(now)\n",
    "ape = yf.download('APE3-USD', period = '2h', interval = '1m')\n"
   ]
  },
  {
   "cell_type": "code",
   "execution_count": 99,
   "metadata": {},
   "outputs": [
    {
     "name": "stdout",
     "output_type": "stream",
     "text": [
      "2022-07-19 17:31:00-05:00\n"
     ]
    },
    {
     "data": {
      "application/vnd.plotly.v1+json": {
       "config": {
        "plotlyServerURL": "https://plot.ly"
       },
       "data": [
        {
         "mode": "lines",
         "name": "Predicted Price",
         "type": "scatter",
         "x": [
          "2022-07-19T18:26:00-05:00",
          "2022-07-19T18:27:00-05:00",
          "2022-07-19T18:28:00-05:00",
          "2022-07-19T18:29:00-05:00",
          "2022-07-19T18:30:00-05:00",
          "2022-07-19T18:31:00-05:00",
          "2022-07-19T18:32:00-05:00",
          "2022-07-19T18:33:00-05:00",
          "2022-07-19T18:34:00-05:00",
          "2022-07-19T18:35:00-05:00",
          "2022-07-19T18:36:00-05:00",
          "2022-07-19T18:37:00-05:00",
          "2022-07-19T18:38:00-05:00",
          "2022-07-19T18:39:00-05:00",
          "2022-07-19T18:40:00-05:00",
          "2022-07-19T18:41:00-05:00",
          "2022-07-19T18:42:00-05:00",
          "2022-07-19T18:43:00-05:00",
          "2022-07-19T18:44:00-05:00",
          "2022-07-19T18:45:00-05:00",
          "2022-07-19T18:46:00-05:00",
          "2022-07-19T18:47:00-05:00",
          "2022-07-19T18:48:00-05:00",
          "2022-07-19T18:49:00-05:00",
          "2022-07-19T18:50:00-05:00",
          "2022-07-19T18:51:00-05:00",
          "2022-07-19T18:52:00-05:00",
          "2022-07-19T18:53:00-05:00",
          "2022-07-19T18:54:00-05:00",
          "2022-07-19T18:55:00-05:00",
          "2022-07-19T18:56:00-05:00",
          "2022-07-19T18:57:00-05:00",
          "2022-07-19T18:58:00-05:00",
          "2022-07-19T18:59:00-05:00",
          "2022-07-19T19:00:00-05:00",
          "2022-07-19T19:01:00-05:00",
          "2022-07-19T19:02:00-05:00",
          "2022-07-19T19:03:00-05:00",
          "2022-07-19T19:04:00-05:00",
          "2022-07-19T19:05:00-05:00",
          "2022-07-19T19:06:00-05:00",
          "2022-07-19T19:07:00-05:00",
          "2022-07-19T19:08:00-05:00",
          "2022-07-19T19:09:00-05:00",
          "2022-07-19T19:10:00-05:00",
          "2022-07-19T19:11:00-05:00",
          "2022-07-19T19:12:00-05:00",
          "2022-07-19T19:13:00-05:00",
          "2022-07-19T19:14:00-05:00",
          "2022-07-19T19:15:00-05:00",
          "2022-07-19T19:16:00-05:00",
          "2022-07-19T19:17:00-05:00",
          "2022-07-19T19:18:00-05:00",
          "2022-07-19T19:19:00-05:00",
          "2022-07-19T19:20:00-05:00"
         ],
         "y": [
          0.4705895781517029,
          0.4705895781517029,
          0.4705895781517029,
          0.4705895781517029,
          0.4705895781517029,
          0.4705895781517029,
          0.4705895781517029,
          0.4705895781517029,
          0.4705895781517029,
          0.4705895781517029,
          0.4705895781517029,
          0.4705895781517029,
          0.4705895781517029,
          0.4705895781517029,
          0.4705895781517029,
          0.4705895781517029,
          0.4705895781517029,
          0.4705895781517029,
          0.4705895781517029,
          0.4705895781517029,
          0.4705895781517029,
          0.4705895781517029,
          0.4705895781517029,
          0.4705895781517029,
          0.4705895781517029,
          0.4705895781517029,
          0.4705895781517029,
          0.4705895781517029,
          0.4705895781517029,
          0.4705895781517029,
          0.4705895781517029,
          0.4705895781517029,
          0.4705895781517029,
          0.4705895781517029,
          0.4705895781517029,
          0.4705895781517029,
          0.4705895781517029,
          0.4705895781517029,
          0.4705895781517029,
          0.4705895781517029,
          0.4705895781517029,
          0.4705895781517029,
          0.4705895781517029,
          0.4705895781517029,
          0.4705895781517029,
          0.4705895781517029,
          0.4705895781517029,
          0.4705895781517029,
          0.4705895781517029,
          0.4705895781517029,
          0.4705895781517029,
          0.4705895781517029,
          0.4705895781517029,
          0.4705895781517029,
          0.4705895781517029
         ]
        }
       ],
       "layout": {
        "template": {
         "data": {
          "bar": [
           {
            "error_x": {
             "color": "#2a3f5f"
            },
            "error_y": {
             "color": "#2a3f5f"
            },
            "marker": {
             "line": {
              "color": "#E5ECF6",
              "width": 0.5
             },
             "pattern": {
              "fillmode": "overlay",
              "size": 10,
              "solidity": 0.2
             }
            },
            "type": "bar"
           }
          ],
          "barpolar": [
           {
            "marker": {
             "line": {
              "color": "#E5ECF6",
              "width": 0.5
             },
             "pattern": {
              "fillmode": "overlay",
              "size": 10,
              "solidity": 0.2
             }
            },
            "type": "barpolar"
           }
          ],
          "carpet": [
           {
            "aaxis": {
             "endlinecolor": "#2a3f5f",
             "gridcolor": "white",
             "linecolor": "white",
             "minorgridcolor": "white",
             "startlinecolor": "#2a3f5f"
            },
            "baxis": {
             "endlinecolor": "#2a3f5f",
             "gridcolor": "white",
             "linecolor": "white",
             "minorgridcolor": "white",
             "startlinecolor": "#2a3f5f"
            },
            "type": "carpet"
           }
          ],
          "choropleth": [
           {
            "colorbar": {
             "outlinewidth": 0,
             "ticks": ""
            },
            "type": "choropleth"
           }
          ],
          "contour": [
           {
            "colorbar": {
             "outlinewidth": 0,
             "ticks": ""
            },
            "colorscale": [
             [
              0,
              "#0d0887"
             ],
             [
              0.1111111111111111,
              "#46039f"
             ],
             [
              0.2222222222222222,
              "#7201a8"
             ],
             [
              0.3333333333333333,
              "#9c179e"
             ],
             [
              0.4444444444444444,
              "#bd3786"
             ],
             [
              0.5555555555555556,
              "#d8576b"
             ],
             [
              0.6666666666666666,
              "#ed7953"
             ],
             [
              0.7777777777777778,
              "#fb9f3a"
             ],
             [
              0.8888888888888888,
              "#fdca26"
             ],
             [
              1,
              "#f0f921"
             ]
            ],
            "type": "contour"
           }
          ],
          "contourcarpet": [
           {
            "colorbar": {
             "outlinewidth": 0,
             "ticks": ""
            },
            "type": "contourcarpet"
           }
          ],
          "heatmap": [
           {
            "colorbar": {
             "outlinewidth": 0,
             "ticks": ""
            },
            "colorscale": [
             [
              0,
              "#0d0887"
             ],
             [
              0.1111111111111111,
              "#46039f"
             ],
             [
              0.2222222222222222,
              "#7201a8"
             ],
             [
              0.3333333333333333,
              "#9c179e"
             ],
             [
              0.4444444444444444,
              "#bd3786"
             ],
             [
              0.5555555555555556,
              "#d8576b"
             ],
             [
              0.6666666666666666,
              "#ed7953"
             ],
             [
              0.7777777777777778,
              "#fb9f3a"
             ],
             [
              0.8888888888888888,
              "#fdca26"
             ],
             [
              1,
              "#f0f921"
             ]
            ],
            "type": "heatmap"
           }
          ],
          "heatmapgl": [
           {
            "colorbar": {
             "outlinewidth": 0,
             "ticks": ""
            },
            "colorscale": [
             [
              0,
              "#0d0887"
             ],
             [
              0.1111111111111111,
              "#46039f"
             ],
             [
              0.2222222222222222,
              "#7201a8"
             ],
             [
              0.3333333333333333,
              "#9c179e"
             ],
             [
              0.4444444444444444,
              "#bd3786"
             ],
             [
              0.5555555555555556,
              "#d8576b"
             ],
             [
              0.6666666666666666,
              "#ed7953"
             ],
             [
              0.7777777777777778,
              "#fb9f3a"
             ],
             [
              0.8888888888888888,
              "#fdca26"
             ],
             [
              1,
              "#f0f921"
             ]
            ],
            "type": "heatmapgl"
           }
          ],
          "histogram": [
           {
            "marker": {
             "pattern": {
              "fillmode": "overlay",
              "size": 10,
              "solidity": 0.2
             }
            },
            "type": "histogram"
           }
          ],
          "histogram2d": [
           {
            "colorbar": {
             "outlinewidth": 0,
             "ticks": ""
            },
            "colorscale": [
             [
              0,
              "#0d0887"
             ],
             [
              0.1111111111111111,
              "#46039f"
             ],
             [
              0.2222222222222222,
              "#7201a8"
             ],
             [
              0.3333333333333333,
              "#9c179e"
             ],
             [
              0.4444444444444444,
              "#bd3786"
             ],
             [
              0.5555555555555556,
              "#d8576b"
             ],
             [
              0.6666666666666666,
              "#ed7953"
             ],
             [
              0.7777777777777778,
              "#fb9f3a"
             ],
             [
              0.8888888888888888,
              "#fdca26"
             ],
             [
              1,
              "#f0f921"
             ]
            ],
            "type": "histogram2d"
           }
          ],
          "histogram2dcontour": [
           {
            "colorbar": {
             "outlinewidth": 0,
             "ticks": ""
            },
            "colorscale": [
             [
              0,
              "#0d0887"
             ],
             [
              0.1111111111111111,
              "#46039f"
             ],
             [
              0.2222222222222222,
              "#7201a8"
             ],
             [
              0.3333333333333333,
              "#9c179e"
             ],
             [
              0.4444444444444444,
              "#bd3786"
             ],
             [
              0.5555555555555556,
              "#d8576b"
             ],
             [
              0.6666666666666666,
              "#ed7953"
             ],
             [
              0.7777777777777778,
              "#fb9f3a"
             ],
             [
              0.8888888888888888,
              "#fdca26"
             ],
             [
              1,
              "#f0f921"
             ]
            ],
            "type": "histogram2dcontour"
           }
          ],
          "mesh3d": [
           {
            "colorbar": {
             "outlinewidth": 0,
             "ticks": ""
            },
            "type": "mesh3d"
           }
          ],
          "parcoords": [
           {
            "line": {
             "colorbar": {
              "outlinewidth": 0,
              "ticks": ""
             }
            },
            "type": "parcoords"
           }
          ],
          "pie": [
           {
            "automargin": true,
            "type": "pie"
           }
          ],
          "scatter": [
           {
            "marker": {
             "colorbar": {
              "outlinewidth": 0,
              "ticks": ""
             }
            },
            "type": "scatter"
           }
          ],
          "scatter3d": [
           {
            "line": {
             "colorbar": {
              "outlinewidth": 0,
              "ticks": ""
             }
            },
            "marker": {
             "colorbar": {
              "outlinewidth": 0,
              "ticks": ""
             }
            },
            "type": "scatter3d"
           }
          ],
          "scattercarpet": [
           {
            "marker": {
             "colorbar": {
              "outlinewidth": 0,
              "ticks": ""
             }
            },
            "type": "scattercarpet"
           }
          ],
          "scattergeo": [
           {
            "marker": {
             "colorbar": {
              "outlinewidth": 0,
              "ticks": ""
             }
            },
            "type": "scattergeo"
           }
          ],
          "scattergl": [
           {
            "marker": {
             "colorbar": {
              "outlinewidth": 0,
              "ticks": ""
             }
            },
            "type": "scattergl"
           }
          ],
          "scattermapbox": [
           {
            "marker": {
             "colorbar": {
              "outlinewidth": 0,
              "ticks": ""
             }
            },
            "type": "scattermapbox"
           }
          ],
          "scatterpolar": [
           {
            "marker": {
             "colorbar": {
              "outlinewidth": 0,
              "ticks": ""
             }
            },
            "type": "scatterpolar"
           }
          ],
          "scatterpolargl": [
           {
            "marker": {
             "colorbar": {
              "outlinewidth": 0,
              "ticks": ""
             }
            },
            "type": "scatterpolargl"
           }
          ],
          "scatterternary": [
           {
            "marker": {
             "colorbar": {
              "outlinewidth": 0,
              "ticks": ""
             }
            },
            "type": "scatterternary"
           }
          ],
          "surface": [
           {
            "colorbar": {
             "outlinewidth": 0,
             "ticks": ""
            },
            "colorscale": [
             [
              0,
              "#0d0887"
             ],
             [
              0.1111111111111111,
              "#46039f"
             ],
             [
              0.2222222222222222,
              "#7201a8"
             ],
             [
              0.3333333333333333,
              "#9c179e"
             ],
             [
              0.4444444444444444,
              "#bd3786"
             ],
             [
              0.5555555555555556,
              "#d8576b"
             ],
             [
              0.6666666666666666,
              "#ed7953"
             ],
             [
              0.7777777777777778,
              "#fb9f3a"
             ],
             [
              0.8888888888888888,
              "#fdca26"
             ],
             [
              1,
              "#f0f921"
             ]
            ],
            "type": "surface"
           }
          ],
          "table": [
           {
            "cells": {
             "fill": {
              "color": "#EBF0F8"
             },
             "line": {
              "color": "white"
             }
            },
            "header": {
             "fill": {
              "color": "#C8D4E3"
             },
             "line": {
              "color": "white"
             }
            },
            "type": "table"
           }
          ]
         },
         "layout": {
          "annotationdefaults": {
           "arrowcolor": "#2a3f5f",
           "arrowhead": 0,
           "arrowwidth": 1
          },
          "autotypenumbers": "strict",
          "coloraxis": {
           "colorbar": {
            "outlinewidth": 0,
            "ticks": ""
           }
          },
          "colorscale": {
           "diverging": [
            [
             0,
             "#8e0152"
            ],
            [
             0.1,
             "#c51b7d"
            ],
            [
             0.2,
             "#de77ae"
            ],
            [
             0.3,
             "#f1b6da"
            ],
            [
             0.4,
             "#fde0ef"
            ],
            [
             0.5,
             "#f7f7f7"
            ],
            [
             0.6,
             "#e6f5d0"
            ],
            [
             0.7,
             "#b8e186"
            ],
            [
             0.8,
             "#7fbc41"
            ],
            [
             0.9,
             "#4d9221"
            ],
            [
             1,
             "#276419"
            ]
           ],
           "sequential": [
            [
             0,
             "#0d0887"
            ],
            [
             0.1111111111111111,
             "#46039f"
            ],
            [
             0.2222222222222222,
             "#7201a8"
            ],
            [
             0.3333333333333333,
             "#9c179e"
            ],
            [
             0.4444444444444444,
             "#bd3786"
            ],
            [
             0.5555555555555556,
             "#d8576b"
            ],
            [
             0.6666666666666666,
             "#ed7953"
            ],
            [
             0.7777777777777778,
             "#fb9f3a"
            ],
            [
             0.8888888888888888,
             "#fdca26"
            ],
            [
             1,
             "#f0f921"
            ]
           ],
           "sequentialminus": [
            [
             0,
             "#0d0887"
            ],
            [
             0.1111111111111111,
             "#46039f"
            ],
            [
             0.2222222222222222,
             "#7201a8"
            ],
            [
             0.3333333333333333,
             "#9c179e"
            ],
            [
             0.4444444444444444,
             "#bd3786"
            ],
            [
             0.5555555555555556,
             "#d8576b"
            ],
            [
             0.6666666666666666,
             "#ed7953"
            ],
            [
             0.7777777777777778,
             "#fb9f3a"
            ],
            [
             0.8888888888888888,
             "#fdca26"
            ],
            [
             1,
             "#f0f921"
            ]
           ]
          },
          "colorway": [
           "#636efa",
           "#EF553B",
           "#00cc96",
           "#ab63fa",
           "#FFA15A",
           "#19d3f3",
           "#FF6692",
           "#B6E880",
           "#FF97FF",
           "#FECB52"
          ],
          "font": {
           "color": "#2a3f5f"
          },
          "geo": {
           "bgcolor": "white",
           "lakecolor": "white",
           "landcolor": "#E5ECF6",
           "showlakes": true,
           "showland": true,
           "subunitcolor": "white"
          },
          "hoverlabel": {
           "align": "left"
          },
          "hovermode": "closest",
          "mapbox": {
           "style": "light"
          },
          "paper_bgcolor": "white",
          "plot_bgcolor": "#E5ECF6",
          "polar": {
           "angularaxis": {
            "gridcolor": "white",
            "linecolor": "white",
            "ticks": ""
           },
           "bgcolor": "#E5ECF6",
           "radialaxis": {
            "gridcolor": "white",
            "linecolor": "white",
            "ticks": ""
           }
          },
          "scene": {
           "xaxis": {
            "backgroundcolor": "#E5ECF6",
            "gridcolor": "white",
            "gridwidth": 2,
            "linecolor": "white",
            "showbackground": true,
            "ticks": "",
            "zerolinecolor": "white"
           },
           "yaxis": {
            "backgroundcolor": "#E5ECF6",
            "gridcolor": "white",
            "gridwidth": 2,
            "linecolor": "white",
            "showbackground": true,
            "ticks": "",
            "zerolinecolor": "white"
           },
           "zaxis": {
            "backgroundcolor": "#E5ECF6",
            "gridcolor": "white",
            "gridwidth": 2,
            "linecolor": "white",
            "showbackground": true,
            "ticks": "",
            "zerolinecolor": "white"
           }
          },
          "shapedefaults": {
           "line": {
            "color": "#2a3f5f"
           }
          },
          "ternary": {
           "aaxis": {
            "gridcolor": "white",
            "linecolor": "white",
            "ticks": ""
           },
           "baxis": {
            "gridcolor": "white",
            "linecolor": "white",
            "ticks": ""
           },
           "bgcolor": "#E5ECF6",
           "caxis": {
            "gridcolor": "white",
            "linecolor": "white",
            "ticks": ""
           }
          },
          "title": {
           "x": 0.05
          },
          "xaxis": {
           "automargin": true,
           "gridcolor": "white",
           "linecolor": "white",
           "ticks": "",
           "title": {
            "standoff": 15
           },
           "zerolinecolor": "white",
           "zerolinewidth": 2
          },
          "yaxis": {
           "automargin": true,
           "gridcolor": "white",
           "linecolor": "white",
           "ticks": "",
           "title": {
            "standoff": 15
           },
           "zerolinecolor": "white",
           "zerolinewidth": 2
          }
         }
        },
        "title": {
         "text": "Forecasted Price for 'apeusd'"
        },
        "xaxis": {
         "title": {
          "text": "Time"
         }
        },
        "yaxis": {
         "title": {
          "text": "Price ($)"
         }
        }
       }
      }
     },
     "metadata": {},
     "output_type": "display_data"
    }
   ],
   "source": [
    "#print(ape.columns)\n",
    "#print(ape.index)\n",
    "ape.index = ape.index.tz_convert('UTC').tz_convert('US/Central')\n",
    "ape_price = ape['Close']\n",
    "last_time = ape.index[-1]\n",
    "print(last_time)\n",
    "figure = forecast_prices(last_time,ape_price)\n",
    "save_figure_as_json(figure, 'Forecast')\n",
    "figure"
   ]
  },
  {
   "cell_type": "code",
   "execution_count": 95,
   "metadata": {},
   "outputs": [],
   "source": [
    "if not os.path.exists('LSTM_parameters'):\n",
    "    os.mkdir('LSTM_parameters')\n",
    "#fig.write_html('LSTM_parameters/'+f'{crypto_name}_predicted_price.html')\n",
    "torch.save(crypto_price_model.state_dict(), f'LSTM_parameters/{crypto_name}_model_weights.pth')"
   ]
  },
  {
   "cell_type": "code",
   "execution_count": 96,
   "metadata": {},
   "outputs": [
    {
     "name": "stdout",
     "output_type": "stream",
     "text": [
      "cuda\n"
     ]
    },
    {
     "data": {
      "text/plain": [
       "<All keys matched successfully>"
      ]
     },
     "execution_count": 96,
     "metadata": {},
     "output_type": "execute_result"
    }
   ],
   "source": [
    "device = torch.device('cuda' if torch.cuda.is_available() else 'cpu')\n",
    "print(device)\n",
    "crypto_price_model.load_state_dict(torch.load(f'LSTM_parameters/{crypto_name}_model_weights.pth',))"
   ]
  }
 ],
 "metadata": {
  "kernelspec": {
   "display_name": "Python 3.8.13",
   "language": "python",
   "name": "python3"
  },
  "language_info": {
   "codemirror_mode": {
    "name": "ipython",
    "version": 3
   },
   "file_extension": ".py",
   "mimetype": "text/x-python",
   "name": "python",
   "nbconvert_exporter": "python",
   "pygments_lexer": "ipython3",
   "version": "3.8.13"
  },
  "orig_nbformat": 4,
  "vscode": {
   "interpreter": {
    "hash": "9cfc535063982cb54bc105cd8a1db8df6351516bd1ac835c350edc56f17e34e3"
   }
  }
 },
 "nbformat": 4,
 "nbformat_minor": 2
}
