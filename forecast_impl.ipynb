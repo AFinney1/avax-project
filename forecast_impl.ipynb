{
 "cells": [
  {
   "cell_type": "code",
   "execution_count": 397,
   "metadata": {},
   "outputs": [],
   "source": [
    "import torch\n",
    "import torch.nn.utils.prune as prune \n",
    "import numpy as np\n",
    "import plotly.express as px\n",
    "import plotly.graph_objects as go \n",
    "import pandas as pd \n",
    "import torchvision\n",
    "from torch.autograd import Variable\n",
    "import os"
   ]
  },
  {
   "cell_type": "code",
   "execution_count": 398,
   "metadata": {},
   "outputs": [
    {
     "data": {
      "text/plain": [
       "True"
      ]
     },
     "execution_count": 398,
     "metadata": {},
     "output_type": "execute_result"
    }
   ],
   "source": [
    "check_gpu = torch.cuda.is_available()\n",
    "check_gpu"
   ]
  },
  {
   "cell_type": "code",
   "execution_count": 399,
   "metadata": {},
   "outputs": [],
   "source": [
    "os.environ['CUDA_LAUNCH_BLOCKING'] = \"1\""
   ]
  },
  {
   "cell_type": "code",
   "execution_count": 400,
   "metadata": {},
   "outputs": [
    {
     "data": {
      "text/plain": [
       "'NVIDIA GeForce RTX 2080 Ti'"
      ]
     },
     "execution_count": 400,
     "metadata": {},
     "output_type": "execute_result"
    }
   ],
   "source": [
    "check_devices = torch.cuda.get_device_name()\n",
    "check_devices"
   ]
  },
  {
   "cell_type": "code",
   "execution_count": 401,
   "metadata": {},
   "outputs": [],
   "source": [
    "crypto_name = 'apeusd'\n",
    "#example_ohlc_df = pd.DataFrame({\"Time\": [1, 2, 3, 4, 5, 6, 7, 8, 9, 10],\"Open\": [1, 2, 3, 4, 5, 6, 7, 8, 9, 10],\"High\": [1, 2, 3, 4, 5, 6, 7, 8, 9, 10],\"Low\": [1, 2, 3, 4, 5, 6, 7, 8, 9, 10],\"Close\": [1, 2, 3, 4, 5, 6, 7, 8, 9, 10]})\n",
    "\n",
    "ohlc_df = pd.read_csv('historical_price/' + crypto_name + '.csv')\n",
    "ohlc_df.index = pd.to_datetime(ohlc_df['time'], unit = 'ms')\n",
    "\n",
    "#ohlc_df.index = ohlc_df.index.tz_localize('UTC').tz_convert('US/Eastern')"
   ]
  },
  {
   "cell_type": "code",
   "execution_count": 402,
   "metadata": {},
   "outputs": [
    {
     "name": "stdout",
     "output_type": "stream",
     "text": [
      "DatetimeIndex(['2022-06-19 14:14:00', '2022-06-19 14:16:00',\n",
      "               '2022-06-19 14:17:00', '2022-06-19 14:18:00',\n",
      "               '2022-06-19 14:19:00'],\n",
      "              dtype='datetime64[ns]', name='time', freq=None)\n"
     ]
    },
    {
     "data": {
      "text/plain": [
       "time\n",
       "2022-06-19 14:14:00    3.7809\n",
       "2022-06-19 14:16:00    3.7974\n",
       "2022-06-19 14:17:00    3.8011\n",
       "2022-06-19 14:18:00    3.8081\n",
       "2022-06-19 14:19:00    3.8141\n",
       "Name: close, dtype: float64"
      ]
     },
     "execution_count": 402,
     "metadata": {},
     "output_type": "execute_result"
    }
   ],
   "source": [
    "price_dataset = ohlc_df.close[-1000:]\n",
    "time_index = ohlc_df.index[-1000:]\n",
    "print(time_index[:5])\n",
    "price_dataset.head()\n"
   ]
  },
  {
   "cell_type": "code",
   "execution_count": 403,
   "metadata": {},
   "outputs": [
    {
     "name": "stdout",
     "output_type": "stream",
     "text": [
      "200\n"
     ]
    }
   ],
   "source": [
    "price_dataset_x = price_dataset[200:]\n",
    "time_x = time_index[200:]\n",
    "price_dataset_y = price_dataset[200:400]\n",
    "time_y = time_index[200:400]\n",
    "print(len(price_dataset_y))"
   ]
  },
  {
   "cell_type": "code",
   "execution_count": 404,
   "metadata": {},
   "outputs": [],
   "source": [
    "price_test_x = price_dataset[400:600]\n",
    "time_test_x = time_index[400:600]\n",
    "price_test_y = price_dataset[600:900]\n",
    "time_test_y = time_index[600:900]"
   ]
  },
  {
   "cell_type": "code",
   "execution_count": 405,
   "metadata": {},
   "outputs": [],
   "source": [
    "seq_len = 10\n",
    "batch_size = 64"
   ]
  },
  {
   "cell_type": "code",
   "execution_count": 406,
   "metadata": {},
   "outputs": [],
   "source": [
    "class TimeSeriesDataset(torch.utils.data.Dataset):\n",
    "    def __init__(self, X, y, seq_len=5):\n",
    "        self.X = torch.tensor(X, dtype = torch.float32)\n",
    "        self.y = torch.tensor(y, dtype = torch.float32)\n",
    "        self.seq_len = seq_len\n",
    "    def __len__(self):\n",
    "        return self.X.__len__() - (self.seq_len - 1)\n",
    "\n",
    "    def __getitem__(self, index):\n",
    "        #print(len(self.y))\n",
    "        X = self.X[index:index+self.seq_len]\n",
    "        try:\n",
    "            y = self.y[index+self.seq_len]\n",
    "        except:\n",
    "            y = self.y[self.seq_len]\n",
    "        return X, y"
   ]
  },
  {
   "cell_type": "code",
   "execution_count": 407,
   "metadata": {},
   "outputs": [],
   "source": [
    "train_dataset = TimeSeriesDataset(price_dataset_x, price_dataset_y, seq_len=seq_len)\n",
    "test_dataset = TimeSeriesDataset(price_test_x, price_test_y, seq_len=seq_len)"
   ]
  },
  {
   "cell_type": "code",
   "execution_count": 408,
   "metadata": {},
   "outputs": [],
   "source": [
    "train_loader = torch.utils.data.DataLoader(\n",
    "    train_dataset,\n",
    "    batch_size=batch_size,\n",
    "    drop_last = True, \n",
    "    shuffle=False)\n",
    "\n",
    "test_loader = torch.utils.data.DataLoader(\n",
    "    test_dataset, \n",
    "    batch_size=batch_size, \n",
    "    drop_last=True,\n",
    "    shuffle=False)"
   ]
  },
  {
   "cell_type": "code",
   "execution_count": 409,
   "metadata": {},
   "outputs": [],
   "source": [
    "class LSTM_Model(torch.nn.Module):\n",
    "    def __init__(self, input_dim , hidden_size , num_layers, batch_size):\n",
    "        super(LSTM_Model, self).__init__()\n",
    "        self.num_layers = num_layers\n",
    "        self.input_size = input_dim\n",
    "        self.hidden_size = hidden_size\n",
    "        self.batch_size = batch_size\n",
    "        self.lstm = torch.nn.LSTM(input_size=input_dim , hidden_size = hidden_size , num_layers= num_layers )\n",
    "        self.fc = torch.nn.Linear(hidden_size,1)\n",
    "\n",
    "    def forward(self,x,hn,cn):\n",
    "        out , (hn,cn) = self.lstm(x , (hn,cn))\n",
    "        final_out = self.fc(out[-1])\n",
    "        return final_out,hn,cn\n",
    "\n",
    "    def predict(self,x):\n",
    "        hn,cn  = self.init()\n",
    "        final_out = self.fc(out[-1])\n",
    "        return final_out\n",
    "\n",
    "    def init(self):\n",
    "        h0 =  torch.zeros(self.num_layers , self.batch_size , self.hidden_size)\n",
    "        c0 =  torch.zeros(self.num_layers , self.batch_size , self.hidden_size)\n",
    "        return h0 , c0\n",
    "\n",
    "\n",
    "#device = torch.device('cpu')\n",
    "#print(device)\n",
    "\n",
    "input_dim = 1\n",
    "hidden_size = seq_len\n",
    "num_layers = 3\n",
    "crypto_price_model = LSTM_Model(input_dim, hidden_size, num_layers, batch_size)\n",
    "\n",
    "\n",
    "crypto_price_model#.to(device)\n",
    "\n",
    "loss_function = torch.nn.MSELoss() # Criterion, I believe CrossEntropyLoss has SoftMax built-in so I used it here, this is why my last layer doesn't have a softmax\n",
    "optimizer  = torch.optim.Adam(crypto_price_model.parameters(), lr=0.017) # used adaptive moment estimation to optimize the model"
   ]
  },
  {
   "cell_type": "code",
   "execution_count": 410,
   "metadata": {},
   "outputs": [],
   "source": [
    "#training loop\n",
    "def train(dataloader, model):\n",
    "    predictions = []\n",
    "    loss_list = []\n",
    "    hn , cn = model.init()\n",
    "    model.train()\n",
    "    for batch , item in enumerate(dataloader):\n",
    "        x , y = item\n",
    "        y = y.type(torch.FloatTensor)\n",
    "        #x = x.to(device)\n",
    "        #y = y.to(device)\n",
    "        out , hn , cn = model(x.reshape(seq_len,batch_size,-1),hn,cn)\n",
    "        out = out.view(-1)\n",
    "        # print(out.shape)\n",
    "        # print(y.shape)\n",
    "        loss = loss_function(out.reshape(batch_size) , y)\n",
    "        hn = hn.detach()\n",
    "        cn = cn.detach()\n",
    "        optimizer.zero_grad()\n",
    "        loss.backward()\n",
    "        optimizer.step()\n",
    "        \n",
    "        if batch == len(dataloader)-1:\n",
    "            loss = loss.item()\n",
    "            print(f\"train loss: {loss:>7f} \")\n",
    "        loss_list.append(loss)\n",
    "        predictions.append(out.detach().numpy())\n",
    "        return predictions, loss_list\n",
    "        "
   ]
  },
  {
   "cell_type": "code",
   "execution_count": 411,
   "metadata": {},
   "outputs": [],
   "source": [
    "def test(dataloader, model):\n",
    "    predictions = []\n",
    "    loss_list = []\n",
    "    hn , cn = model.init()\n",
    "    model.eval()\n",
    "    for batch , item in enumerate(dataloader):\n",
    "        x , y = item\n",
    "        y = y.type(torch.FloatTensor)\n",
    "        #x = x.to(device)\n",
    "        #y = y.to(device)\n",
    "        out , hn , cn = model(x.reshape(seq_len,batch_size,1),hn,cn)\n",
    "        loss = loss_function(out.reshape(batch_size) , y)\n",
    "       \n",
    "        if batch == len(dataloader)-1:\n",
    "            loss = loss.item()\n",
    "            print(f\"test loss: {loss:>7f} \")\n",
    "        predictions.append(out.detach().numpy())\n",
    "        loss_list.append(loss)\n",
    "        return predictions, loss_list"
   ]
  },
  {
   "cell_type": "code",
   "execution_count": 412,
   "metadata": {},
   "outputs": [
    {
     "name": "stdout",
     "output_type": "stream",
     "text": [
      "epoch 0 \n",
      "epoch 1 \n",
      "epoch 2 \n",
      "epoch 3 \n",
      "epoch 4 \n",
      "epoch 5 \n",
      "epoch 6 \n",
      "epoch 7 \n",
      "epoch 8 \n",
      "epoch 9 \n",
      "epoch 10 \n",
      "epoch 11 \n",
      "epoch 12 \n",
      "epoch 13 \n",
      "epoch 14 \n",
      "epoch 15 \n",
      "epoch 16 \n",
      "epoch 17 \n",
      "epoch 18 \n",
      "epoch 19 \n",
      "epoch 20 \n",
      "epoch 21 \n",
      "epoch 22 \n",
      "epoch 23 \n",
      "epoch 24 \n",
      "epoch 25 \n",
      "epoch 26 \n",
      "epoch 27 \n",
      "epoch 28 \n",
      "epoch 29 \n",
      "epoch 30 \n",
      "epoch 31 \n",
      "epoch 32 \n",
      "epoch 33 \n",
      "epoch 34 \n",
      "epoch 35 \n",
      "epoch 36 \n",
      "epoch 37 \n",
      "epoch 38 \n",
      "epoch 39 \n",
      "epoch 40 \n",
      "epoch 41 \n",
      "epoch 42 \n",
      "epoch 43 \n",
      "epoch 44 \n",
      "epoch 45 \n",
      "epoch 46 \n",
      "epoch 47 \n",
      "epoch 48 \n",
      "epoch 49 \n",
      "epoch 50 \n",
      "epoch 51 \n",
      "epoch 52 \n",
      "epoch 53 \n",
      "epoch 54 \n",
      "epoch 55 \n",
      "epoch 56 \n",
      "epoch 57 \n",
      "epoch 58 \n",
      "epoch 59 \n",
      "epoch 60 \n",
      "epoch 61 \n",
      "epoch 62 \n",
      "epoch 63 \n",
      "epoch 64 \n",
      "epoch 65 \n",
      "epoch 66 \n",
      "epoch 67 \n",
      "epoch 68 \n",
      "epoch 69 \n",
      "epoch 70 \n",
      "epoch 71 \n",
      "epoch 72 \n",
      "epoch 73 \n",
      "epoch 74 \n",
      "epoch 75 \n",
      "epoch 76 \n",
      "epoch 77 \n",
      "epoch 78 \n",
      "epoch 79 \n",
      "epoch 80 \n",
      "epoch 81 \n",
      "epoch 82 \n",
      "epoch 83 \n",
      "epoch 84 \n",
      "epoch 85 \n",
      "epoch 86 \n",
      "epoch 87 \n",
      "epoch 88 \n",
      "epoch 89 \n",
      "epoch 90 \n",
      "epoch 91 \n",
      "epoch 92 \n",
      "epoch 93 \n",
      "epoch 94 \n",
      "epoch 95 \n",
      "epoch 96 \n",
      "epoch 97 \n",
      "epoch 98 \n",
      "epoch 99 \n",
      "[4.017255 4.017255 4.017255 4.017255 4.017255 4.017255 4.017255 4.017255\n",
      " 4.017255 4.017255 4.017255 4.017255 4.017255 4.017255 4.017255 4.017255\n",
      " 4.017255 4.017255 4.017255 4.017255 4.017255 4.017255 4.017255 4.017255\n",
      " 4.017255 4.017255 4.017255 4.017255 4.017255 4.017255 4.017255 4.017255\n",
      " 4.017255 4.017255 4.017255 4.017255 4.017255 4.017255 4.017255 4.017255\n",
      " 4.017255 4.017255 4.017255 4.017255 4.017255 4.017255 4.017255 4.017255\n",
      " 4.017255 4.017255 4.017255 4.017255 4.017255 4.017255 4.017255 4.017255\n",
      " 4.017255 4.017255 4.017255 4.017255 4.017255 4.017255 4.017255 4.017255]\n"
     ]
    }
   ],
   "source": [
    "epochs = 100\n",
    "for epoch in range(epochs):\n",
    "    print(f\"epoch {epoch} \")\n",
    "    train(train_loader, crypto_price_model)\n",
    "    test_predictions = test(test_loader, crypto_price_model)\n",
    "#print(test_predictions[:][:][:][0])"
   ]
  },
  {
   "cell_type": "code",
   "execution_count": 416,
   "metadata": {},
   "outputs": [
    {
     "name": "stdout",
     "output_type": "stream",
     "text": [
      "[4.017255 4.017255 4.017255 4.017255 4.017255 4.017255 4.017255 4.017255\n",
      " 4.017255 4.017255 4.017255 4.017255 4.017255 4.017255 4.017255 4.017255\n",
      " 4.017255 4.017255 4.017255 4.017255 4.017255 4.017255 4.017255 4.017255\n",
      " 4.017255 4.017255 4.017255 4.017255 4.017255 4.017255 4.017255 4.017255\n",
      " 4.017255 4.017255 4.017255 4.017255 4.017255 4.017255 4.017255 4.017255\n",
      " 4.017255 4.017255 4.017255 4.017255 4.017255 4.017255 4.017255 4.017255\n",
      " 4.017255 4.017255 4.017255 4.017255 4.017255 4.017255 4.017255 4.017255\n",
      " 4.017255 4.017255 4.017255 4.017255 4.017255 4.017255 4.017255 4.017255]\n"
     ]
    }
   ],
   "source": [
    "fp = np.array([num for num in test_predictions[0][0]]).flatten()\n",
    "print(fp)"
   ]
  },
  {
   "cell_type": "code",
   "execution_count": 413,
   "metadata": {},
   "outputs": [
    {
     "name": "stdout",
     "output_type": "stream",
     "text": [
      "1\n",
      "\n"
     ]
    },
    {
     "data": {
      "application/vnd.plotly.v1+json": {
       "config": {
        "plotlyServerURL": "https://plot.ly"
       },
       "data": [
        {
         "mode": "lines",
         "name": "Predicted Price",
         "type": "scatter",
         "x": [
          "2022-06-20T02:17:00",
          "2022-06-20T02:18:00",
          "2022-06-20T02:19:00",
          "2022-06-20T02:20:00",
          "2022-06-20T02:22:00",
          "2022-06-20T02:24:00",
          "2022-06-20T02:25:00",
          "2022-06-20T02:26:00",
          "2022-06-20T02:27:00",
          "2022-06-20T02:28:00",
          "2022-06-20T02:29:00",
          "2022-06-20T02:30:00",
          "2022-06-20T02:31:00",
          "2022-06-20T02:32:00",
          "2022-06-20T02:33:00",
          "2022-06-20T02:34:00",
          "2022-06-20T02:35:00",
          "2022-06-20T02:36:00",
          "2022-06-20T02:37:00",
          "2022-06-20T02:39:00",
          "2022-06-20T02:40:00",
          "2022-06-20T02:42:00",
          "2022-06-20T02:43:00",
          "2022-06-20T02:44:00",
          "2022-06-20T02:45:00",
          "2022-06-20T02:46:00",
          "2022-06-20T02:47:00",
          "2022-06-20T02:49:00",
          "2022-06-20T02:50:00",
          "2022-06-20T02:51:00",
          "2022-06-20T02:53:00",
          "2022-06-20T02:55:00",
          "2022-06-20T02:56:00",
          "2022-06-20T02:57:00",
          "2022-06-20T02:59:00",
          "2022-06-20T03:00:00",
          "2022-06-20T03:01:00",
          "2022-06-20T03:02:00",
          "2022-06-20T03:03:00",
          "2022-06-20T03:04:00",
          "2022-06-20T03:06:00",
          "2022-06-20T03:07:00",
          "2022-06-20T03:09:00",
          "2022-06-20T03:10:00",
          "2022-06-20T03:12:00",
          "2022-06-20T03:14:00",
          "2022-06-20T03:15:00",
          "2022-06-20T03:16:00",
          "2022-06-20T03:17:00",
          "2022-06-20T03:18:00",
          "2022-06-20T03:21:00",
          "2022-06-20T03:23:00",
          "2022-06-20T03:24:00",
          "2022-06-20T03:25:00",
          "2022-06-20T03:26:00",
          "2022-06-20T03:27:00",
          "2022-06-20T03:28:00",
          "2022-06-20T03:29:00",
          "2022-06-20T03:30:00",
          "2022-06-20T03:31:00",
          "2022-06-20T03:32:00",
          "2022-06-20T03:33:00",
          "2022-06-20T03:35:00",
          "2022-06-20T03:36:00"
         ],
         "y": [
          4.017254829406738,
          4.017254829406738,
          4.017254829406738,
          4.017254829406738,
          4.017254829406738,
          4.017254829406738,
          4.017254829406738,
          4.017254829406738,
          4.017254829406738,
          4.017254829406738,
          4.017254829406738,
          4.017254829406738,
          4.017254829406738,
          4.017254829406738,
          4.017254829406738,
          4.017254829406738,
          4.017254829406738,
          4.017254829406738,
          4.017254829406738,
          4.017254829406738,
          4.017254829406738,
          4.017254829406738,
          4.017254829406738,
          4.017254829406738,
          4.017254829406738,
          4.017254829406738,
          4.017254829406738,
          4.017254829406738,
          4.017254829406738,
          4.017254829406738,
          4.017254829406738,
          4.017254829406738,
          4.017254829406738,
          4.017254829406738,
          4.017254829406738,
          4.017254829406738,
          4.017254829406738,
          4.017254829406738,
          4.017254829406738,
          4.017254829406738,
          4.017254829406738,
          4.017254829406738,
          4.017254829406738,
          4.017254829406738,
          4.017254829406738,
          4.017254829406738,
          4.017254829406738,
          4.017254829406738,
          4.017254829406738,
          4.017254829406738,
          4.017254829406738,
          4.017254829406738,
          4.017254829406738,
          4.017254829406738,
          4.017254829406738,
          4.017254829406738,
          4.017254829406738,
          4.017254829406738,
          4.017254829406738,
          4.017254829406738,
          4.017254829406738,
          4.017254829406738,
          4.017254829406738,
          4.017254829406738
         ]
        },
        {
         "mode": "lines",
         "name": "Actual Price",
         "type": "scatter",
         "x": [
          "2022-06-20T02:17:00",
          "2022-06-20T02:18:00",
          "2022-06-20T02:19:00",
          "2022-06-20T02:20:00",
          "2022-06-20T02:22:00",
          "2022-06-20T02:24:00",
          "2022-06-20T02:25:00",
          "2022-06-20T02:26:00",
          "2022-06-20T02:27:00",
          "2022-06-20T02:28:00",
          "2022-06-20T02:29:00",
          "2022-06-20T02:30:00",
          "2022-06-20T02:31:00",
          "2022-06-20T02:32:00",
          "2022-06-20T02:33:00",
          "2022-06-20T02:34:00",
          "2022-06-20T02:35:00",
          "2022-06-20T02:36:00",
          "2022-06-20T02:37:00",
          "2022-06-20T02:39:00",
          "2022-06-20T02:40:00",
          "2022-06-20T02:42:00",
          "2022-06-20T02:43:00",
          "2022-06-20T02:44:00",
          "2022-06-20T02:45:00",
          "2022-06-20T02:46:00",
          "2022-06-20T02:47:00",
          "2022-06-20T02:49:00",
          "2022-06-20T02:50:00",
          "2022-06-20T02:51:00",
          "2022-06-20T02:53:00",
          "2022-06-20T02:55:00",
          "2022-06-20T02:56:00",
          "2022-06-20T02:57:00",
          "2022-06-20T02:59:00",
          "2022-06-20T03:00:00",
          "2022-06-20T03:01:00",
          "2022-06-20T03:02:00",
          "2022-06-20T03:03:00",
          "2022-06-20T03:04:00",
          "2022-06-20T03:06:00",
          "2022-06-20T03:07:00",
          "2022-06-20T03:09:00",
          "2022-06-20T03:10:00",
          "2022-06-20T03:12:00",
          "2022-06-20T03:14:00",
          "2022-06-20T03:15:00",
          "2022-06-20T03:16:00",
          "2022-06-20T03:17:00",
          "2022-06-20T03:18:00",
          "2022-06-20T03:21:00",
          "2022-06-20T03:23:00",
          "2022-06-20T03:24:00",
          "2022-06-20T03:25:00",
          "2022-06-20T03:26:00",
          "2022-06-20T03:27:00",
          "2022-06-20T03:28:00",
          "2022-06-20T03:29:00",
          "2022-06-20T03:30:00",
          "2022-06-20T03:31:00",
          "2022-06-20T03:32:00",
          "2022-06-20T03:33:00",
          "2022-06-20T03:35:00",
          "2022-06-20T03:36:00"
         ],
         "y": [
          3.911,
          3.9019,
          3.898,
          3.9025,
          3.894,
          3.8836,
          3.8832,
          3.8676,
          3.8595,
          3.8674,
          3.8593,
          3.8666,
          3.8864,
          3.8949,
          3.8819,
          3.8878,
          3.899,
          3.8895,
          3.897,
          3.898,
          3.893,
          3.901,
          3.898,
          3.9039,
          3.9266,
          3.9233,
          3.926,
          3.933,
          3.9218,
          3.9175,
          3.921,
          3.9139,
          3.9149,
          3.9237,
          3.9161,
          3.9294,
          3.916,
          3.922,
          3.919,
          3.908,
          3.915,
          3.9335,
          3.92,
          3.9286,
          3.935,
          3.9288,
          3.9353,
          3.926,
          3.9294,
          3.9325,
          3.9506,
          3.9598,
          3.9531,
          3.953,
          3.9683,
          3.9567,
          3.9593,
          3.9666,
          3.9748,
          3.96,
          3.9603,
          3.9641,
          3.9576,
          3.966
         ]
        }
       ],
       "layout": {
        "template": {
         "data": {
          "bar": [
           {
            "error_x": {
             "color": "#2a3f5f"
            },
            "error_y": {
             "color": "#2a3f5f"
            },
            "marker": {
             "line": {
              "color": "#E5ECF6",
              "width": 0.5
             },
             "pattern": {
              "fillmode": "overlay",
              "size": 10,
              "solidity": 0.2
             }
            },
            "type": "bar"
           }
          ],
          "barpolar": [
           {
            "marker": {
             "line": {
              "color": "#E5ECF6",
              "width": 0.5
             },
             "pattern": {
              "fillmode": "overlay",
              "size": 10,
              "solidity": 0.2
             }
            },
            "type": "barpolar"
           }
          ],
          "carpet": [
           {
            "aaxis": {
             "endlinecolor": "#2a3f5f",
             "gridcolor": "white",
             "linecolor": "white",
             "minorgridcolor": "white",
             "startlinecolor": "#2a3f5f"
            },
            "baxis": {
             "endlinecolor": "#2a3f5f",
             "gridcolor": "white",
             "linecolor": "white",
             "minorgridcolor": "white",
             "startlinecolor": "#2a3f5f"
            },
            "type": "carpet"
           }
          ],
          "choropleth": [
           {
            "colorbar": {
             "outlinewidth": 0,
             "ticks": ""
            },
            "type": "choropleth"
           }
          ],
          "contour": [
           {
            "colorbar": {
             "outlinewidth": 0,
             "ticks": ""
            },
            "colorscale": [
             [
              0,
              "#0d0887"
             ],
             [
              0.1111111111111111,
              "#46039f"
             ],
             [
              0.2222222222222222,
              "#7201a8"
             ],
             [
              0.3333333333333333,
              "#9c179e"
             ],
             [
              0.4444444444444444,
              "#bd3786"
             ],
             [
              0.5555555555555556,
              "#d8576b"
             ],
             [
              0.6666666666666666,
              "#ed7953"
             ],
             [
              0.7777777777777778,
              "#fb9f3a"
             ],
             [
              0.8888888888888888,
              "#fdca26"
             ],
             [
              1,
              "#f0f921"
             ]
            ],
            "type": "contour"
           }
          ],
          "contourcarpet": [
           {
            "colorbar": {
             "outlinewidth": 0,
             "ticks": ""
            },
            "type": "contourcarpet"
           }
          ],
          "heatmap": [
           {
            "colorbar": {
             "outlinewidth": 0,
             "ticks": ""
            },
            "colorscale": [
             [
              0,
              "#0d0887"
             ],
             [
              0.1111111111111111,
              "#46039f"
             ],
             [
              0.2222222222222222,
              "#7201a8"
             ],
             [
              0.3333333333333333,
              "#9c179e"
             ],
             [
              0.4444444444444444,
              "#bd3786"
             ],
             [
              0.5555555555555556,
              "#d8576b"
             ],
             [
              0.6666666666666666,
              "#ed7953"
             ],
             [
              0.7777777777777778,
              "#fb9f3a"
             ],
             [
              0.8888888888888888,
              "#fdca26"
             ],
             [
              1,
              "#f0f921"
             ]
            ],
            "type": "heatmap"
           }
          ],
          "heatmapgl": [
           {
            "colorbar": {
             "outlinewidth": 0,
             "ticks": ""
            },
            "colorscale": [
             [
              0,
              "#0d0887"
             ],
             [
              0.1111111111111111,
              "#46039f"
             ],
             [
              0.2222222222222222,
              "#7201a8"
             ],
             [
              0.3333333333333333,
              "#9c179e"
             ],
             [
              0.4444444444444444,
              "#bd3786"
             ],
             [
              0.5555555555555556,
              "#d8576b"
             ],
             [
              0.6666666666666666,
              "#ed7953"
             ],
             [
              0.7777777777777778,
              "#fb9f3a"
             ],
             [
              0.8888888888888888,
              "#fdca26"
             ],
             [
              1,
              "#f0f921"
             ]
            ],
            "type": "heatmapgl"
           }
          ],
          "histogram": [
           {
            "marker": {
             "pattern": {
              "fillmode": "overlay",
              "size": 10,
              "solidity": 0.2
             }
            },
            "type": "histogram"
           }
          ],
          "histogram2d": [
           {
            "colorbar": {
             "outlinewidth": 0,
             "ticks": ""
            },
            "colorscale": [
             [
              0,
              "#0d0887"
             ],
             [
              0.1111111111111111,
              "#46039f"
             ],
             [
              0.2222222222222222,
              "#7201a8"
             ],
             [
              0.3333333333333333,
              "#9c179e"
             ],
             [
              0.4444444444444444,
              "#bd3786"
             ],
             [
              0.5555555555555556,
              "#d8576b"
             ],
             [
              0.6666666666666666,
              "#ed7953"
             ],
             [
              0.7777777777777778,
              "#fb9f3a"
             ],
             [
              0.8888888888888888,
              "#fdca26"
             ],
             [
              1,
              "#f0f921"
             ]
            ],
            "type": "histogram2d"
           }
          ],
          "histogram2dcontour": [
           {
            "colorbar": {
             "outlinewidth": 0,
             "ticks": ""
            },
            "colorscale": [
             [
              0,
              "#0d0887"
             ],
             [
              0.1111111111111111,
              "#46039f"
             ],
             [
              0.2222222222222222,
              "#7201a8"
             ],
             [
              0.3333333333333333,
              "#9c179e"
             ],
             [
              0.4444444444444444,
              "#bd3786"
             ],
             [
              0.5555555555555556,
              "#d8576b"
             ],
             [
              0.6666666666666666,
              "#ed7953"
             ],
             [
              0.7777777777777778,
              "#fb9f3a"
             ],
             [
              0.8888888888888888,
              "#fdca26"
             ],
             [
              1,
              "#f0f921"
             ]
            ],
            "type": "histogram2dcontour"
           }
          ],
          "mesh3d": [
           {
            "colorbar": {
             "outlinewidth": 0,
             "ticks": ""
            },
            "type": "mesh3d"
           }
          ],
          "parcoords": [
           {
            "line": {
             "colorbar": {
              "outlinewidth": 0,
              "ticks": ""
             }
            },
            "type": "parcoords"
           }
          ],
          "pie": [
           {
            "automargin": true,
            "type": "pie"
           }
          ],
          "scatter": [
           {
            "marker": {
             "colorbar": {
              "outlinewidth": 0,
              "ticks": ""
             }
            },
            "type": "scatter"
           }
          ],
          "scatter3d": [
           {
            "line": {
             "colorbar": {
              "outlinewidth": 0,
              "ticks": ""
             }
            },
            "marker": {
             "colorbar": {
              "outlinewidth": 0,
              "ticks": ""
             }
            },
            "type": "scatter3d"
           }
          ],
          "scattercarpet": [
           {
            "marker": {
             "colorbar": {
              "outlinewidth": 0,
              "ticks": ""
             }
            },
            "type": "scattercarpet"
           }
          ],
          "scattergeo": [
           {
            "marker": {
             "colorbar": {
              "outlinewidth": 0,
              "ticks": ""
             }
            },
            "type": "scattergeo"
           }
          ],
          "scattergl": [
           {
            "marker": {
             "colorbar": {
              "outlinewidth": 0,
              "ticks": ""
             }
            },
            "type": "scattergl"
           }
          ],
          "scattermapbox": [
           {
            "marker": {
             "colorbar": {
              "outlinewidth": 0,
              "ticks": ""
             }
            },
            "type": "scattermapbox"
           }
          ],
          "scatterpolar": [
           {
            "marker": {
             "colorbar": {
              "outlinewidth": 0,
              "ticks": ""
             }
            },
            "type": "scatterpolar"
           }
          ],
          "scatterpolargl": [
           {
            "marker": {
             "colorbar": {
              "outlinewidth": 0,
              "ticks": ""
             }
            },
            "type": "scatterpolargl"
           }
          ],
          "scatterternary": [
           {
            "marker": {
             "colorbar": {
              "outlinewidth": 0,
              "ticks": ""
             }
            },
            "type": "scatterternary"
           }
          ],
          "surface": [
           {
            "colorbar": {
             "outlinewidth": 0,
             "ticks": ""
            },
            "colorscale": [
             [
              0,
              "#0d0887"
             ],
             [
              0.1111111111111111,
              "#46039f"
             ],
             [
              0.2222222222222222,
              "#7201a8"
             ],
             [
              0.3333333333333333,
              "#9c179e"
             ],
             [
              0.4444444444444444,
              "#bd3786"
             ],
             [
              0.5555555555555556,
              "#d8576b"
             ],
             [
              0.6666666666666666,
              "#ed7953"
             ],
             [
              0.7777777777777778,
              "#fb9f3a"
             ],
             [
              0.8888888888888888,
              "#fdca26"
             ],
             [
              1,
              "#f0f921"
             ]
            ],
            "type": "surface"
           }
          ],
          "table": [
           {
            "cells": {
             "fill": {
              "color": "#EBF0F8"
             },
             "line": {
              "color": "white"
             }
            },
            "header": {
             "fill": {
              "color": "#C8D4E3"
             },
             "line": {
              "color": "white"
             }
            },
            "type": "table"
           }
          ]
         },
         "layout": {
          "annotationdefaults": {
           "arrowcolor": "#2a3f5f",
           "arrowhead": 0,
           "arrowwidth": 1
          },
          "autotypenumbers": "strict",
          "coloraxis": {
           "colorbar": {
            "outlinewidth": 0,
            "ticks": ""
           }
          },
          "colorscale": {
           "diverging": [
            [
             0,
             "#8e0152"
            ],
            [
             0.1,
             "#c51b7d"
            ],
            [
             0.2,
             "#de77ae"
            ],
            [
             0.3,
             "#f1b6da"
            ],
            [
             0.4,
             "#fde0ef"
            ],
            [
             0.5,
             "#f7f7f7"
            ],
            [
             0.6,
             "#e6f5d0"
            ],
            [
             0.7,
             "#b8e186"
            ],
            [
             0.8,
             "#7fbc41"
            ],
            [
             0.9,
             "#4d9221"
            ],
            [
             1,
             "#276419"
            ]
           ],
           "sequential": [
            [
             0,
             "#0d0887"
            ],
            [
             0.1111111111111111,
             "#46039f"
            ],
            [
             0.2222222222222222,
             "#7201a8"
            ],
            [
             0.3333333333333333,
             "#9c179e"
            ],
            [
             0.4444444444444444,
             "#bd3786"
            ],
            [
             0.5555555555555556,
             "#d8576b"
            ],
            [
             0.6666666666666666,
             "#ed7953"
            ],
            [
             0.7777777777777778,
             "#fb9f3a"
            ],
            [
             0.8888888888888888,
             "#fdca26"
            ],
            [
             1,
             "#f0f921"
            ]
           ],
           "sequentialminus": [
            [
             0,
             "#0d0887"
            ],
            [
             0.1111111111111111,
             "#46039f"
            ],
            [
             0.2222222222222222,
             "#7201a8"
            ],
            [
             0.3333333333333333,
             "#9c179e"
            ],
            [
             0.4444444444444444,
             "#bd3786"
            ],
            [
             0.5555555555555556,
             "#d8576b"
            ],
            [
             0.6666666666666666,
             "#ed7953"
            ],
            [
             0.7777777777777778,
             "#fb9f3a"
            ],
            [
             0.8888888888888888,
             "#fdca26"
            ],
            [
             1,
             "#f0f921"
            ]
           ]
          },
          "colorway": [
           "#636efa",
           "#EF553B",
           "#00cc96",
           "#ab63fa",
           "#FFA15A",
           "#19d3f3",
           "#FF6692",
           "#B6E880",
           "#FF97FF",
           "#FECB52"
          ],
          "font": {
           "color": "#2a3f5f"
          },
          "geo": {
           "bgcolor": "white",
           "lakecolor": "white",
           "landcolor": "#E5ECF6",
           "showlakes": true,
           "showland": true,
           "subunitcolor": "white"
          },
          "hoverlabel": {
           "align": "left"
          },
          "hovermode": "closest",
          "mapbox": {
           "style": "light"
          },
          "paper_bgcolor": "white",
          "plot_bgcolor": "#E5ECF6",
          "polar": {
           "angularaxis": {
            "gridcolor": "white",
            "linecolor": "white",
            "ticks": ""
           },
           "bgcolor": "#E5ECF6",
           "radialaxis": {
            "gridcolor": "white",
            "linecolor": "white",
            "ticks": ""
           }
          },
          "scene": {
           "xaxis": {
            "backgroundcolor": "#E5ECF6",
            "gridcolor": "white",
            "gridwidth": 2,
            "linecolor": "white",
            "showbackground": true,
            "ticks": "",
            "zerolinecolor": "white"
           },
           "yaxis": {
            "backgroundcolor": "#E5ECF6",
            "gridcolor": "white",
            "gridwidth": 2,
            "linecolor": "white",
            "showbackground": true,
            "ticks": "",
            "zerolinecolor": "white"
           },
           "zaxis": {
            "backgroundcolor": "#E5ECF6",
            "gridcolor": "white",
            "gridwidth": 2,
            "linecolor": "white",
            "showbackground": true,
            "ticks": "",
            "zerolinecolor": "white"
           }
          },
          "shapedefaults": {
           "line": {
            "color": "#2a3f5f"
           }
          },
          "ternary": {
           "aaxis": {
            "gridcolor": "white",
            "linecolor": "white",
            "ticks": ""
           },
           "baxis": {
            "gridcolor": "white",
            "linecolor": "white",
            "ticks": ""
           },
           "bgcolor": "#E5ECF6",
           "caxis": {
            "gridcolor": "white",
            "linecolor": "white",
            "ticks": ""
           }
          },
          "title": {
           "x": 0.05
          },
          "xaxis": {
           "automargin": true,
           "gridcolor": "white",
           "linecolor": "white",
           "ticks": "",
           "title": {
            "standoff": 15
           },
           "zerolinecolor": "white",
           "zerolinewidth": 2
          },
          "yaxis": {
           "automargin": true,
           "gridcolor": "white",
           "linecolor": "white",
           "ticks": "",
           "title": {
            "standoff": 15
           },
           "zerolinecolor": "white",
           "zerolinewidth": 2
          }
         }
        },
        "title": {
         "text": "Predicted Price vs Actual Price for 'apeusd'"
        },
        "xaxis": {
         "title": {
          "text": "Time"
         }
        },
        "yaxis": {
         "title": {
          "text": "Actual Price ($)"
         }
        }
       }
      }
     },
     "metadata": {},
     "output_type": "display_data"
    }
   ],
   "source": [
    "print(len(test_predictions[0]))\n",
    "print()\n",
    "fig = go.Figure()\n",
    "pred_line = go.Scatter(x=time_test_y[:len(fp)], y=fp, mode = 'lines', name = 'Predicted Price')\n",
    "fig.add_trace(pred_line)\n",
    "\n",
    "fig.add_trace(go.Scatter(x=time_test_y[:len(fp)], y=price_test_y[:len(fp)], mode = 'lines', name = 'Actual Price'))\n",
    "\n",
    "fig.update_layout(xaxis_title=\"Time\", yaxis_title=\"Actual Price ($)\", title=f\"Predicted Price vs Actual Price for '{crypto_name}'\")\n",
    "\n",
    "fig.show()"
   ]
  },
  {
   "cell_type": "code",
   "execution_count": 414,
   "metadata": {},
   "outputs": [],
   "source": [
    "torch.save(crypto_price_model.state_dict(), f'{crypto_name}_model_weights.pth')"
   ]
  },
  {
   "cell_type": "code",
   "execution_count": 415,
   "metadata": {},
   "outputs": [
    {
     "name": "stdout",
     "output_type": "stream",
     "text": [
      "cuda\n"
     ]
    },
    {
     "ename": "RuntimeError",
     "evalue": "CUDA error: device-side assert triggered",
     "output_type": "error",
     "traceback": [
      "\u001b[0;31m---------------------------------------------------------------------------\u001b[0m",
      "\u001b[0;31mRuntimeError\u001b[0m                              Traceback (most recent call last)",
      "\u001b[1;32m/home/austin/Desktop/Repositories/avax-project/forecast_impl.ipynb Cell 19\u001b[0m in \u001b[0;36m<cell line: 3>\u001b[0;34m()\u001b[0m\n\u001b[1;32m      <a href='vscode-notebook-cell:/home/austin/Desktop/Repositories/avax-project/forecast_impl.ipynb#ch0000018?line=0'>1</a>\u001b[0m device \u001b[39m=\u001b[39m torch\u001b[39m.\u001b[39mdevice(\u001b[39m'\u001b[39m\u001b[39mcuda\u001b[39m\u001b[39m'\u001b[39m \u001b[39mif\u001b[39;00m torch\u001b[39m.\u001b[39mcuda\u001b[39m.\u001b[39mis_available() \u001b[39melse\u001b[39;00m \u001b[39m'\u001b[39m\u001b[39mcpu\u001b[39m\u001b[39m'\u001b[39m)\n\u001b[1;32m      <a href='vscode-notebook-cell:/home/austin/Desktop/Repositories/avax-project/forecast_impl.ipynb#ch0000018?line=1'>2</a>\u001b[0m \u001b[39mprint\u001b[39m(device)\n\u001b[0;32m----> <a href='vscode-notebook-cell:/home/austin/Desktop/Repositories/avax-project/forecast_impl.ipynb#ch0000018?line=2'>3</a>\u001b[0m crypto_price_model\u001b[39m.\u001b[39mload_state_dict(torch\u001b[39m.\u001b[39;49mload(\u001b[39mf\u001b[39;49m\u001b[39m'\u001b[39;49m\u001b[39m{\u001b[39;49;00mcrypto_name\u001b[39m}\u001b[39;49;00m\u001b[39m_model_weights.pth\u001b[39;49m\u001b[39m'\u001b[39;49m, map_location\u001b[39m=\u001b[39;49mtorch\u001b[39m.\u001b[39;49mdevice(device)))\n",
      "File \u001b[0;32m~/.local/lib/python3.8/site-packages/torch/serialization.py:607\u001b[0m, in \u001b[0;36mload\u001b[0;34m(f, map_location, pickle_module, **pickle_load_args)\u001b[0m\n\u001b[1;32m    605\u001b[0m             opened_file\u001b[39m.\u001b[39mseek(orig_position)\n\u001b[1;32m    606\u001b[0m             \u001b[39mreturn\u001b[39;00m torch\u001b[39m.\u001b[39mjit\u001b[39m.\u001b[39mload(opened_file)\n\u001b[0;32m--> 607\u001b[0m         \u001b[39mreturn\u001b[39;00m _load(opened_zipfile, map_location, pickle_module, \u001b[39m*\u001b[39;49m\u001b[39m*\u001b[39;49mpickle_load_args)\n\u001b[1;32m    608\u001b[0m \u001b[39mreturn\u001b[39;00m _legacy_load(opened_file, map_location, pickle_module, \u001b[39m*\u001b[39m\u001b[39m*\u001b[39mpickle_load_args)\n",
      "File \u001b[0;32m~/.local/lib/python3.8/site-packages/torch/serialization.py:882\u001b[0m, in \u001b[0;36m_load\u001b[0;34m(zip_file, map_location, pickle_module, pickle_file, **pickle_load_args)\u001b[0m\n\u001b[1;32m    880\u001b[0m unpickler \u001b[39m=\u001b[39m UnpicklerWrapper(data_file, \u001b[39m*\u001b[39m\u001b[39m*\u001b[39mpickle_load_args)\n\u001b[1;32m    881\u001b[0m unpickler\u001b[39m.\u001b[39mpersistent_load \u001b[39m=\u001b[39m persistent_load\n\u001b[0;32m--> 882\u001b[0m result \u001b[39m=\u001b[39m unpickler\u001b[39m.\u001b[39;49mload()\n\u001b[1;32m    884\u001b[0m torch\u001b[39m.\u001b[39m_utils\u001b[39m.\u001b[39m_validate_loaded_sparse_tensors()\n\u001b[1;32m    886\u001b[0m \u001b[39mreturn\u001b[39;00m result\n",
      "File \u001b[0;32m~/.local/lib/python3.8/site-packages/torch/serialization.py:857\u001b[0m, in \u001b[0;36m_load.<locals>.persistent_load\u001b[0;34m(saved_id)\u001b[0m\n\u001b[1;32m    855\u001b[0m data_type, key, location, size \u001b[39m=\u001b[39m data\n\u001b[1;32m    856\u001b[0m \u001b[39mif\u001b[39;00m key \u001b[39mnot\u001b[39;00m \u001b[39min\u001b[39;00m loaded_storages:\n\u001b[0;32m--> 857\u001b[0m     load_tensor(data_type, size, key, _maybe_decode_ascii(location))\n\u001b[1;32m    858\u001b[0m storage \u001b[39m=\u001b[39m loaded_storages[key]\n\u001b[1;32m    859\u001b[0m \u001b[39mreturn\u001b[39;00m storage\n",
      "File \u001b[0;32m~/.local/lib/python3.8/site-packages/torch/serialization.py:846\u001b[0m, in \u001b[0;36m_load.<locals>.load_tensor\u001b[0;34m(data_type, size, key, location)\u001b[0m\n\u001b[1;32m    843\u001b[0m dtype \u001b[39m=\u001b[39m data_type(\u001b[39m0\u001b[39m)\u001b[39m.\u001b[39mdtype\n\u001b[1;32m    845\u001b[0m storage \u001b[39m=\u001b[39m zip_file\u001b[39m.\u001b[39mget_storage_from_record(name, size, dtype)\u001b[39m.\u001b[39mstorage()\n\u001b[0;32m--> 846\u001b[0m loaded_storages[key] \u001b[39m=\u001b[39m restore_location(storage, location)\n",
      "File \u001b[0;32m~/.local/lib/python3.8/site-packages/torch/serialization.py:827\u001b[0m, in \u001b[0;36m_get_restore_location.<locals>.restore_location\u001b[0;34m(storage, location)\u001b[0m\n\u001b[1;32m    826\u001b[0m \u001b[39mdef\u001b[39;00m \u001b[39mrestore_location\u001b[39m(storage, location):\n\u001b[0;32m--> 827\u001b[0m     \u001b[39mreturn\u001b[39;00m default_restore_location(storage, \u001b[39mstr\u001b[39;49m(map_location))\n",
      "File \u001b[0;32m~/.local/lib/python3.8/site-packages/torch/serialization.py:175\u001b[0m, in \u001b[0;36mdefault_restore_location\u001b[0;34m(storage, location)\u001b[0m\n\u001b[1;32m    173\u001b[0m \u001b[39mdef\u001b[39;00m \u001b[39mdefault_restore_location\u001b[39m(storage, location):\n\u001b[1;32m    174\u001b[0m     \u001b[39mfor\u001b[39;00m _, _, fn \u001b[39min\u001b[39;00m _package_registry:\n\u001b[0;32m--> 175\u001b[0m         result \u001b[39m=\u001b[39m fn(storage, location)\n\u001b[1;32m    176\u001b[0m         \u001b[39mif\u001b[39;00m result \u001b[39mis\u001b[39;00m \u001b[39mnot\u001b[39;00m \u001b[39mNone\u001b[39;00m:\n\u001b[1;32m    177\u001b[0m             \u001b[39mreturn\u001b[39;00m result\n",
      "File \u001b[0;32m~/.local/lib/python3.8/site-packages/torch/serialization.py:157\u001b[0m, in \u001b[0;36m_cuda_deserialize\u001b[0;34m(obj, location)\u001b[0m\n\u001b[1;32m    155\u001b[0m         \u001b[39mreturn\u001b[39;00m storage_type(obj\u001b[39m.\u001b[39msize())\n\u001b[1;32m    156\u001b[0m \u001b[39melse\u001b[39;00m:\n\u001b[0;32m--> 157\u001b[0m     \u001b[39mreturn\u001b[39;00m obj\u001b[39m.\u001b[39;49mcuda(device)\n",
      "File \u001b[0;32m~/.local/lib/python3.8/site-packages/torch/_utils.py:79\u001b[0m, in \u001b[0;36m_cuda\u001b[0;34m(self, device, non_blocking, **kwargs)\u001b[0m\n\u001b[1;32m     77\u001b[0m \u001b[39melse\u001b[39;00m:\n\u001b[1;32m     78\u001b[0m     new_type \u001b[39m=\u001b[39m \u001b[39mgetattr\u001b[39m(torch\u001b[39m.\u001b[39mcuda, \u001b[39mself\u001b[39m\u001b[39m.\u001b[39m\u001b[39m__class__\u001b[39m\u001b[39m.\u001b[39m\u001b[39m__name__\u001b[39m)\n\u001b[0;32m---> 79\u001b[0m     \u001b[39mreturn\u001b[39;00m new_type(\u001b[39mself\u001b[39;49m\u001b[39m.\u001b[39;49msize())\u001b[39m.\u001b[39;49mcopy_(\u001b[39mself\u001b[39;49m, non_blocking)\n",
      "\u001b[0;31mRuntimeError\u001b[0m: CUDA error: device-side assert triggered"
     ]
    }
   ],
   "source": [
    "device = torch.device('cuda' if torch.cuda.is_available() else 'cpu')\n",
    "print(device)\n",
    "crypto_price_model.load_state_dict(torch.load(f'{crypto_name}_model_weights.pth', map_location=torch.device(device)))"
   ]
  }
 ],
 "metadata": {
  "kernelspec": {
   "display_name": "Python 3.8.13",
   "language": "python",
   "name": "python3"
  },
  "language_info": {
   "codemirror_mode": {
    "name": "ipython",
    "version": 3
   },
   "file_extension": ".py",
   "mimetype": "text/x-python",
   "name": "python",
   "nbconvert_exporter": "python",
   "pygments_lexer": "ipython3",
   "version": "3.8.13"
  },
  "orig_nbformat": 4,
  "vscode": {
   "interpreter": {
    "hash": "9cfc535063982cb54bc105cd8a1db8df6351516bd1ac835c350edc56f17e34e3"
   }
  }
 },
 "nbformat": 4,
 "nbformat_minor": 2
}
