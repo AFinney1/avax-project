{
 "cells": [
  {
   "cell_type": "code",
   "execution_count": 20,
   "metadata": {},
   "outputs": [],
   "source": [
    "import torch\n",
    "import torch.nn.utils.prune as prune \n",
    "import numpy as np\n",
    "import plotly.express as px\n",
    "import plotly.graph_objects as go \n",
    "import pandas as pd \n",
    "import torchvision\n",
    "from torch.autograd import Variable\n",
    "import os\n",
    "from datetime import datetime, timedelta\n",
    "import yfinance as yf\n"
   ]
  },
  {
   "cell_type": "code",
   "execution_count": 21,
   "metadata": {},
   "outputs": [
    {
     "data": {
      "text/plain": [
       "True"
      ]
     },
     "execution_count": 21,
     "metadata": {},
     "output_type": "execute_result"
    }
   ],
   "source": [
    "check_gpu = torch.cuda.is_available()\n",
    "check_gpu"
   ]
  },
  {
   "cell_type": "code",
   "execution_count": 22,
   "metadata": {},
   "outputs": [],
   "source": [
    "os.environ['CUDA_LAUNCH_BLOCKING'] = \"1\""
   ]
  },
  {
   "cell_type": "code",
   "execution_count": 23,
   "metadata": {},
   "outputs": [
    {
     "data": {
      "text/plain": [
       "'NVIDIA GeForce RTX 2080 Ti'"
      ]
     },
     "execution_count": 23,
     "metadata": {},
     "output_type": "execute_result"
    }
   ],
   "source": [
    "check_devices = torch.cuda.get_device_name()\n",
    "check_devices"
   ]
  },
  {
   "cell_type": "code",
   "execution_count": 24,
   "metadata": {},
   "outputs": [],
   "source": [
    "crypto_name = 'apeusd'\n",
    "#example_ohlc_df = pd.DataFrame({\"Time\": [1, 2, 3, 4, 5, 6, 7, 8, 9, 10],\"Open\": [1, 2, 3, 4, 5, 6, 7, 8, 9, 10],\"High\": [1, 2, 3, 4, 5, 6, 7, 8, 9, 10],\"Low\": [1, 2, 3, 4, 5, 6, 7, 8, 9, 10],\"Close\": [1, 2, 3, 4, 5, 6, 7, 8, 9, 10]})\n",
    "\n",
    "ohlc_df = pd.read_csv('historical_price/' + crypto_name + '.csv')\n",
    "ohlc_df.index = pd.to_datetime(ohlc_df['time'], unit = 'ms')\n",
    "\n",
    "#ohlc_df.index = ohlc_df.index.tz_localize('UTC').tz_convert('US/Eastern')"
   ]
  },
  {
   "cell_type": "code",
   "execution_count": 25,
   "metadata": {},
   "outputs": [
    {
     "name": "stdout",
     "output_type": "stream",
     "text": [
      "DatetimeIndex(['2022-07-19 10:16:00', '2022-07-19 10:18:00',\n",
      "               '2022-07-19 10:19:00', '2022-07-19 10:20:00',\n",
      "               '2022-07-19 10:22:00'],\n",
      "              dtype='datetime64[ns]', name='time', freq=None)\n"
     ]
    },
    {
     "data": {
      "text/plain": [
       "time\n",
       "2022-07-19 10:16:00    5.7765\n",
       "2022-07-19 10:18:00    5.7755\n",
       "2022-07-19 10:19:00    5.7596\n",
       "2022-07-19 10:20:00    5.7585\n",
       "2022-07-19 10:22:00    5.7676\n",
       "Name: close, dtype: float64"
      ]
     },
     "execution_count": 25,
     "metadata": {},
     "output_type": "execute_result"
    }
   ],
   "source": [
    "price_dataset = ohlc_df.close[-1000:]\n",
    "time_index = ohlc_df.index[-1000:]\n",
    "print(time_index[-5:])\n",
    "price_dataset.tail()\n"
   ]
  },
  {
   "cell_type": "code",
   "execution_count": 26,
   "metadata": {},
   "outputs": [
    {
     "name": "stdout",
     "output_type": "stream",
     "text": [
      "200\n"
     ]
    }
   ],
   "source": [
    "price_dataset_x = price_dataset[200:]\n",
    "time_x = time_index[200:]\n",
    "price_dataset_y = price_dataset[200:400]\n",
    "time_y = time_index[200:400]\n",
    "print(len(price_dataset_y))"
   ]
  },
  {
   "cell_type": "code",
   "execution_count": 27,
   "metadata": {},
   "outputs": [],
   "source": [
    "price_test_x = price_dataset[400:600]\n",
    "time_test_x = time_index[400:600]\n",
    "price_test_y = price_dataset[600:900]\n",
    "time_test_y = time_index[600:900]\n",
    "price_test_val = price_dataset[900:1000]\n",
    "time_test_val = time_index[900:1000]"
   ]
  },
  {
   "cell_type": "code",
   "execution_count": 28,
   "metadata": {},
   "outputs": [],
   "source": [
    "seq_len = 10\n",
    "batch_size = 55"
   ]
  },
  {
   "cell_type": "code",
   "execution_count": 29,
   "metadata": {},
   "outputs": [],
   "source": [
    "class TimeSeriesDataset(torch.utils.data.Dataset):\n",
    "    def __init__(self, X, y, seq_len=5):\n",
    "        self.X = torch.tensor(X, dtype = torch.float32)\n",
    "        self.y = torch.tensor(y, dtype = torch.float32)\n",
    "        self.seq_len = seq_len\n",
    "    def __len__(self):\n",
    "        return self.X.__len__() - (self.seq_len - 1)\n",
    "\n",
    "    def __getitem__(self, index):\n",
    "        #print(len(self.y))\n",
    "        X = self.X[index:index+self.seq_len]\n",
    "        try:\n",
    "            y = self.y[index+self.seq_len]\n",
    "        except:\n",
    "            y = self.y[self.seq_len]\n",
    "        return X, y"
   ]
  },
  {
   "cell_type": "code",
   "execution_count": 30,
   "metadata": {},
   "outputs": [],
   "source": [
    "train_dataset = TimeSeriesDataset(price_dataset_x, price_dataset_y, seq_len=seq_len)\n",
    "test_dataset = TimeSeriesDataset(price_test_x, price_test_y, seq_len=seq_len)\n",
    "#val_dataset = TimeSeriesDataset(price_test_val, price_test_y, seq_len=seq_len)"
   ]
  },
  {
   "cell_type": "code",
   "execution_count": 31,
   "metadata": {},
   "outputs": [],
   "source": [
    "train_loader = torch.utils.data.DataLoader(\n",
    "    train_dataset,\n",
    "    batch_size=batch_size,\n",
    "    drop_last = True, \n",
    "    shuffle=False)\n",
    "\n",
    "test_loader = torch.utils.data.DataLoader(\n",
    "    test_dataset, \n",
    "    batch_size=batch_size, \n",
    "    drop_last=True,\n",
    "    shuffle=False)"
   ]
  },
  {
   "cell_type": "code",
   "execution_count": 32,
   "metadata": {},
   "outputs": [],
   "source": [
    "class LSTM_Model(torch.nn.Module):\n",
    "    def __init__(self, input_dim , hidden_size , num_layers, batch_size):\n",
    "        super(LSTM_Model, self).__init__()\n",
    "        self.num_layers = num_layers\n",
    "        self.input_size = input_dim\n",
    "        self.hidden_size = hidden_size\n",
    "        self.batch_size = batch_size\n",
    "        self.lstm = torch.nn.LSTM(input_size=input_dim , hidden_size = hidden_size , num_layers= num_layers )\n",
    "        self.fc = torch.nn.Linear(hidden_size,1)\n",
    "\n",
    "    def forward(self,x,hn,cn):\n",
    "        out , (hn,cn) = self.lstm(x , (hn,cn))\n",
    "        final_out = self.fc(out[-1])\n",
    "        return final_out,hn,cn\n",
    "\n",
    "    def predict(self,x):\n",
    "        hn,cn  = self.init()\n",
    "        final_out = self.fc(hn[-1])\n",
    "        return final_out\n",
    "\n",
    "    def init(self):\n",
    "        h0 =  torch.zeros(self.num_layers , self.batch_size , self.hidden_size)\n",
    "        c0 =  torch.zeros(self.num_layers , self.batch_size , self.hidden_size)\n",
    "        return h0 , c0\n",
    "\n",
    "\n",
    "#device = torch.device('cpu')\n",
    "#print(device)\n",
    "\n",
    "input_dim = 1\n",
    "hidden_size = seq_len\n",
    "num_layers = 3\n",
    "crypto_price_model = LSTM_Model(input_dim, hidden_size, num_layers, batch_size)\n",
    "\n",
    "\n",
    "crypto_price_model#.to(device)\n",
    "\n",
    "loss_function = torch.nn.MSELoss() # Criterion, I believe CrossEntropyLoss has SoftMax built-in so I used it here, this is why my last layer doesn't have a softmax\n",
    "optimizer  = torch.optim.Adam(crypto_price_model.parameters(), lr=0.017) # used adaptive moment estimation to optimize the model"
   ]
  },
  {
   "cell_type": "code",
   "execution_count": 33,
   "metadata": {},
   "outputs": [],
   "source": [
    "#training loop\n",
    "def train(dataloader, model):\n",
    "    predictions = []\n",
    "    loss_list = []\n",
    "    hn , cn = model.init()\n",
    "    model.train()\n",
    "    for batch , item in enumerate(dataloader):\n",
    "        x , y = item\n",
    "        y = y.type(torch.FloatTensor)\n",
    "        #x = x.to(device)\n",
    "        #y = y.to(device)\n",
    "        out , hn , cn = model(x.reshape(seq_len,batch_size,-1),hn,cn)\n",
    "        out = out.view(-1)\n",
    "        # print(out.shape)\n",
    "        # print(y.shape)\n",
    "        loss = loss_function(out.reshape(batch_size) , y)\n",
    "        hn = hn.detach()\n",
    "        cn = cn.detach()\n",
    "        optimizer.zero_grad()\n",
    "        loss.backward()\n",
    "        optimizer.step()\n",
    "        print(f'Training Loss: {loss.item()}')\n",
    "        if batch == len(dataloader)-1:\n",
    "            loss = loss.item()\n",
    "            print(f\"Train loss: {loss:>7f} \")\n",
    "        loss_list.append(loss)\n",
    "        predictions.append(out.detach().numpy())\n",
    "        return predictions, loss_list\n",
    "        "
   ]
  },
  {
   "cell_type": "code",
   "execution_count": 34,
   "metadata": {},
   "outputs": [],
   "source": [
    "def test(dataloader, model):\n",
    "    predictions = []\n",
    "    loss_list = []\n",
    "    hn , cn = model.init()\n",
    "    model.eval()\n",
    "    for batch , item in enumerate(dataloader):\n",
    "        x , y = item\n",
    "        y = y.type(torch.FloatTensor)\n",
    "        #x = x.to(device)\n",
    "        #y = y.to(device)\n",
    "        out , hn , cn = model(x.reshape(seq_len,batch_size,1),hn,cn)\n",
    "        loss = loss_function(out.reshape(batch_size) , y)\n",
    "        print(f\"test loss: {loss.item():>7f} \")\n",
    "        if batch == len(dataloader)-1:\n",
    "            loss = loss.item()\n",
    "            print(f\"Test loss: {loss:>7f} \")\n",
    "        predictions.append(out.detach().numpy())\n",
    "        loss_list.append(loss)\n",
    "        return predictions, loss_list"
   ]
  },
  {
   "cell_type": "code",
   "execution_count": 35,
   "metadata": {},
   "outputs": [
    {
     "name": "stdout",
     "output_type": "stream",
     "text": [
      "Epoch 1: \n",
      "Training Loss: 32.757286071777344\n",
      "Epoch 2: \n",
      "Training Loss: 31.316349029541016\n",
      "Epoch 3: \n",
      "Training Loss: 30.012805938720703\n",
      "Epoch 4: \n",
      "Training Loss: 28.670196533203125\n",
      "Epoch 5: \n",
      "Training Loss: 27.09015464782715\n",
      "Epoch 6: \n",
      "Training Loss: 25.239404678344727\n",
      "Epoch 7: \n",
      "Training Loss: 23.132530212402344\n",
      "Epoch 8: \n",
      "Training Loss: 20.693012237548828\n",
      "Epoch 9: \n",
      "Training Loss: 17.916425704956055\n",
      "Epoch 10: \n",
      "Training Loss: 15.120083808898926\n",
      "Epoch 11: \n",
      "Training Loss: 12.690340995788574\n",
      "Epoch 12: \n",
      "Training Loss: 10.655322074890137\n",
      "Epoch 13: \n",
      "Training Loss: 8.906895637512207\n",
      "Epoch 14: \n",
      "Training Loss: 7.405614852905273\n",
      "Epoch 15: \n",
      "Training Loss: 6.130398273468018\n",
      "Epoch 16: \n",
      "Training Loss: 5.047184944152832\n",
      "Epoch 17: \n",
      "Training Loss: 4.119647026062012\n",
      "Epoch 18: \n",
      "Training Loss: 3.31646728515625\n",
      "Epoch 19: \n",
      "Training Loss: 2.616292715072632\n",
      "Epoch 20: \n",
      "Training Loss: 2.0091185569763184\n",
      "Epoch 21: \n",
      "Training Loss: 1.4916244745254517\n",
      "Epoch 22: \n",
      "Training Loss: 1.062084436416626\n",
      "Epoch 23: \n",
      "Training Loss: 0.7172228693962097\n",
      "Epoch 24: \n",
      "Training Loss: 0.4511711895465851\n",
      "Epoch 25: \n",
      "Training Loss: 0.2560272812843323\n",
      "Epoch 26: \n",
      "Training Loss: 0.12287995964288712\n",
      "Epoch 27: \n",
      "Training Loss: 0.042538080364465714\n",
      "Epoch 28: \n",
      "Training Loss: 0.005853712093085051\n",
      "Epoch 29: \n",
      "Training Loss: 0.0038532281760126352\n",
      "Epoch 30: \n",
      "Training Loss: 0.02785922959446907\n",
      "Epoch 31: \n",
      "Training Loss: 0.06966173648834229\n",
      "Epoch 32: \n",
      "Training Loss: 0.1217336654663086\n",
      "Epoch 33: \n",
      "Training Loss: 0.1774548590183258\n",
      "Epoch 34: \n",
      "Training Loss: 0.2312980443239212\n",
      "Epoch 35: \n",
      "Training Loss: 0.2789478600025177\n",
      "Epoch 36: \n",
      "Training Loss: 0.3173314034938812\n",
      "Epoch 37: \n",
      "Training Loss: 0.34457457065582275\n",
      "Epoch 38: \n",
      "Training Loss: 0.35988014936447144\n",
      "Epoch 39: \n",
      "Training Loss: 0.3633700907230377\n",
      "Epoch 40: \n",
      "Training Loss: 0.3559018671512604\n",
      "Epoch 41: \n",
      "Training Loss: 0.33887723088264465\n",
      "Epoch 42: \n",
      "Training Loss: 0.3140621483325958\n",
      "Epoch 43: \n",
      "Training Loss: 0.2834206521511078\n",
      "Epoch 44: \n",
      "Training Loss: 0.2489691525697708\n",
      "Epoch 45: \n",
      "Training Loss: 0.21265120804309845\n",
      "Epoch 46: \n",
      "Training Loss: 0.1762504130601883\n",
      "Epoch 47: \n",
      "Training Loss: 0.14130912721157074\n",
      "Epoch 48: \n",
      "Training Loss: 0.10908441245555878\n",
      "Epoch 49: \n",
      "Training Loss: 0.08052421361207962\n",
      "Epoch 50: \n",
      "Training Loss: 0.05625572055578232\n",
      "Epoch 51: \n",
      "Training Loss: 0.03659849986433983\n",
      "Epoch 52: \n",
      "Training Loss: 0.02159121260046959\n",
      "Epoch 53: \n",
      "Training Loss: 0.01102628093212843\n",
      "Epoch 54: \n",
      "Training Loss: 0.0044976938515901566\n",
      "Epoch 55: \n",
      "Training Loss: 0.0014505427097901702\n",
      "Epoch 56: \n",
      "Training Loss: 0.0012340901885181665\n",
      "Epoch 57: \n",
      "Training Loss: 0.003152618883177638\n",
      "Epoch 58: \n",
      "Training Loss: 0.006512579973787069\n",
      "Epoch 59: \n",
      "Training Loss: 0.010662935674190521\n",
      "Epoch 60: \n",
      "Training Loss: 0.015027535147964954\n",
      "Epoch 61: \n",
      "Training Loss: 0.019128652289509773\n",
      "Epoch 62: \n",
      "Training Loss: 0.022599592804908752\n",
      "Epoch 63: \n",
      "Training Loss: 0.025189822539687157\n",
      "Epoch 64: \n",
      "Training Loss: 0.026762032881379128\n",
      "Epoch 65: \n",
      "Training Loss: 0.027280060574412346\n",
      "Epoch 66: \n",
      "Training Loss: 0.026796462014317513\n",
      "Epoch 67: \n",
      "Training Loss: 0.02543102577328682\n",
      "Epoch 68: \n",
      "Training Loss: 0.023352114483714104\n",
      "Epoch 69: \n",
      "Training Loss: 0.020756779238581657\n",
      "Epoch 70: \n",
      "Training Loss: 0.017850879579782486\n",
      "Epoch 71: \n",
      "Training Loss: 0.014834021218121052\n",
      "Epoch 72: \n",
      "Training Loss: 0.011884909123182297\n",
      "Epoch 73: \n",
      "Training Loss: 0.009153041057288647\n",
      "Epoch 74: \n",
      "Training Loss: 0.006751764565706253\n",
      "Epoch 75: \n",
      "Training Loss: 0.004755695350468159\n",
      "Epoch 76: \n",
      "Training Loss: 0.0032016888726502657\n",
      "Epoch 77: \n",
      "Training Loss: 0.0020917656365782022\n",
      "Epoch 78: \n",
      "Training Loss: 0.0013986800331622362\n",
      "Epoch 79: \n",
      "Training Loss: 0.001071825623512268\n",
      "Epoch 80: \n",
      "Training Loss: 0.0010450100526213646\n",
      "Epoch 81: \n",
      "Training Loss: 0.0012434140080586076\n",
      "Epoch 82: \n",
      "Training Loss: 0.0015903805615380406\n",
      "Epoch 83: \n",
      "Training Loss: 0.00201321835629642\n",
      "Epoch 84: \n",
      "Training Loss: 0.0024479313287883997\n",
      "Epoch 85: \n",
      "Training Loss: 0.002842300571501255\n",
      "Epoch 86: \n",
      "Training Loss: 0.0031578056514263153\n",
      "Epoch 87: \n",
      "Training Loss: 0.003370320424437523\n",
      "Epoch 88: \n",
      "Training Loss: 0.0034689330495893955\n",
      "Epoch 89: \n",
      "Training Loss: 0.003455137135460973\n",
      "Epoch 90: \n",
      "Training Loss: 0.003339979564771056\n",
      "Epoch 91: \n",
      "Training Loss: 0.0031417577993124723\n",
      "Epoch 92: \n",
      "Training Loss: 0.0028830619994550943\n",
      "Epoch 93: \n",
      "Training Loss: 0.0025882218033075333\n",
      "Epoch 94: \n",
      "Training Loss: 0.0022811670787632465\n",
      "Epoch 95: \n",
      "Training Loss: 0.0019832798279821873\n",
      "Epoch 96: \n",
      "Training Loss: 0.0017118544783443213\n",
      "Epoch 97: \n",
      "Training Loss: 0.0014798515476286411\n",
      "Epoch 98: \n",
      "Training Loss: 0.0012949687661603093\n",
      "Epoch 99: \n",
      "Training Loss: 0.0011601694859564304\n",
      "Epoch 100: \n",
      "Training Loss: 0.001074072322808206\n",
      "test loss: 0.003696 \n"
     ]
    }
   ],
   "source": [
    "epochs = 100\n",
    "for epoch in range(epochs):\n",
    "    print(f\"Epoch {epoch + 1}: \")\n",
    "    train(train_loader, crypto_price_model)\n",
    "test_predictions = test(test_loader, crypto_price_model)\n",
    "#print(test_predictions[:][:][:][0])"
   ]
  },
  {
   "cell_type": "code",
   "execution_count": 36,
   "metadata": {},
   "outputs": [
    {
     "name": "stdout",
     "output_type": "stream",
     "text": [
      "[5.7703204 5.7703204 5.7703204 5.7703204 5.7703204 5.7703204 5.7703204\n",
      " 5.7703204 5.7703204 5.7703204 5.7703204 5.7703204 5.7703204 5.7703204\n",
      " 5.7703204 5.7703204 5.7703204 5.7703204 5.7703204 5.7703204 5.7703204\n",
      " 5.7703204 5.7703204 5.7703204 5.7703204 5.7703204 5.7703204 5.7703204\n",
      " 5.7703204 5.7703204 5.7703204 5.7703204 5.7703204 5.7703204 5.7703204\n",
      " 5.7703204 5.7703204 5.7703204 5.7703204 5.7703204 5.7703204 5.7703204\n",
      " 5.7703204 5.7703204 5.7703204 5.7703204 5.7703204 5.7703204 5.7703204\n",
      " 5.7703204 5.7703204 5.7703204 5.7703204 5.7703204 5.7703204]\n"
     ]
    }
   ],
   "source": [
    "forecast_price = np.array([num for num in test_predictions[0][0]]).flatten()\n",
    "print(forecast_price)"
   ]
  },
  {
   "cell_type": "code",
   "execution_count": 37,
   "metadata": {},
   "outputs": [
    {
     "name": "stdout",
     "output_type": "stream",
     "text": [
      "1\n",
      "\n"
     ]
    },
    {
     "data": {
      "application/vnd.plotly.v1+json": {
       "config": {
        "plotlyServerURL": "https://plot.ly"
       },
       "data": [
        {
         "mode": "lines",
         "name": "Predicted Price",
         "type": "scatter",
         "x": [
          "2022-07-19T01:37:00",
          "2022-07-19T01:38:00",
          "2022-07-19T01:39:00",
          "2022-07-19T01:40:00",
          "2022-07-19T01:42:00",
          "2022-07-19T01:43:00",
          "2022-07-19T01:44:00",
          "2022-07-19T01:45:00",
          "2022-07-19T01:46:00",
          "2022-07-19T01:48:00",
          "2022-07-19T01:49:00",
          "2022-07-19T01:53:00",
          "2022-07-19T01:54:00",
          "2022-07-19T01:55:00",
          "2022-07-19T01:56:00",
          "2022-07-19T01:57:00",
          "2022-07-19T01:58:00",
          "2022-07-19T02:00:00",
          "2022-07-19T02:01:00",
          "2022-07-19T02:03:00",
          "2022-07-19T02:04:00",
          "2022-07-19T02:05:00",
          "2022-07-19T02:06:00",
          "2022-07-19T02:08:00",
          "2022-07-19T02:09:00",
          "2022-07-19T02:10:00",
          "2022-07-19T02:11:00",
          "2022-07-19T02:12:00",
          "2022-07-19T02:13:00",
          "2022-07-19T02:15:00",
          "2022-07-19T02:17:00",
          "2022-07-19T02:18:00",
          "2022-07-19T02:19:00",
          "2022-07-19T02:21:00",
          "2022-07-19T02:22:00",
          "2022-07-19T02:23:00",
          "2022-07-19T02:24:00",
          "2022-07-19T02:25:00",
          "2022-07-19T02:27:00",
          "2022-07-19T02:28:00",
          "2022-07-19T02:29:00",
          "2022-07-19T02:31:00",
          "2022-07-19T02:33:00",
          "2022-07-19T02:36:00",
          "2022-07-19T02:37:00",
          "2022-07-19T02:39:00",
          "2022-07-19T02:40:00",
          "2022-07-19T02:41:00",
          "2022-07-19T02:42:00",
          "2022-07-19T02:43:00",
          "2022-07-19T02:44:00",
          "2022-07-19T02:46:00",
          "2022-07-19T02:47:00",
          "2022-07-19T02:50:00",
          "2022-07-19T02:51:00"
         ],
         "y": [
          5.770320415496826,
          5.770320415496826,
          5.770320415496826,
          5.770320415496826,
          5.770320415496826,
          5.770320415496826,
          5.770320415496826,
          5.770320415496826,
          5.770320415496826,
          5.770320415496826,
          5.770320415496826,
          5.770320415496826,
          5.770320415496826,
          5.770320415496826,
          5.770320415496826,
          5.770320415496826,
          5.770320415496826,
          5.770320415496826,
          5.770320415496826,
          5.770320415496826,
          5.770320415496826,
          5.770320415496826,
          5.770320415496826,
          5.770320415496826,
          5.770320415496826,
          5.770320415496826,
          5.770320415496826,
          5.770320415496826,
          5.770320415496826,
          5.770320415496826,
          5.770320415496826,
          5.770320415496826,
          5.770320415496826,
          5.770320415496826,
          5.770320415496826,
          5.770320415496826,
          5.770320415496826,
          5.770320415496826,
          5.770320415496826,
          5.770320415496826,
          5.770320415496826,
          5.770320415496826,
          5.770320415496826,
          5.770320415496826,
          5.770320415496826,
          5.770320415496826,
          5.770320415496826,
          5.770320415496826,
          5.770320415496826,
          5.770320415496826,
          5.770320415496826,
          5.770320415496826,
          5.770320415496826,
          5.770320415496826,
          5.770320415496826
         ]
        },
        {
         "mode": "lines",
         "name": "Actual Price",
         "type": "scatter",
         "x": [
          "2022-07-19T01:37:00",
          "2022-07-19T01:38:00",
          "2022-07-19T01:39:00",
          "2022-07-19T01:40:00",
          "2022-07-19T01:42:00",
          "2022-07-19T01:43:00",
          "2022-07-19T01:44:00",
          "2022-07-19T01:45:00",
          "2022-07-19T01:46:00",
          "2022-07-19T01:48:00",
          "2022-07-19T01:49:00",
          "2022-07-19T01:53:00",
          "2022-07-19T01:54:00",
          "2022-07-19T01:55:00",
          "2022-07-19T01:56:00",
          "2022-07-19T01:57:00",
          "2022-07-19T01:58:00",
          "2022-07-19T02:00:00",
          "2022-07-19T02:01:00",
          "2022-07-19T02:03:00",
          "2022-07-19T02:04:00",
          "2022-07-19T02:05:00",
          "2022-07-19T02:06:00",
          "2022-07-19T02:08:00",
          "2022-07-19T02:09:00",
          "2022-07-19T02:10:00",
          "2022-07-19T02:11:00",
          "2022-07-19T02:12:00",
          "2022-07-19T02:13:00",
          "2022-07-19T02:15:00",
          "2022-07-19T02:17:00",
          "2022-07-19T02:18:00",
          "2022-07-19T02:19:00",
          "2022-07-19T02:21:00",
          "2022-07-19T02:22:00",
          "2022-07-19T02:23:00",
          "2022-07-19T02:24:00",
          "2022-07-19T02:25:00",
          "2022-07-19T02:27:00",
          "2022-07-19T02:28:00",
          "2022-07-19T02:29:00",
          "2022-07-19T02:31:00",
          "2022-07-19T02:33:00",
          "2022-07-19T02:36:00",
          "2022-07-19T02:37:00",
          "2022-07-19T02:39:00",
          "2022-07-19T02:40:00",
          "2022-07-19T02:41:00",
          "2022-07-19T02:42:00",
          "2022-07-19T02:43:00",
          "2022-07-19T02:44:00",
          "2022-07-19T02:46:00",
          "2022-07-19T02:47:00",
          "2022-07-19T02:50:00",
          "2022-07-19T02:51:00"
         ],
         "y": [
          5.6912,
          5.7165,
          5.7289,
          5.7352,
          5.7632,
          5.7462,
          5.7403,
          5.7565,
          5.7662,
          5.759,
          5.7666,
          5.7607,
          5.7426,
          5.7519,
          5.7419,
          5.7366,
          5.7347,
          5.7119,
          5.7158,
          5.7372,
          5.7507,
          5.7491,
          5.7471,
          5.7441,
          5.7491,
          5.7543,
          5.7444,
          5.7463,
          5.7556,
          5.7597,
          5.7527,
          5.7591,
          5.7652,
          5.78,
          5.7834,
          5.7986,
          5.7855,
          5.7949,
          5.7836,
          5.7736,
          5.833,
          5.8208,
          5.8367,
          5.829,
          5.8187,
          5.8117,
          5.8013,
          5.7789,
          5.7926,
          5.7857,
          5.7787,
          5.767,
          5.7506,
          5.739,
          5.7271
         ]
        }
       ],
       "layout": {
        "template": {
         "data": {
          "bar": [
           {
            "error_x": {
             "color": "#2a3f5f"
            },
            "error_y": {
             "color": "#2a3f5f"
            },
            "marker": {
             "line": {
              "color": "#E5ECF6",
              "width": 0.5
             },
             "pattern": {
              "fillmode": "overlay",
              "size": 10,
              "solidity": 0.2
             }
            },
            "type": "bar"
           }
          ],
          "barpolar": [
           {
            "marker": {
             "line": {
              "color": "#E5ECF6",
              "width": 0.5
             },
             "pattern": {
              "fillmode": "overlay",
              "size": 10,
              "solidity": 0.2
             }
            },
            "type": "barpolar"
           }
          ],
          "carpet": [
           {
            "aaxis": {
             "endlinecolor": "#2a3f5f",
             "gridcolor": "white",
             "linecolor": "white",
             "minorgridcolor": "white",
             "startlinecolor": "#2a3f5f"
            },
            "baxis": {
             "endlinecolor": "#2a3f5f",
             "gridcolor": "white",
             "linecolor": "white",
             "minorgridcolor": "white",
             "startlinecolor": "#2a3f5f"
            },
            "type": "carpet"
           }
          ],
          "choropleth": [
           {
            "colorbar": {
             "outlinewidth": 0,
             "ticks": ""
            },
            "type": "choropleth"
           }
          ],
          "contour": [
           {
            "colorbar": {
             "outlinewidth": 0,
             "ticks": ""
            },
            "colorscale": [
             [
              0,
              "#0d0887"
             ],
             [
              0.1111111111111111,
              "#46039f"
             ],
             [
              0.2222222222222222,
              "#7201a8"
             ],
             [
              0.3333333333333333,
              "#9c179e"
             ],
             [
              0.4444444444444444,
              "#bd3786"
             ],
             [
              0.5555555555555556,
              "#d8576b"
             ],
             [
              0.6666666666666666,
              "#ed7953"
             ],
             [
              0.7777777777777778,
              "#fb9f3a"
             ],
             [
              0.8888888888888888,
              "#fdca26"
             ],
             [
              1,
              "#f0f921"
             ]
            ],
            "type": "contour"
           }
          ],
          "contourcarpet": [
           {
            "colorbar": {
             "outlinewidth": 0,
             "ticks": ""
            },
            "type": "contourcarpet"
           }
          ],
          "heatmap": [
           {
            "colorbar": {
             "outlinewidth": 0,
             "ticks": ""
            },
            "colorscale": [
             [
              0,
              "#0d0887"
             ],
             [
              0.1111111111111111,
              "#46039f"
             ],
             [
              0.2222222222222222,
              "#7201a8"
             ],
             [
              0.3333333333333333,
              "#9c179e"
             ],
             [
              0.4444444444444444,
              "#bd3786"
             ],
             [
              0.5555555555555556,
              "#d8576b"
             ],
             [
              0.6666666666666666,
              "#ed7953"
             ],
             [
              0.7777777777777778,
              "#fb9f3a"
             ],
             [
              0.8888888888888888,
              "#fdca26"
             ],
             [
              1,
              "#f0f921"
             ]
            ],
            "type": "heatmap"
           }
          ],
          "heatmapgl": [
           {
            "colorbar": {
             "outlinewidth": 0,
             "ticks": ""
            },
            "colorscale": [
             [
              0,
              "#0d0887"
             ],
             [
              0.1111111111111111,
              "#46039f"
             ],
             [
              0.2222222222222222,
              "#7201a8"
             ],
             [
              0.3333333333333333,
              "#9c179e"
             ],
             [
              0.4444444444444444,
              "#bd3786"
             ],
             [
              0.5555555555555556,
              "#d8576b"
             ],
             [
              0.6666666666666666,
              "#ed7953"
             ],
             [
              0.7777777777777778,
              "#fb9f3a"
             ],
             [
              0.8888888888888888,
              "#fdca26"
             ],
             [
              1,
              "#f0f921"
             ]
            ],
            "type": "heatmapgl"
           }
          ],
          "histogram": [
           {
            "marker": {
             "pattern": {
              "fillmode": "overlay",
              "size": 10,
              "solidity": 0.2
             }
            },
            "type": "histogram"
           }
          ],
          "histogram2d": [
           {
            "colorbar": {
             "outlinewidth": 0,
             "ticks": ""
            },
            "colorscale": [
             [
              0,
              "#0d0887"
             ],
             [
              0.1111111111111111,
              "#46039f"
             ],
             [
              0.2222222222222222,
              "#7201a8"
             ],
             [
              0.3333333333333333,
              "#9c179e"
             ],
             [
              0.4444444444444444,
              "#bd3786"
             ],
             [
              0.5555555555555556,
              "#d8576b"
             ],
             [
              0.6666666666666666,
              "#ed7953"
             ],
             [
              0.7777777777777778,
              "#fb9f3a"
             ],
             [
              0.8888888888888888,
              "#fdca26"
             ],
             [
              1,
              "#f0f921"
             ]
            ],
            "type": "histogram2d"
           }
          ],
          "histogram2dcontour": [
           {
            "colorbar": {
             "outlinewidth": 0,
             "ticks": ""
            },
            "colorscale": [
             [
              0,
              "#0d0887"
             ],
             [
              0.1111111111111111,
              "#46039f"
             ],
             [
              0.2222222222222222,
              "#7201a8"
             ],
             [
              0.3333333333333333,
              "#9c179e"
             ],
             [
              0.4444444444444444,
              "#bd3786"
             ],
             [
              0.5555555555555556,
              "#d8576b"
             ],
             [
              0.6666666666666666,
              "#ed7953"
             ],
             [
              0.7777777777777778,
              "#fb9f3a"
             ],
             [
              0.8888888888888888,
              "#fdca26"
             ],
             [
              1,
              "#f0f921"
             ]
            ],
            "type": "histogram2dcontour"
           }
          ],
          "mesh3d": [
           {
            "colorbar": {
             "outlinewidth": 0,
             "ticks": ""
            },
            "type": "mesh3d"
           }
          ],
          "parcoords": [
           {
            "line": {
             "colorbar": {
              "outlinewidth": 0,
              "ticks": ""
             }
            },
            "type": "parcoords"
           }
          ],
          "pie": [
           {
            "automargin": true,
            "type": "pie"
           }
          ],
          "scatter": [
           {
            "marker": {
             "colorbar": {
              "outlinewidth": 0,
              "ticks": ""
             }
            },
            "type": "scatter"
           }
          ],
          "scatter3d": [
           {
            "line": {
             "colorbar": {
              "outlinewidth": 0,
              "ticks": ""
             }
            },
            "marker": {
             "colorbar": {
              "outlinewidth": 0,
              "ticks": ""
             }
            },
            "type": "scatter3d"
           }
          ],
          "scattercarpet": [
           {
            "marker": {
             "colorbar": {
              "outlinewidth": 0,
              "ticks": ""
             }
            },
            "type": "scattercarpet"
           }
          ],
          "scattergeo": [
           {
            "marker": {
             "colorbar": {
              "outlinewidth": 0,
              "ticks": ""
             }
            },
            "type": "scattergeo"
           }
          ],
          "scattergl": [
           {
            "marker": {
             "colorbar": {
              "outlinewidth": 0,
              "ticks": ""
             }
            },
            "type": "scattergl"
           }
          ],
          "scattermapbox": [
           {
            "marker": {
             "colorbar": {
              "outlinewidth": 0,
              "ticks": ""
             }
            },
            "type": "scattermapbox"
           }
          ],
          "scatterpolar": [
           {
            "marker": {
             "colorbar": {
              "outlinewidth": 0,
              "ticks": ""
             }
            },
            "type": "scatterpolar"
           }
          ],
          "scatterpolargl": [
           {
            "marker": {
             "colorbar": {
              "outlinewidth": 0,
              "ticks": ""
             }
            },
            "type": "scatterpolargl"
           }
          ],
          "scatterternary": [
           {
            "marker": {
             "colorbar": {
              "outlinewidth": 0,
              "ticks": ""
             }
            },
            "type": "scatterternary"
           }
          ],
          "surface": [
           {
            "colorbar": {
             "outlinewidth": 0,
             "ticks": ""
            },
            "colorscale": [
             [
              0,
              "#0d0887"
             ],
             [
              0.1111111111111111,
              "#46039f"
             ],
             [
              0.2222222222222222,
              "#7201a8"
             ],
             [
              0.3333333333333333,
              "#9c179e"
             ],
             [
              0.4444444444444444,
              "#bd3786"
             ],
             [
              0.5555555555555556,
              "#d8576b"
             ],
             [
              0.6666666666666666,
              "#ed7953"
             ],
             [
              0.7777777777777778,
              "#fb9f3a"
             ],
             [
              0.8888888888888888,
              "#fdca26"
             ],
             [
              1,
              "#f0f921"
             ]
            ],
            "type": "surface"
           }
          ],
          "table": [
           {
            "cells": {
             "fill": {
              "color": "#EBF0F8"
             },
             "line": {
              "color": "white"
             }
            },
            "header": {
             "fill": {
              "color": "#C8D4E3"
             },
             "line": {
              "color": "white"
             }
            },
            "type": "table"
           }
          ]
         },
         "layout": {
          "annotationdefaults": {
           "arrowcolor": "#2a3f5f",
           "arrowhead": 0,
           "arrowwidth": 1
          },
          "autotypenumbers": "strict",
          "coloraxis": {
           "colorbar": {
            "outlinewidth": 0,
            "ticks": ""
           }
          },
          "colorscale": {
           "diverging": [
            [
             0,
             "#8e0152"
            ],
            [
             0.1,
             "#c51b7d"
            ],
            [
             0.2,
             "#de77ae"
            ],
            [
             0.3,
             "#f1b6da"
            ],
            [
             0.4,
             "#fde0ef"
            ],
            [
             0.5,
             "#f7f7f7"
            ],
            [
             0.6,
             "#e6f5d0"
            ],
            [
             0.7,
             "#b8e186"
            ],
            [
             0.8,
             "#7fbc41"
            ],
            [
             0.9,
             "#4d9221"
            ],
            [
             1,
             "#276419"
            ]
           ],
           "sequential": [
            [
             0,
             "#0d0887"
            ],
            [
             0.1111111111111111,
             "#46039f"
            ],
            [
             0.2222222222222222,
             "#7201a8"
            ],
            [
             0.3333333333333333,
             "#9c179e"
            ],
            [
             0.4444444444444444,
             "#bd3786"
            ],
            [
             0.5555555555555556,
             "#d8576b"
            ],
            [
             0.6666666666666666,
             "#ed7953"
            ],
            [
             0.7777777777777778,
             "#fb9f3a"
            ],
            [
             0.8888888888888888,
             "#fdca26"
            ],
            [
             1,
             "#f0f921"
            ]
           ],
           "sequentialminus": [
            [
             0,
             "#0d0887"
            ],
            [
             0.1111111111111111,
             "#46039f"
            ],
            [
             0.2222222222222222,
             "#7201a8"
            ],
            [
             0.3333333333333333,
             "#9c179e"
            ],
            [
             0.4444444444444444,
             "#bd3786"
            ],
            [
             0.5555555555555556,
             "#d8576b"
            ],
            [
             0.6666666666666666,
             "#ed7953"
            ],
            [
             0.7777777777777778,
             "#fb9f3a"
            ],
            [
             0.8888888888888888,
             "#fdca26"
            ],
            [
             1,
             "#f0f921"
            ]
           ]
          },
          "colorway": [
           "#636efa",
           "#EF553B",
           "#00cc96",
           "#ab63fa",
           "#FFA15A",
           "#19d3f3",
           "#FF6692",
           "#B6E880",
           "#FF97FF",
           "#FECB52"
          ],
          "font": {
           "color": "#2a3f5f"
          },
          "geo": {
           "bgcolor": "white",
           "lakecolor": "white",
           "landcolor": "#E5ECF6",
           "showlakes": true,
           "showland": true,
           "subunitcolor": "white"
          },
          "hoverlabel": {
           "align": "left"
          },
          "hovermode": "closest",
          "mapbox": {
           "style": "light"
          },
          "paper_bgcolor": "white",
          "plot_bgcolor": "#E5ECF6",
          "polar": {
           "angularaxis": {
            "gridcolor": "white",
            "linecolor": "white",
            "ticks": ""
           },
           "bgcolor": "#E5ECF6",
           "radialaxis": {
            "gridcolor": "white",
            "linecolor": "white",
            "ticks": ""
           }
          },
          "scene": {
           "xaxis": {
            "backgroundcolor": "#E5ECF6",
            "gridcolor": "white",
            "gridwidth": 2,
            "linecolor": "white",
            "showbackground": true,
            "ticks": "",
            "zerolinecolor": "white"
           },
           "yaxis": {
            "backgroundcolor": "#E5ECF6",
            "gridcolor": "white",
            "gridwidth": 2,
            "linecolor": "white",
            "showbackground": true,
            "ticks": "",
            "zerolinecolor": "white"
           },
           "zaxis": {
            "backgroundcolor": "#E5ECF6",
            "gridcolor": "white",
            "gridwidth": 2,
            "linecolor": "white",
            "showbackground": true,
            "ticks": "",
            "zerolinecolor": "white"
           }
          },
          "shapedefaults": {
           "line": {
            "color": "#2a3f5f"
           }
          },
          "ternary": {
           "aaxis": {
            "gridcolor": "white",
            "linecolor": "white",
            "ticks": ""
           },
           "baxis": {
            "gridcolor": "white",
            "linecolor": "white",
            "ticks": ""
           },
           "bgcolor": "#E5ECF6",
           "caxis": {
            "gridcolor": "white",
            "linecolor": "white",
            "ticks": ""
           }
          },
          "title": {
           "x": 0.05
          },
          "xaxis": {
           "automargin": true,
           "gridcolor": "white",
           "linecolor": "white",
           "ticks": "",
           "title": {
            "standoff": 15
           },
           "zerolinecolor": "white",
           "zerolinewidth": 2
          },
          "yaxis": {
           "automargin": true,
           "gridcolor": "white",
           "linecolor": "white",
           "ticks": "",
           "title": {
            "standoff": 15
           },
           "zerolinecolor": "white",
           "zerolinewidth": 2
          }
         }
        },
        "title": {
         "text": "Predicted Price vs Actual Price for 'apeusd'"
        },
        "xaxis": {
         "title": {
          "text": "Time"
         }
        },
        "yaxis": {
         "title": {
          "text": "Actual Price ($)"
         }
        }
       }
      }
     },
     "metadata": {},
     "output_type": "display_data"
    }
   ],
   "source": [
    "print(len(test_predictions[0]))\n",
    "print()\n",
    "def ave_percentage_error(y_true, y_pred):\n",
    "    return np.mean(np.abs((y_true - y_pred) / y_true)) * 100\n",
    "#print(ave_percentage_error(price_test_y, forecast_price))\n",
    "\n",
    "fig = go.Figure()\n",
    "pred_line = go.Scatter(x=time_test_y[:len(forecast_price)], y=forecast_price, mode = 'lines', name = 'Predicted Price')\n",
    "fig.add_trace(pred_line)\n",
    "\n",
    "fig.add_trace(go.Scatter(x=time_test_y[:len(forecast_price)], y=price_test_val[:len(forecast_price)], mode = 'lines', name = 'Actual Price'))\n",
    "\n",
    "fig.update_layout(xaxis_title=\"Time\", yaxis_title=\"Actual Price ($)\", title=f\"Predicted Price vs Actual Price for '{crypto_name}'\")\n",
    "\n",
    "#fig.write_json('LSTM_figures/'+f\"{fig_name}_{crypto_name}_predicted_price_test.json\")\n",
    "fig.show()\n",
    "\n"
   ]
  },
  {
   "cell_type": "code",
   "execution_count": 38,
   "metadata": {},
   "outputs": [],
   "source": [
    "\n",
    "def forecast_prices(most_recent_time, most_recent_data):\n",
    "    fig = go.Figure()\n",
    "    forecast = crypto_price_model.predict(most_recent_data).detach().numpy()\n",
    "    forecast = np.array([num for num in forecast]).flatten()\n",
    "    td = most_recent_time + timedelta(minutes=len(forecast))\n",
    "    #print(td)\n",
    "    forecast_time = [td + timedelta(minutes=i) for i in range(len(forecast))]\n",
    "    \n",
    "    pred_line = go.Scatter(x=forecast_time, y=forecast, mode = 'lines', name = 'Predicted Price')\n",
    "\n",
    "    fig.add_trace(pred_line)\n",
    "    fig.update_layout(xaxis_title=\"Time\", yaxis_title=\"Price ($)\", title=f\"Forecasted Price for '{crypto_name}'\")\n",
    "    #fig.show()\n",
    "    return fig\n"
   ]
  },
  {
   "cell_type": "code",
   "execution_count": 39,
   "metadata": {},
   "outputs": [],
   "source": [
    "def save_figure_as_json(fig, fig_name):\n",
    "    if not os.path.exists('LSTM_figures'):\n",
    "        os.mkdir('LSTM_figures')\n",
    "    fig.write_json('LSTM_figures/'+f'{fig_name}_{crypto_name}.json')\n",
    "save_figure_as_json(fig, 'test_predictions')"
   ]
  },
  {
   "cell_type": "code",
   "execution_count": 40,
   "metadata": {},
   "outputs": [
    {
     "name": "stdout",
     "output_type": "stream",
     "text": [
      "2022-07-19 21:15:00\n",
      "[*********************100%***********************]  1 of 1 completed\n"
     ]
    }
   ],
   "source": [
    "now = datetime.now().replace(second = 0, microsecond=0)\n",
    "print(now)\n",
    "ape = yf.download('APE3-USD', period = '2h', interval = '1m')\n"
   ]
  },
  {
   "cell_type": "code",
   "execution_count": 41,
   "metadata": {},
   "outputs": [
    {
     "name": "stdout",
     "output_type": "stream",
     "text": [
      "2022-07-19 21:11:00-05:00\n"
     ]
    },
    {
     "data": {
      "application/vnd.plotly.v1+json": {
       "config": {
        "plotlyServerURL": "https://plot.ly"
       },
       "data": [
        {
         "mode": "lines",
         "name": "Predicted Price",
         "type": "scatter",
         "x": [
          "2022-07-19T22:06:00-05:00",
          "2022-07-19T22:07:00-05:00",
          "2022-07-19T22:08:00-05:00",
          "2022-07-19T22:09:00-05:00",
          "2022-07-19T22:10:00-05:00",
          "2022-07-19T22:11:00-05:00",
          "2022-07-19T22:12:00-05:00",
          "2022-07-19T22:13:00-05:00",
          "2022-07-19T22:14:00-05:00",
          "2022-07-19T22:15:00-05:00",
          "2022-07-19T22:16:00-05:00",
          "2022-07-19T22:17:00-05:00",
          "2022-07-19T22:18:00-05:00",
          "2022-07-19T22:19:00-05:00",
          "2022-07-19T22:20:00-05:00",
          "2022-07-19T22:21:00-05:00",
          "2022-07-19T22:22:00-05:00",
          "2022-07-19T22:23:00-05:00",
          "2022-07-19T22:24:00-05:00",
          "2022-07-19T22:25:00-05:00",
          "2022-07-19T22:26:00-05:00",
          "2022-07-19T22:27:00-05:00",
          "2022-07-19T22:28:00-05:00",
          "2022-07-19T22:29:00-05:00",
          "2022-07-19T22:30:00-05:00",
          "2022-07-19T22:31:00-05:00",
          "2022-07-19T22:32:00-05:00",
          "2022-07-19T22:33:00-05:00",
          "2022-07-19T22:34:00-05:00",
          "2022-07-19T22:35:00-05:00",
          "2022-07-19T22:36:00-05:00",
          "2022-07-19T22:37:00-05:00",
          "2022-07-19T22:38:00-05:00",
          "2022-07-19T22:39:00-05:00",
          "2022-07-19T22:40:00-05:00",
          "2022-07-19T22:41:00-05:00",
          "2022-07-19T22:42:00-05:00",
          "2022-07-19T22:43:00-05:00",
          "2022-07-19T22:44:00-05:00",
          "2022-07-19T22:45:00-05:00",
          "2022-07-19T22:46:00-05:00",
          "2022-07-19T22:47:00-05:00",
          "2022-07-19T22:48:00-05:00",
          "2022-07-19T22:49:00-05:00",
          "2022-07-19T22:50:00-05:00",
          "2022-07-19T22:51:00-05:00",
          "2022-07-19T22:52:00-05:00",
          "2022-07-19T22:53:00-05:00",
          "2022-07-19T22:54:00-05:00",
          "2022-07-19T22:55:00-05:00",
          "2022-07-19T22:56:00-05:00",
          "2022-07-19T22:57:00-05:00",
          "2022-07-19T22:58:00-05:00",
          "2022-07-19T22:59:00-05:00",
          "2022-07-19T23:00:00-05:00"
         ],
         "y": [
          0.48731109499931335,
          0.48731109499931335,
          0.48731109499931335,
          0.48731109499931335,
          0.48731109499931335,
          0.48731109499931335,
          0.48731109499931335,
          0.48731109499931335,
          0.48731109499931335,
          0.48731109499931335,
          0.48731109499931335,
          0.48731109499931335,
          0.48731109499931335,
          0.48731109499931335,
          0.48731109499931335,
          0.48731109499931335,
          0.48731109499931335,
          0.48731109499931335,
          0.48731109499931335,
          0.48731109499931335,
          0.48731109499931335,
          0.48731109499931335,
          0.48731109499931335,
          0.48731109499931335,
          0.48731109499931335,
          0.48731109499931335,
          0.48731109499931335,
          0.48731109499931335,
          0.48731109499931335,
          0.48731109499931335,
          0.48731109499931335,
          0.48731109499931335,
          0.48731109499931335,
          0.48731109499931335,
          0.48731109499931335,
          0.48731109499931335,
          0.48731109499931335,
          0.48731109499931335,
          0.48731109499931335,
          0.48731109499931335,
          0.48731109499931335,
          0.48731109499931335,
          0.48731109499931335,
          0.48731109499931335,
          0.48731109499931335,
          0.48731109499931335,
          0.48731109499931335,
          0.48731109499931335,
          0.48731109499931335,
          0.48731109499931335,
          0.48731109499931335,
          0.48731109499931335,
          0.48731109499931335,
          0.48731109499931335,
          0.48731109499931335
         ]
        }
       ],
       "layout": {
        "template": {
         "data": {
          "bar": [
           {
            "error_x": {
             "color": "#2a3f5f"
            },
            "error_y": {
             "color": "#2a3f5f"
            },
            "marker": {
             "line": {
              "color": "#E5ECF6",
              "width": 0.5
             },
             "pattern": {
              "fillmode": "overlay",
              "size": 10,
              "solidity": 0.2
             }
            },
            "type": "bar"
           }
          ],
          "barpolar": [
           {
            "marker": {
             "line": {
              "color": "#E5ECF6",
              "width": 0.5
             },
             "pattern": {
              "fillmode": "overlay",
              "size": 10,
              "solidity": 0.2
             }
            },
            "type": "barpolar"
           }
          ],
          "carpet": [
           {
            "aaxis": {
             "endlinecolor": "#2a3f5f",
             "gridcolor": "white",
             "linecolor": "white",
             "minorgridcolor": "white",
             "startlinecolor": "#2a3f5f"
            },
            "baxis": {
             "endlinecolor": "#2a3f5f",
             "gridcolor": "white",
             "linecolor": "white",
             "minorgridcolor": "white",
             "startlinecolor": "#2a3f5f"
            },
            "type": "carpet"
           }
          ],
          "choropleth": [
           {
            "colorbar": {
             "outlinewidth": 0,
             "ticks": ""
            },
            "type": "choropleth"
           }
          ],
          "contour": [
           {
            "colorbar": {
             "outlinewidth": 0,
             "ticks": ""
            },
            "colorscale": [
             [
              0,
              "#0d0887"
             ],
             [
              0.1111111111111111,
              "#46039f"
             ],
             [
              0.2222222222222222,
              "#7201a8"
             ],
             [
              0.3333333333333333,
              "#9c179e"
             ],
             [
              0.4444444444444444,
              "#bd3786"
             ],
             [
              0.5555555555555556,
              "#d8576b"
             ],
             [
              0.6666666666666666,
              "#ed7953"
             ],
             [
              0.7777777777777778,
              "#fb9f3a"
             ],
             [
              0.8888888888888888,
              "#fdca26"
             ],
             [
              1,
              "#f0f921"
             ]
            ],
            "type": "contour"
           }
          ],
          "contourcarpet": [
           {
            "colorbar": {
             "outlinewidth": 0,
             "ticks": ""
            },
            "type": "contourcarpet"
           }
          ],
          "heatmap": [
           {
            "colorbar": {
             "outlinewidth": 0,
             "ticks": ""
            },
            "colorscale": [
             [
              0,
              "#0d0887"
             ],
             [
              0.1111111111111111,
              "#46039f"
             ],
             [
              0.2222222222222222,
              "#7201a8"
             ],
             [
              0.3333333333333333,
              "#9c179e"
             ],
             [
              0.4444444444444444,
              "#bd3786"
             ],
             [
              0.5555555555555556,
              "#d8576b"
             ],
             [
              0.6666666666666666,
              "#ed7953"
             ],
             [
              0.7777777777777778,
              "#fb9f3a"
             ],
             [
              0.8888888888888888,
              "#fdca26"
             ],
             [
              1,
              "#f0f921"
             ]
            ],
            "type": "heatmap"
           }
          ],
          "heatmapgl": [
           {
            "colorbar": {
             "outlinewidth": 0,
             "ticks": ""
            },
            "colorscale": [
             [
              0,
              "#0d0887"
             ],
             [
              0.1111111111111111,
              "#46039f"
             ],
             [
              0.2222222222222222,
              "#7201a8"
             ],
             [
              0.3333333333333333,
              "#9c179e"
             ],
             [
              0.4444444444444444,
              "#bd3786"
             ],
             [
              0.5555555555555556,
              "#d8576b"
             ],
             [
              0.6666666666666666,
              "#ed7953"
             ],
             [
              0.7777777777777778,
              "#fb9f3a"
             ],
             [
              0.8888888888888888,
              "#fdca26"
             ],
             [
              1,
              "#f0f921"
             ]
            ],
            "type": "heatmapgl"
           }
          ],
          "histogram": [
           {
            "marker": {
             "pattern": {
              "fillmode": "overlay",
              "size": 10,
              "solidity": 0.2
             }
            },
            "type": "histogram"
           }
          ],
          "histogram2d": [
           {
            "colorbar": {
             "outlinewidth": 0,
             "ticks": ""
            },
            "colorscale": [
             [
              0,
              "#0d0887"
             ],
             [
              0.1111111111111111,
              "#46039f"
             ],
             [
              0.2222222222222222,
              "#7201a8"
             ],
             [
              0.3333333333333333,
              "#9c179e"
             ],
             [
              0.4444444444444444,
              "#bd3786"
             ],
             [
              0.5555555555555556,
              "#d8576b"
             ],
             [
              0.6666666666666666,
              "#ed7953"
             ],
             [
              0.7777777777777778,
              "#fb9f3a"
             ],
             [
              0.8888888888888888,
              "#fdca26"
             ],
             [
              1,
              "#f0f921"
             ]
            ],
            "type": "histogram2d"
           }
          ],
          "histogram2dcontour": [
           {
            "colorbar": {
             "outlinewidth": 0,
             "ticks": ""
            },
            "colorscale": [
             [
              0,
              "#0d0887"
             ],
             [
              0.1111111111111111,
              "#46039f"
             ],
             [
              0.2222222222222222,
              "#7201a8"
             ],
             [
              0.3333333333333333,
              "#9c179e"
             ],
             [
              0.4444444444444444,
              "#bd3786"
             ],
             [
              0.5555555555555556,
              "#d8576b"
             ],
             [
              0.6666666666666666,
              "#ed7953"
             ],
             [
              0.7777777777777778,
              "#fb9f3a"
             ],
             [
              0.8888888888888888,
              "#fdca26"
             ],
             [
              1,
              "#f0f921"
             ]
            ],
            "type": "histogram2dcontour"
           }
          ],
          "mesh3d": [
           {
            "colorbar": {
             "outlinewidth": 0,
             "ticks": ""
            },
            "type": "mesh3d"
           }
          ],
          "parcoords": [
           {
            "line": {
             "colorbar": {
              "outlinewidth": 0,
              "ticks": ""
             }
            },
            "type": "parcoords"
           }
          ],
          "pie": [
           {
            "automargin": true,
            "type": "pie"
           }
          ],
          "scatter": [
           {
            "marker": {
             "colorbar": {
              "outlinewidth": 0,
              "ticks": ""
             }
            },
            "type": "scatter"
           }
          ],
          "scatter3d": [
           {
            "line": {
             "colorbar": {
              "outlinewidth": 0,
              "ticks": ""
             }
            },
            "marker": {
             "colorbar": {
              "outlinewidth": 0,
              "ticks": ""
             }
            },
            "type": "scatter3d"
           }
          ],
          "scattercarpet": [
           {
            "marker": {
             "colorbar": {
              "outlinewidth": 0,
              "ticks": ""
             }
            },
            "type": "scattercarpet"
           }
          ],
          "scattergeo": [
           {
            "marker": {
             "colorbar": {
              "outlinewidth": 0,
              "ticks": ""
             }
            },
            "type": "scattergeo"
           }
          ],
          "scattergl": [
           {
            "marker": {
             "colorbar": {
              "outlinewidth": 0,
              "ticks": ""
             }
            },
            "type": "scattergl"
           }
          ],
          "scattermapbox": [
           {
            "marker": {
             "colorbar": {
              "outlinewidth": 0,
              "ticks": ""
             }
            },
            "type": "scattermapbox"
           }
          ],
          "scatterpolar": [
           {
            "marker": {
             "colorbar": {
              "outlinewidth": 0,
              "ticks": ""
             }
            },
            "type": "scatterpolar"
           }
          ],
          "scatterpolargl": [
           {
            "marker": {
             "colorbar": {
              "outlinewidth": 0,
              "ticks": ""
             }
            },
            "type": "scatterpolargl"
           }
          ],
          "scatterternary": [
           {
            "marker": {
             "colorbar": {
              "outlinewidth": 0,
              "ticks": ""
             }
            },
            "type": "scatterternary"
           }
          ],
          "surface": [
           {
            "colorbar": {
             "outlinewidth": 0,
             "ticks": ""
            },
            "colorscale": [
             [
              0,
              "#0d0887"
             ],
             [
              0.1111111111111111,
              "#46039f"
             ],
             [
              0.2222222222222222,
              "#7201a8"
             ],
             [
              0.3333333333333333,
              "#9c179e"
             ],
             [
              0.4444444444444444,
              "#bd3786"
             ],
             [
              0.5555555555555556,
              "#d8576b"
             ],
             [
              0.6666666666666666,
              "#ed7953"
             ],
             [
              0.7777777777777778,
              "#fb9f3a"
             ],
             [
              0.8888888888888888,
              "#fdca26"
             ],
             [
              1,
              "#f0f921"
             ]
            ],
            "type": "surface"
           }
          ],
          "table": [
           {
            "cells": {
             "fill": {
              "color": "#EBF0F8"
             },
             "line": {
              "color": "white"
             }
            },
            "header": {
             "fill": {
              "color": "#C8D4E3"
             },
             "line": {
              "color": "white"
             }
            },
            "type": "table"
           }
          ]
         },
         "layout": {
          "annotationdefaults": {
           "arrowcolor": "#2a3f5f",
           "arrowhead": 0,
           "arrowwidth": 1
          },
          "autotypenumbers": "strict",
          "coloraxis": {
           "colorbar": {
            "outlinewidth": 0,
            "ticks": ""
           }
          },
          "colorscale": {
           "diverging": [
            [
             0,
             "#8e0152"
            ],
            [
             0.1,
             "#c51b7d"
            ],
            [
             0.2,
             "#de77ae"
            ],
            [
             0.3,
             "#f1b6da"
            ],
            [
             0.4,
             "#fde0ef"
            ],
            [
             0.5,
             "#f7f7f7"
            ],
            [
             0.6,
             "#e6f5d0"
            ],
            [
             0.7,
             "#b8e186"
            ],
            [
             0.8,
             "#7fbc41"
            ],
            [
             0.9,
             "#4d9221"
            ],
            [
             1,
             "#276419"
            ]
           ],
           "sequential": [
            [
             0,
             "#0d0887"
            ],
            [
             0.1111111111111111,
             "#46039f"
            ],
            [
             0.2222222222222222,
             "#7201a8"
            ],
            [
             0.3333333333333333,
             "#9c179e"
            ],
            [
             0.4444444444444444,
             "#bd3786"
            ],
            [
             0.5555555555555556,
             "#d8576b"
            ],
            [
             0.6666666666666666,
             "#ed7953"
            ],
            [
             0.7777777777777778,
             "#fb9f3a"
            ],
            [
             0.8888888888888888,
             "#fdca26"
            ],
            [
             1,
             "#f0f921"
            ]
           ],
           "sequentialminus": [
            [
             0,
             "#0d0887"
            ],
            [
             0.1111111111111111,
             "#46039f"
            ],
            [
             0.2222222222222222,
             "#7201a8"
            ],
            [
             0.3333333333333333,
             "#9c179e"
            ],
            [
             0.4444444444444444,
             "#bd3786"
            ],
            [
             0.5555555555555556,
             "#d8576b"
            ],
            [
             0.6666666666666666,
             "#ed7953"
            ],
            [
             0.7777777777777778,
             "#fb9f3a"
            ],
            [
             0.8888888888888888,
             "#fdca26"
            ],
            [
             1,
             "#f0f921"
            ]
           ]
          },
          "colorway": [
           "#636efa",
           "#EF553B",
           "#00cc96",
           "#ab63fa",
           "#FFA15A",
           "#19d3f3",
           "#FF6692",
           "#B6E880",
           "#FF97FF",
           "#FECB52"
          ],
          "font": {
           "color": "#2a3f5f"
          },
          "geo": {
           "bgcolor": "white",
           "lakecolor": "white",
           "landcolor": "#E5ECF6",
           "showlakes": true,
           "showland": true,
           "subunitcolor": "white"
          },
          "hoverlabel": {
           "align": "left"
          },
          "hovermode": "closest",
          "mapbox": {
           "style": "light"
          },
          "paper_bgcolor": "white",
          "plot_bgcolor": "#E5ECF6",
          "polar": {
           "angularaxis": {
            "gridcolor": "white",
            "linecolor": "white",
            "ticks": ""
           },
           "bgcolor": "#E5ECF6",
           "radialaxis": {
            "gridcolor": "white",
            "linecolor": "white",
            "ticks": ""
           }
          },
          "scene": {
           "xaxis": {
            "backgroundcolor": "#E5ECF6",
            "gridcolor": "white",
            "gridwidth": 2,
            "linecolor": "white",
            "showbackground": true,
            "ticks": "",
            "zerolinecolor": "white"
           },
           "yaxis": {
            "backgroundcolor": "#E5ECF6",
            "gridcolor": "white",
            "gridwidth": 2,
            "linecolor": "white",
            "showbackground": true,
            "ticks": "",
            "zerolinecolor": "white"
           },
           "zaxis": {
            "backgroundcolor": "#E5ECF6",
            "gridcolor": "white",
            "gridwidth": 2,
            "linecolor": "white",
            "showbackground": true,
            "ticks": "",
            "zerolinecolor": "white"
           }
          },
          "shapedefaults": {
           "line": {
            "color": "#2a3f5f"
           }
          },
          "ternary": {
           "aaxis": {
            "gridcolor": "white",
            "linecolor": "white",
            "ticks": ""
           },
           "baxis": {
            "gridcolor": "white",
            "linecolor": "white",
            "ticks": ""
           },
           "bgcolor": "#E5ECF6",
           "caxis": {
            "gridcolor": "white",
            "linecolor": "white",
            "ticks": ""
           }
          },
          "title": {
           "x": 0.05
          },
          "xaxis": {
           "automargin": true,
           "gridcolor": "white",
           "linecolor": "white",
           "ticks": "",
           "title": {
            "standoff": 15
           },
           "zerolinecolor": "white",
           "zerolinewidth": 2
          },
          "yaxis": {
           "automargin": true,
           "gridcolor": "white",
           "linecolor": "white",
           "ticks": "",
           "title": {
            "standoff": 15
           },
           "zerolinecolor": "white",
           "zerolinewidth": 2
          }
         }
        },
        "title": {
         "text": "Forecasted Price for 'apeusd'"
        },
        "xaxis": {
         "title": {
          "text": "Time"
         }
        },
        "yaxis": {
         "title": {
          "text": "Price ($)"
         }
        }
       }
      }
     },
     "metadata": {},
     "output_type": "display_data"
    }
   ],
   "source": [
    "#print(ape.columns)\n",
    "#print(ape.index)\n",
    "ape.index = ape.index.tz_convert('UTC').tz_convert('US/Central')\n",
    "ape_price = ape['Close']\n",
    "last_time = ape.index[-1]\n",
    "print(last_time)\n",
    "figure = forecast_prices(last_time,ape_price)\n",
    "save_figure_as_json(figure, 'Forecast')\n",
    "figure"
   ]
  },
  {
   "cell_type": "code",
   "execution_count": 42,
   "metadata": {},
   "outputs": [],
   "source": [
    "if not os.path.exists('LSTM_parameters'):\n",
    "    os.mkdir('LSTM_parameters')\n",
    "#fig.write_html('LSTM_parameters/'+f'{crypto_name}_predicted_price.html')\n",
    "torch.save(crypto_price_model.state_dict(), f'LSTM_parameters/{crypto_name}_model_weights.pth')"
   ]
  },
  {
   "cell_type": "code",
   "execution_count": 43,
   "metadata": {},
   "outputs": [
    {
     "name": "stdout",
     "output_type": "stream",
     "text": [
      "cuda\n"
     ]
    },
    {
     "data": {
      "text/plain": [
       "<All keys matched successfully>"
      ]
     },
     "execution_count": 43,
     "metadata": {},
     "output_type": "execute_result"
    }
   ],
   "source": [
    "device = torch.device('cuda' if torch.cuda.is_available() else 'cpu')\n",
    "print(device)\n",
    "crypto_price_model.load_state_dict(torch.load(f'LSTM_parameters/{crypto_name}_model_weights.pth',))"
   ]
  },
  {
   "cell_type": "code",
   "execution_count": 49,
   "metadata": {},
   "outputs": [],
   "source": [
    "avax_ticker = yf.Ticker('AVAX-USD')\n",
    "\n"
   ]
  },
  {
   "cell_type": "code",
   "execution_count": 51,
   "metadata": {},
   "outputs": [
    {
     "data": {
      "text/plain": [
       "{'companyOfficers': [],\n",
       " 'twitter': '\"https://twitter.com/AvalancheAVAX\"',\n",
       " 'name': 'Avalanche',\n",
       " 'startDate': 1594598400,\n",
       " 'description': 'Avalanche (AVAX) is a cryptocurrency launched in 2020. Avalanche has a current supply of 404,229,626.49901325 with 283,854,087.80761325 in circulation. The last known price of Avalanche is 23.30806077 USD and is up 9.24 over the last 24 hours. It is currently trading on 285 active market(s) with $1,074,987,179.50 traded over the last 24 hours. More information can be found at https://avax.network/.',\n",
       " 'maxAge': 1,\n",
       " 'exchange': 'CCC',\n",
       " 'shortName': 'Avalanche USD',\n",
       " 'exchangeTimezoneName': 'UTC',\n",
       " 'exchangeTimezoneShortName': 'UTC',\n",
       " 'isEsgPopulated': False,\n",
       " 'gmtOffSetMilliseconds': '0',\n",
       " 'quoteType': 'CRYPTOCURRENCY',\n",
       " 'symbol': 'AVAX-USD',\n",
       " 'messageBoardId': 'finmb_AVAX_CCC',\n",
       " 'market': 'ccc_market',\n",
       " 'previousClose': 24.725595,\n",
       " 'regularMarketOpen': 24.725595,\n",
       " 'twoHundredDayAverage': 59.716446,\n",
       " 'trailingAnnualDividendYield': None,\n",
       " 'payoutRatio': None,\n",
       " 'volume24Hr': 1084073600,\n",
       " 'regularMarketDayHigh': 25.214676,\n",
       " 'navPrice': None,\n",
       " 'averageDailyVolume10Day': 529239422,\n",
       " 'totalAssets': None,\n",
       " 'regularMarketPreviousClose': 24.725595,\n",
       " 'fiftyDayAverage': 19.797318,\n",
       " 'trailingAnnualDividendRate': None,\n",
       " 'open': 24.725595,\n",
       " 'toCurrency': 'USD=X',\n",
       " 'averageVolume10days': 529239422,\n",
       " 'expireDate': None,\n",
       " 'yield': None,\n",
       " 'algorithm': None,\n",
       " 'dividendRate': None,\n",
       " 'exDividendDate': None,\n",
       " 'beta': None,\n",
       " 'circulatingSupply': 283858464,\n",
       " 'regularMarketDayLow': 24.538462,\n",
       " 'priceHint': 2,\n",
       " 'currency': 'USD',\n",
       " 'regularMarketVolume': 1084073600,\n",
       " 'lastMarket': 'CoinMarketCap',\n",
       " 'maxSupply': None,\n",
       " 'openInterest': None,\n",
       " 'marketCap': 7124788736,\n",
       " 'volumeAllCurrencies': 1084073600,\n",
       " 'strikePrice': None,\n",
       " 'averageVolume': 687530900,\n",
       " 'priceToSalesTrailing12Months': None,\n",
       " 'dayLow': 24.538462,\n",
       " 'ask': None,\n",
       " 'ytdReturn': None,\n",
       " 'askSize': None,\n",
       " 'volume': 1084073600,\n",
       " 'fiftyTwoWeekHigh': 146.21786,\n",
       " 'forwardPE': None,\n",
       " 'fromCurrency': 'AVAX',\n",
       " 'fiveYearAvgDividendYield': None,\n",
       " 'fiftyTwoWeekLow': 9.483743,\n",
       " 'bid': None,\n",
       " 'tradeable': False,\n",
       " 'dividendYield': None,\n",
       " 'bidSize': None,\n",
       " 'dayHigh': 25.214676,\n",
       " 'coinMarketCapLink': 'https://coinmarketcap.com/currencies/avalanche',\n",
       " 'regularMarketPrice': 25.099792,\n",
       " 'preMarketPrice': None,\n",
       " 'logo_url': ''}"
      ]
     },
     "execution_count": 51,
     "metadata": {},
     "output_type": "execute_result"
    }
   ],
   "source": [
    "avax_ticker.info"
   ]
  }
 ],
 "metadata": {
  "kernelspec": {
   "display_name": "Python 3.8.12 ('cdash')",
   "language": "python",
   "name": "python3"
  },
  "language_info": {
   "codemirror_mode": {
    "name": "ipython",
    "version": 3
   },
   "file_extension": ".py",
   "mimetype": "text/x-python",
   "name": "python",
   "nbconvert_exporter": "python",
   "pygments_lexer": "ipython3",
   "version": "3.8.12"
  },
  "orig_nbformat": 4,
  "vscode": {
   "interpreter": {
    "hash": "6c248653bc0606bb5ad98e7ce728ed50a43cf3c58f96e1e3d8b3257b8bc7a005"
   }
  }
 },
 "nbformat": 4,
 "nbformat_minor": 2
}
