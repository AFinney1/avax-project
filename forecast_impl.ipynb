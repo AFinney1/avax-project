{
 "cells": [
  {
   "cell_type": "code",
   "execution_count": null,
   "metadata": {},
   "outputs": [],
   "source": [
    "import torch\n",
    "import torch.nn.utils.prune as prune \n",
    "import numpy as np\n",
    "import plotly.graph_objects as go \n",
    "import pandas as pd \n",
    "import torchvision\n",
    "\n"
   ]
  },
  {
   "cell_type": "code",
   "execution_count": null,
   "metadata": {},
   "outputs": [],
   "source": [
    "crypto_name = 'apeusd'\n",
    "#example_ohlc_df = pd.DataFrame({\"Time\": [1, 2, 3, 4, 5, 6, 7, 8, 9, 10],\"Open\": [1, 2, 3, 4, 5, 6, 7, 8, 9, 10],\"High\": [1, 2, 3, 4, 5, 6, 7, 8, 9, 10],\"Low\": [1, 2, 3, 4, 5, 6, 7, 8, 9, 10],\"Close\": [1, 2, 3, 4, 5, 6, 7, 8, 9, 10]})\n",
    "\n",
    "ohlc_df = pd.read_csv('historical_price/' + crypto_name + '.csv')\n",
    "ohlc_df.index = pd.to_datetime(ohlc_df['time'], unit = 'ms')\n",
    "#ohlc_df.index = ohlc_df.index.tz_localize('UTC').tz_convert('US/Eastern')"
   ]
  },
  {
   "cell_type": "code",
   "execution_count": null,
   "metadata": {},
   "outputs": [],
   "source": [
    "train_loader = torch.utils.data.DataLoader(torchvision.datasets.MNIST('../data', \n",
    "    train=True, \n",
    "    download=True,\n",
    "    transform=torchvision.transforms.Compose),\n",
    "    batch_size=1, \n",
    "    shuffle=True)\n",
    "\n",
    "test_loader = torch.utils.data.DataLoader(, \n",
    "    train=False,\n",
    "    transform=t\n",
    "    batch_size=1,\n",
    "     shuffle=True)\n"
   ]
  },
  {
   "cell_type": "code",
   "execution_count": null,
   "metadata": {},
   "outputs": [],
   "source": [
    "class NeuralNetwork(torch.nn.Module):\n",
    "    def __init__(self):\n",
    "        super(NeuralNetwork, self).__init__()\n",
    "        self.fc1 = torch.nn.Linear(784, 1000) #input_size (784 becaues MNIST images are of dimension 28*28), hidden size\n",
    "        self.fc2 = torch.nn.Linear(1000, 1000) #hidden size, output size\n",
    "        self.fc3 = torch.nn.Linear(1000, 500) #hidden size, output size\n",
    "        self.fc4 = torch.nn.Linear(500, 200) #hidden size, output size\n",
    "        self.fc5 = torch.nn.Linear(200, 10) #hidden size, output size\n",
    "     \n",
    "    def forward(self,x):\n",
    "        x = x.view(1, -1)\n",
    "        x = self.fc1(x)\n",
    "        x = torch.nn.functional.relu(x)\n",
    "        x = self.fc2(x)\n",
    "        x = torch.nn.functional.relu(x)\n",
    "        x = self.fc3(x)\n",
    "        x = torch.nn.functional.relu(x)\n",
    "        x = self.fc4(x)\n",
    "        x = torch.nn.functional.relu(x)\n",
    "        x = self.fc5(x)\n",
    "        #print(x.shape)\n",
    "        return x\n",
    "device = torch.device('cuda' if torch.cuda.is_available() else 'cpu')\n",
    "print(device)\n",
    "crypto_price_model = NeuralNetwork()\n",
    "if torch.cuda.is_available():\n",
    "    crypto_price_model.cuda()\n",
    "crypto_price_model.to(device)\n",
    "\n",
    "loss_function = torch.nn.CrossEntropyLoss() # Criterion, I believe CrossEntropyLoss has SoftMax built-in so I used it here, this is why my last layer doesn't have a softmax\n",
    "optimizer  = torch.optim.Adam(crypto_price_model.parameters(), lr=0.001) # used adaptive moment estimation to optimize the model"
   ]
  },
  {
   "cell_type": "code",
   "execution_count": null,
   "metadata": {},
   "outputs": [],
   "source": [
    "epochs = 2\n",
    "min_validation_loss = np.inf\n",
    "crypto_price_model.train() # set model to training mode\n",
    "# if a GPU is available, use it\n",
    "# if a model is in the directory, load it instead of training\n",
    "\"\"\"Also referenced from https://www.geeksforgeeks.org/training-neural-networks-with-validation-using-pytorch/\"\"\"\n",
    "for epoch in range(epochs):\n",
    "    training_loss = 0.0    \n",
    "    for data, labels in train_loader:\n",
    "        if torch.cuda.is_available():\n",
    "            data, labels = data.to(device), labels.to(device) # move to GPU, if available\n",
    "        optimizer.zero_grad()\n",
    "        target = crypto_price_model(data)\n",
    "        loss = loss_function(target, labels)\n",
    "        loss.backward()\n",
    "        optimizer.step() # update the weights\n",
    "        training_loss += loss.item()\n",
    "    validation_loss = 0.0\n",
    "    crypto_price_model.eval()\n",
    "    for data, labels in test_loader:\n",
    "        if torch.cuda.is_available():\n",
    "            data, labels = data.to(device), labels.to(device) # move to GPU, if available\n",
    "        target = crypto_price_model(data)\n",
    "        loss = loss_function(target, labels)\n",
    "        validation_loss += loss.item()*data.size(0)\n",
    "    print(f'Epoch {epoch+1}/{epochs} Loss: {training_loss/len(train_loader)}')\n",
    "    if min_validation_loss > validation_loss:\n",
    "        print(f'Validation Loss Decreased({min_validation_loss:.6f}--->{validation_loss:.6f})\\t Saving The Model')\n"
   ]
  },
  {
   "cell_type": "code",
   "execution_count": null,
   "metadata": {},
   "outputs": [],
   "source": [
    "torch.save(crypto_price_model.state_dict(), f'{crypto_name}_model_weights.pth')"
   ]
  },
  {
   "cell_type": "code",
   "execution_count": null,
   "metadata": {},
   "outputs": [],
   "source": [
    "device = torch.device('cuda' if torch.cuda.is_available() else 'cpu')\n",
    "crypto_price_model.load_state_dict(torch.load(f'{crypto_name}_model_weights.pth', map_location=torch.device(device)))"
   ]
  }
 ],
 "metadata": {
  "language_info": {
   "name": "python"
  },
  "orig_nbformat": 4
 },
 "nbformat": 4,
 "nbformat_minor": 2
}
