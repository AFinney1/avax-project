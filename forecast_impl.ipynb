{
 "cells": [
  {
   "cell_type": "code",
   "execution_count": 3,
   "metadata": {},
   "outputs": [],
   "source": [
    "import torch\n",
    "import torch.nn.utils.prune as prune \n",
    "import numpy as np\n",
    "import plotly.graph_objects as go \n",
    "import pandas as pd \n",
    "import torchvision\n",
    "from torch.autograd import Variable\n"
   ]
  },
  {
   "cell_type": "code",
   "execution_count": 4,
   "metadata": {},
   "outputs": [
    {
     "data": {
      "text/plain": [
       "False"
      ]
     },
     "execution_count": 4,
     "metadata": {},
     "output_type": "execute_result"
    }
   ],
   "source": [
    "check_gpu = torch.cuda.is_available()\n",
    "check_gpu"
   ]
  },
  {
   "cell_type": "code",
   "execution_count": 5,
   "metadata": {},
   "outputs": [],
   "source": [
    "# check_devices = torch.cuda.get_device_name(0)\n",
    "# check_devices"
   ]
  },
  {
   "cell_type": "code",
   "execution_count": 6,
   "metadata": {},
   "outputs": [],
   "source": [
    "crypto_name = 'apeusd'\n",
    "#example_ohlc_df = pd.DataFrame({\"Time\": [1, 2, 3, 4, 5, 6, 7, 8, 9, 10],\"Open\": [1, 2, 3, 4, 5, 6, 7, 8, 9, 10],\"High\": [1, 2, 3, 4, 5, 6, 7, 8, 9, 10],\"Low\": [1, 2, 3, 4, 5, 6, 7, 8, 9, 10],\"Close\": [1, 2, 3, 4, 5, 6, 7, 8, 9, 10]})\n",
    "\n",
    "ohlc_df = pd.read_csv('historical_price/' + crypto_name + '.csv')\n",
    "ohlc_df.index = pd.to_datetime(ohlc_df['time'], unit = 'ms')\n",
    "\n",
    "#ohlc_df.index = ohlc_df.index.tz_localize('UTC').tz_convert('US/Eastern')"
   ]
  },
  {
   "cell_type": "code",
   "execution_count": 12,
   "metadata": {},
   "outputs": [
    {
     "data": {
      "text/plain": [
       "time\n",
       "2022-07-14 07:18:00    4.4822\n",
       "2022-07-14 07:19:00    4.4764\n",
       "2022-07-14 07:21:00    4.4792\n",
       "2022-07-14 07:23:00    4.4885\n",
       "2022-07-14 07:24:00    4.4817\n",
       "Name: close, dtype: float64"
      ]
     },
     "execution_count": 12,
     "metadata": {},
     "output_type": "execute_result"
    }
   ],
   "source": [
    "price_dataset = ohlc_df.close[-1000:]\n",
    "price_dataset.head()"
   ]
  },
  {
   "cell_type": "code",
   "execution_count": 15,
   "metadata": {},
   "outputs": [
    {
     "name": "stdout",
     "output_type": "stream",
     "text": [
      "200\n"
     ]
    }
   ],
   "source": [
    "price_dataset_x = price_dataset[500:]\n",
    "price_dataset_y = price_dataset[-700:-500]\n",
    "print(len(price_dataset_y))"
   ]
  },
  {
   "cell_type": "code",
   "execution_count": 17,
   "metadata": {},
   "outputs": [],
   "source": [
    "price_test_x = price_dataset[-500:-400]\n",
    "price_test_y = price_dataset[-400:-300]"
   ]
  },
  {
   "cell_type": "code",
   "execution_count": 9,
   "metadata": {},
   "outputs": [],
   "source": [
    "class TimeSeriesDataset(torch.utils.data.Dataset):\n",
    "    def __init__(self, X, y, seq_len=10):\n",
    "        self.X = X\n",
    "        self.y = y\n",
    "        self.seq_len = seq_len\n",
    "    def __len__(self):\n",
    "        return self.X.__len__() - (self.seq_len - 1)\n",
    "\n",
    "    def __getitem__(self, index):\n",
    "        return (self.X[index:index+self.seq_len], self.y[index+self.seq_len-1])"
   ]
  },
  {
   "cell_type": "code",
   "execution_count": 18,
   "metadata": {},
   "outputs": [],
   "source": [
    "train_dataset = TimeSeriesDataset(price_dataset_x, price_dataset_y, seq_len=10)\n",
    "test_dataset = TimeSeriesDataset(price_test_x, price_test_y, seq_len=10)"
   ]
  },
  {
   "cell_type": "code",
   "execution_count": 16,
   "metadata": {},
   "outputs": [],
   "source": [
    "seq_len = 10"
   ]
  },
  {
   "cell_type": "code",
   "execution_count": 21,
   "metadata": {},
   "outputs": [],
   "source": [
    "train_loader = torch.utils.data.DataLoader(\n",
    "    train_dataset,\n",
    "    batch_size=seq_len, \n",
    "    shuffle=False)\n",
    "\n",
    "test_loader = torch.utils.data.DataLoader(\n",
    "    test_dataset, \n",
    "    batch_size=seq_len, \n",
    "    shuffle=False)"
   ]
  },
  {
   "cell_type": "code",
   "execution_count": 23,
   "metadata": {},
   "outputs": [
    {
     "name": "stdout",
     "output_type": "stream",
     "text": [
      "cpu\n"
     ]
    }
   ],
   "source": [
    "class LSTM_Model(torch.nn.Module):\n",
    "    def __init__(self, batch_size, output_size, hidden_size, embedding_length):\n",
    "        super(LSTM_Model, self).__init__()\n",
    "        self.batch_size = batch_size\n",
    "        self.output_size = output_size\n",
    "        self.hidden_size = hidden_size\n",
    "        self.lstm = torch.nn.LSTM(embedding_length, hidden_size) # Our main hero for this tutorial\n",
    "        self.label = torch.nn.Linear(hidden_size, output_size)\n",
    "        \n",
    "    def forward(self, input_sentence, batch_size=None):\n",
    "        input = self.word_embeddings(input_sentence) \n",
    "        input = input.permute(1, 0, 2) \n",
    "        if batch_size is None:\n",
    "            h_0 = Variable(torch.zeros(1, self.batch_size, self.hidden_size).cuda()) \n",
    "            c_0 = Variable(torch.zeros(1, self.batch_size, self.hidden_size).cuda()) \n",
    "        else:\n",
    "            h_0 = Variable(torch.zeros(1, batch_size, self.hidden_size).cuda())\n",
    "            c_0 = Variable(torch.zeros(1, batch_size, self.hidden_size).cuda())\n",
    "        output, (final_hidden_state, final_cell_state) = self.lstm(input, (h_0, c_0))\n",
    "        final_output = self.label(final_hidden_state[-1]) \n",
    "        \n",
    "        return final_output\n",
    "device = torch.device('cuda' if torch.cuda.is_available() else 'cpu')\n",
    "print(device)\n",
    "crypto_price_model = LSTM_Model(batch_size=seq_len, output_size=1, hidden_size=64, embedding_length=1)\n",
    "\n",
    "if torch.cuda.is_available():\n",
    "    crypto_price_model.cuda()\n",
    "crypto_price_model.to(device)\n",
    "\n",
    "loss_function = torch.nn.CrossEntropyLoss() # Criterion, I believe CrossEntropyLoss has SoftMax built-in so I used it here, this is why my last layer doesn't have a softmax\n",
    "optimizer  = torch.optim.Adam(crypto_price_model.parameters(), lr=0.001) # used adaptive moment estimation to optimize the model"
   ]
  },
  {
   "cell_type": "code",
   "execution_count": 24,
   "metadata": {},
   "outputs": [
    {
     "name": "stderr",
     "output_type": "stream",
     "text": [
      "<>:20: SyntaxWarning: \"is not\" with a literal. Did you mean \"!=\"?\n",
      "<>:49: SyntaxWarning: \"is not\" with a literal. Did you mean \"!=\"?\n",
      "<>:20: SyntaxWarning: \"is not\" with a literal. Did you mean \"!=\"?\n",
      "<>:49: SyntaxWarning: \"is not\" with a literal. Did you mean \"!=\"?\n",
      "C:\\Users\\Austin\\AppData\\Local\\Temp\\ipykernel_276\\2592159120.py:20: SyntaxWarning: \"is not\" with a literal. Did you mean \"!=\"?\n",
      "  if (text.size()[0] is not 32):\n",
      "C:\\Users\\Austin\\AppData\\Local\\Temp\\ipykernel_276\\2592159120.py:49: SyntaxWarning: \"is not\" with a literal. Did you mean \"!=\"?\n",
      "  if (text.size()[0] is not 32):\n"
     ]
    }
   ],
   "source": [
    "def clip_gradient(model, clip_value):\n",
    "    params = list(filter(lambda p: p.grad is not None, model.parameters()))\n",
    "    for p in params:\n",
    "        p.grad.data.clamp_(-clip_value, clip_value)\n",
    "    \n",
    "def train_model(model, train_iter, epoch):\n",
    "    total_epoch_loss = 0\n",
    "    total_epoch_acc = 0\n",
    "    model.cuda()\n",
    "    optim = torch.optim.Adam(filter(lambda p: p.requires_grad, model.parameters()))\n",
    "    steps = 0\n",
    "    model.train()\n",
    "    for idx, batch in enumerate(train_iter):\n",
    "        text = batch.text[0]\n",
    "        target = batch.label\n",
    "        target = torch.autograd.Variable(target).long()\n",
    "        if torch.cuda.is_available():\n",
    "            text = text.cuda()\n",
    "            target = target.cuda()\n",
    "        if (text.size()[0] is not 32): \n",
    "            continue\n",
    "        optim.zero_grad()\n",
    "        prediction = model(text)\n",
    "        loss = loss_fn(prediction, target)\n",
    "        wandb.log({\"Training Loss\": loss.item()})\n",
    "        num_corrects = (torch.max(prediction, 1)[1].view(target.size()).data == target.data).float().sum()\n",
    "        acc = 100.0 * num_corrects/len(batch)\n",
    "        wandb.log({\"Training Accuracy\": acc.item()})\n",
    "        loss.backward()\n",
    "        clip_gradient(model, 1e-1)\n",
    "        optim.step()\n",
    "        steps += 1\n",
    "        \n",
    "        if steps % 100 == 0:\n",
    "            print (f'Epoch: {epoch+1}, Idx: {idx+1}, Training Loss: {loss.item():.4f}, Training Accuracy: {acc.item(): .2f}%')\n",
    "        \n",
    "        total_epoch_loss += loss.item()\n",
    "        total_epoch_acc += acc.item()\n",
    "        \n",
    "    return total_epoch_loss/len(train_iter), total_epoch_acc/len(train_iter)\n",
    "\n",
    "def eval_model(model, val_iter):\n",
    "    total_epoch_loss = 0\n",
    "    total_epoch_acc = 0\n",
    "    model.eval()\n",
    "    with torch.no_grad():\n",
    "        for idx, batch in enumerate(val_iter):\n",
    "            text = batch.text[0]\n",
    "            if (text.size()[0] is not 32):\n",
    "                continue\n",
    "            target = batch.label\n",
    "            target = torch.autograd.Variable(target).long()\n",
    "            if torch.cuda.is_available():\n",
    "                text = text.cuda()\n",
    "                target = target.cuda()\n",
    "            prediction = model(text)\n",
    "            loss = loss_fn(prediction, target)\n",
    "            wandb.log({\"Evaluation Loss\": loss.item()})\n",
    "            num_corrects = (torch.max(prediction, 1)[1].view(target.size()).data == target.data).sum()\n",
    "            acc = 100.0 * num_corrects/len(batch)\n",
    "            wandb.log({\"Evaluation Accuracy\": acc.item()})\n",
    "            total_epoch_loss += loss.item()\n",
    "            total_epoch_acc += acc.item()\n",
    "\n",
    "    return total_epoch_loss/len(val_iter), total_epoch_acc/len(val_iter)"
   ]
  },
  {
   "cell_type": "code",
   "execution_count": null,
   "metadata": {},
   "outputs": [],
   "source": [
    "torch.save(crypto_price_model.state_dict(), f'{crypto_name}_model_weights.pth')"
   ]
  },
  {
   "cell_type": "code",
   "execution_count": null,
   "metadata": {},
   "outputs": [],
   "source": [
    "device = torch.device('cuda' if torch.cuda.is_available() else 'cpu')\n",
    "crypto_price_model.load_state_dict(torch.load(f'{crypto_name}_model_weights.pth', map_location=torch.device(device)))"
   ]
  }
 ],
 "metadata": {
  "kernelspec": {
   "display_name": "Python 3.8.13",
   "language": "python",
   "name": "python3"
  },
  "language_info": {
   "codemirror_mode": {
    "name": "ipython",
    "version": 3
   },
   "file_extension": ".py",
   "mimetype": "text/x-python",
   "name": "python",
   "nbconvert_exporter": "python",
   "pygments_lexer": "ipython3",
   "version": "3.8.13"
  },
  "orig_nbformat": 4,
  "vscode": {
   "interpreter": {
    "hash": "9cfc535063982cb54bc105cd8a1db8df6351516bd1ac835c350edc56f17e34e3"
   }
  }
 },
 "nbformat": 4,
 "nbformat_minor": 2
}
