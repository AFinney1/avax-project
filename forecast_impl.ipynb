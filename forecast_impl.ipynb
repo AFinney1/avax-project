{
 "cells": [
  {
   "cell_type": "code",
   "execution_count": 1,
   "metadata": {},
   "outputs": [],
   "source": [
    "import torch\n",
    "import torch.nn.utils.prune as prune \n",
    "import numpy as np\n",
    "import plotly.express as px\n",
    "import plotly.graph_objects as go \n",
    "import pandas as pd \n",
    "import torchvision\n",
    "from torch.autograd import Variable\n",
    "import os\n",
    "from datetime import datetime, timedelta\n"
   ]
  },
  {
   "cell_type": "code",
   "execution_count": 2,
   "metadata": {},
   "outputs": [
    {
     "data": {
      "text/plain": [
       "True"
      ]
     },
     "execution_count": 2,
     "metadata": {},
     "output_type": "execute_result"
    }
   ],
   "source": [
    "check_gpu = torch.cuda.is_available()\n",
    "check_gpu"
   ]
  },
  {
   "cell_type": "code",
   "execution_count": 3,
   "metadata": {},
   "outputs": [],
   "source": [
    "os.environ['CUDA_LAUNCH_BLOCKING'] = \"1\""
   ]
  },
  {
   "cell_type": "code",
   "execution_count": 4,
   "metadata": {},
   "outputs": [
    {
     "data": {
      "text/plain": [
       "'NVIDIA GeForce RTX 2080 Ti'"
      ]
     },
     "execution_count": 4,
     "metadata": {},
     "output_type": "execute_result"
    }
   ],
   "source": [
    "check_devices = torch.cuda.get_device_name()\n",
    "check_devices"
   ]
  },
  {
   "cell_type": "code",
   "execution_count": 5,
   "metadata": {},
   "outputs": [],
   "source": [
    "crypto_name = 'apeusd'\n",
    "#example_ohlc_df = pd.DataFrame({\"Time\": [1, 2, 3, 4, 5, 6, 7, 8, 9, 10],\"Open\": [1, 2, 3, 4, 5, 6, 7, 8, 9, 10],\"High\": [1, 2, 3, 4, 5, 6, 7, 8, 9, 10],\"Low\": [1, 2, 3, 4, 5, 6, 7, 8, 9, 10],\"Close\": [1, 2, 3, 4, 5, 6, 7, 8, 9, 10]})\n",
    "\n",
    "ohlc_df = pd.read_csv('historical_price/' + crypto_name + '.csv')\n",
    "ohlc_df.index = pd.to_datetime(ohlc_df['time'], unit = 'ms')\n",
    "\n",
    "#ohlc_df.index = ohlc_df.index.tz_localize('UTC').tz_convert('US/Eastern')"
   ]
  },
  {
   "cell_type": "code",
   "execution_count": 6,
   "metadata": {},
   "outputs": [
    {
     "name": "stdout",
     "output_type": "stream",
     "text": [
      "DatetimeIndex(['2022-06-20 10:23:00', '2022-06-20 10:24:00',\n",
      "               '2022-06-20 10:25:00', '2022-06-20 10:26:00',\n",
      "               '2022-06-20 10:27:00'],\n",
      "              dtype='datetime64[ns]', name='time', freq=None)\n"
     ]
    },
    {
     "data": {
      "text/plain": [
       "time\n",
       "2022-06-20 10:23:00    4.2021\n",
       "2022-06-20 10:24:00    4.2158\n",
       "2022-06-20 10:25:00    4.2211\n",
       "2022-06-20 10:26:00    4.2449\n",
       "2022-06-20 10:27:00    4.2373\n",
       "Name: close, dtype: float64"
      ]
     },
     "execution_count": 6,
     "metadata": {},
     "output_type": "execute_result"
    }
   ],
   "source": [
    "price_dataset = ohlc_df.close[-1000:]\n",
    "time_index = ohlc_df.index[-1000:]\n",
    "print(time_index[-5:])\n",
    "price_dataset.tail()\n"
   ]
  },
  {
   "cell_type": "code",
   "execution_count": 7,
   "metadata": {},
   "outputs": [
    {
     "name": "stdout",
     "output_type": "stream",
     "text": [
      "200\n"
     ]
    }
   ],
   "source": [
    "price_dataset_x = price_dataset[200:]\n",
    "time_x = time_index[200:]\n",
    "price_dataset_y = price_dataset[200:400]\n",
    "time_y = time_index[200:400]\n",
    "print(len(price_dataset_y))"
   ]
  },
  {
   "cell_type": "code",
   "execution_count": 8,
   "metadata": {},
   "outputs": [],
   "source": [
    "price_test_x = price_dataset[400:600]\n",
    "time_test_x = time_index[400:600]\n",
    "price_test_y = price_dataset[600:900]\n",
    "time_test_y = time_index[600:900]\n",
    "price_test_val = price_dataset[900:1000]\n",
    "time_test_val = time_index[900:1000]"
   ]
  },
  {
   "cell_type": "code",
   "execution_count": 9,
   "metadata": {},
   "outputs": [],
   "source": [
    "seq_len = 10\n",
    "batch_size = 55"
   ]
  },
  {
   "cell_type": "code",
   "execution_count": 10,
   "metadata": {},
   "outputs": [],
   "source": [
    "class TimeSeriesDataset(torch.utils.data.Dataset):\n",
    "    def __init__(self, X, y, seq_len=5):\n",
    "        self.X = torch.tensor(X, dtype = torch.float32)\n",
    "        self.y = torch.tensor(y, dtype = torch.float32)\n",
    "        self.seq_len = seq_len\n",
    "    def __len__(self):\n",
    "        return self.X.__len__() - (self.seq_len - 1)\n",
    "\n",
    "    def __getitem__(self, index):\n",
    "        #print(len(self.y))\n",
    "        X = self.X[index:index+self.seq_len]\n",
    "        try:\n",
    "            y = self.y[index+self.seq_len]\n",
    "        except:\n",
    "            y = self.y[self.seq_len]\n",
    "        return X, y"
   ]
  },
  {
   "cell_type": "code",
   "execution_count": 11,
   "metadata": {},
   "outputs": [],
   "source": [
    "train_dataset = TimeSeriesDataset(price_dataset_x, price_dataset_y, seq_len=seq_len)\n",
    "test_dataset = TimeSeriesDataset(price_test_x, price_test_y, seq_len=seq_len)\n",
    "#val_dataset = TimeSeriesDataset(price_test_val, price_test_y, seq_len=seq_len)"
   ]
  },
  {
   "cell_type": "code",
   "execution_count": 12,
   "metadata": {},
   "outputs": [],
   "source": [
    "train_loader = torch.utils.data.DataLoader(\n",
    "    train_dataset,\n",
    "    batch_size=batch_size,\n",
    "    drop_last = True, \n",
    "    shuffle=False)\n",
    "\n",
    "test_loader = torch.utils.data.DataLoader(\n",
    "    test_dataset, \n",
    "    batch_size=batch_size, \n",
    "    drop_last=True,\n",
    "    shuffle=False)"
   ]
  },
  {
   "cell_type": "code",
   "execution_count": 13,
   "metadata": {},
   "outputs": [],
   "source": [
    "class LSTM_Model(torch.nn.Module):\n",
    "    def __init__(self, input_dim , hidden_size , num_layers, batch_size):\n",
    "        super(LSTM_Model, self).__init__()\n",
    "        self.num_layers = num_layers\n",
    "        self.input_size = input_dim\n",
    "        self.hidden_size = hidden_size\n",
    "        self.batch_size = batch_size\n",
    "        self.lstm = torch.nn.LSTM(input_size=input_dim , hidden_size = hidden_size , num_layers= num_layers )\n",
    "        self.fc = torch.nn.Linear(hidden_size,1)\n",
    "\n",
    "    def forward(self,x,hn,cn):\n",
    "        out , (hn,cn) = self.lstm(x , (hn,cn))\n",
    "        final_out = self.fc(out[-1])\n",
    "        return final_out,hn,cn\n",
    "\n",
    "    def predict(self,x):\n",
    "        hn,cn  = self.init()\n",
    "        final_out = self.fc(hn[-1])\n",
    "        return final_out\n",
    "\n",
    "    def init(self):\n",
    "        h0 =  torch.zeros(self.num_layers , self.batch_size , self.hidden_size)\n",
    "        c0 =  torch.zeros(self.num_layers , self.batch_size , self.hidden_size)\n",
    "        return h0 , c0\n",
    "\n",
    "\n",
    "#device = torch.device('cpu')\n",
    "#print(device)\n",
    "\n",
    "input_dim = 1\n",
    "hidden_size = seq_len\n",
    "num_layers = 3\n",
    "crypto_price_model = LSTM_Model(input_dim, hidden_size, num_layers, batch_size)\n",
    "\n",
    "\n",
    "crypto_price_model#.to(device)\n",
    "\n",
    "loss_function = torch.nn.MSELoss() # Criterion, I believe CrossEntropyLoss has SoftMax built-in so I used it here, this is why my last layer doesn't have a softmax\n",
    "optimizer  = torch.optim.Adam(crypto_price_model.parameters(), lr=0.017) # used adaptive moment estimation to optimize the model"
   ]
  },
  {
   "cell_type": "code",
   "execution_count": 14,
   "metadata": {},
   "outputs": [],
   "source": [
    "#training loop\n",
    "def train(dataloader, model):\n",
    "    predictions = []\n",
    "    loss_list = []\n",
    "    hn , cn = model.init()\n",
    "    model.train()\n",
    "    for batch , item in enumerate(dataloader):\n",
    "        x , y = item\n",
    "        y = y.type(torch.FloatTensor)\n",
    "        #x = x.to(device)\n",
    "        #y = y.to(device)\n",
    "        out , hn , cn = model(x.reshape(seq_len,batch_size,-1),hn,cn)\n",
    "        out = out.view(-1)\n",
    "        # print(out.shape)\n",
    "        # print(y.shape)\n",
    "        loss = loss_function(out.reshape(batch_size) , y)\n",
    "        hn = hn.detach()\n",
    "        cn = cn.detach()\n",
    "        optimizer.zero_grad()\n",
    "        loss.backward()\n",
    "        optimizer.step()\n",
    "        print(f'Training Loss: {loss.item()}')\n",
    "        if batch == len(dataloader)-1:\n",
    "            loss = loss.item()\n",
    "            print(f\"Train loss: {loss:>7f} \")\n",
    "        loss_list.append(loss)\n",
    "        predictions.append(out.detach().numpy())\n",
    "        return predictions, loss_list\n",
    "        "
   ]
  },
  {
   "cell_type": "code",
   "execution_count": 15,
   "metadata": {},
   "outputs": [],
   "source": [
    "def test(dataloader, model):\n",
    "    predictions = []\n",
    "    loss_list = []\n",
    "    hn , cn = model.init()\n",
    "    model.eval()\n",
    "    for batch , item in enumerate(dataloader):\n",
    "        x , y = item\n",
    "        y = y.type(torch.FloatTensor)\n",
    "        #x = x.to(device)\n",
    "        #y = y.to(device)\n",
    "        out , hn , cn = model(x.reshape(seq_len,batch_size,1),hn,cn)\n",
    "        loss = loss_function(out.reshape(batch_size) , y)\n",
    "        print(f\"test loss: {loss.item():>7f} \")\n",
    "        if batch == len(dataloader)-1:\n",
    "            loss = loss.item()\n",
    "            print(f\"Test loss: {loss:>7f} \")\n",
    "        predictions.append(out.detach().numpy())\n",
    "        loss_list.append(loss)\n",
    "        return predictions, loss_list"
   ]
  },
  {
   "cell_type": "code",
   "execution_count": 16,
   "metadata": {},
   "outputs": [
    {
     "name": "stdout",
     "output_type": "stream",
     "text": [
      "Epoch 1: \n",
      "Training Loss: 17.963462829589844\n",
      "Epoch 2: \n",
      "Training Loss: 16.868749618530273\n",
      "Epoch 3: \n",
      "Training Loss: 15.950681686401367\n",
      "Epoch 4: \n",
      "Training Loss: 15.05295181274414\n",
      "Epoch 5: \n",
      "Training Loss: 14.082304954528809\n",
      "Epoch 6: \n",
      "Training Loss: 12.9969482421875\n",
      "Epoch 7: \n",
      "Training Loss: 11.814289093017578\n",
      "Epoch 8: \n",
      "Training Loss: 10.567815780639648\n",
      "Epoch 9: \n",
      "Training Loss: 9.268267631530762\n",
      "Epoch 10: \n",
      "Training Loss: 7.930989742279053\n",
      "Epoch 11: \n",
      "Training Loss: 6.620798587799072\n",
      "Epoch 12: \n",
      "Training Loss: 5.432769775390625\n",
      "Epoch 13: \n",
      "Training Loss: 4.402266502380371\n",
      "Epoch 14: \n",
      "Training Loss: 3.501037836074829\n",
      "Epoch 15: \n",
      "Training Loss: 2.707477569580078\n",
      "Epoch 16: \n",
      "Training Loss: 2.020691394805908\n",
      "Epoch 17: \n",
      "Training Loss: 1.4439656734466553\n",
      "Epoch 18: \n",
      "Training Loss: 0.9735158085823059\n",
      "Epoch 19: \n",
      "Training Loss: 0.6011158227920532\n",
      "Epoch 20: \n",
      "Training Loss: 0.3222866356372833\n",
      "Epoch 21: \n",
      "Training Loss: 0.13512951135635376\n",
      "Epoch 22: \n",
      "Training Loss: 0.0335109569132328\n",
      "Epoch 23: \n",
      "Training Loss: 0.003547258907929063\n",
      "Epoch 24: \n",
      "Training Loss: 0.02699447050690651\n",
      "Epoch 25: \n",
      "Training Loss: 0.0851660668849945\n",
      "Epoch 26: \n",
      "Training Loss: 0.16019123792648315\n",
      "Epoch 27: \n",
      "Training Loss: 0.236420139670372\n",
      "Epoch 28: \n",
      "Training Loss: 0.30196046829223633\n",
      "Epoch 29: \n",
      "Training Loss: 0.34931105375289917\n",
      "Epoch 30: \n",
      "Training Loss: 0.37504422664642334\n",
      "Epoch 31: \n",
      "Training Loss: 0.378996878862381\n",
      "Epoch 32: \n",
      "Training Loss: 0.3633679151535034\n",
      "Epoch 33: \n",
      "Training Loss: 0.3318836987018585\n",
      "Epoch 34: \n",
      "Training Loss: 0.2890871465206146\n",
      "Epoch 35: \n",
      "Training Loss: 0.23977236449718475\n",
      "Epoch 36: \n",
      "Training Loss: 0.18852445483207703\n",
      "Epoch 37: \n",
      "Training Loss: 0.13938520848751068\n",
      "Epoch 38: \n",
      "Training Loss: 0.09560274332761765\n",
      "Epoch 39: \n",
      "Training Loss: 0.05948738008737564\n",
      "Epoch 40: \n",
      "Training Loss: 0.032343484461307526\n",
      "Epoch 41: \n",
      "Training Loss: 0.01449256669729948\n",
      "Epoch 42: \n",
      "Training Loss: 0.005380927585065365\n",
      "Epoch 43: \n",
      "Training Loss: 0.0037532702554017305\n",
      "Epoch 44: \n",
      "Training Loss: 0.007876772433519363\n",
      "Epoch 45: \n",
      "Training Loss: 0.015785103663802147\n",
      "Epoch 46: \n",
      "Training Loss: 0.025511818006634712\n",
      "Epoch 47: \n",
      "Training Loss: 0.035288289189338684\n",
      "Epoch 48: \n",
      "Training Loss: 0.043688829988241196\n",
      "Epoch 49: \n",
      "Training Loss: 0.049717288464307785\n",
      "Epoch 50: \n",
      "Training Loss: 0.05283375084400177\n",
      "Epoch 51: \n",
      "Training Loss: 0.052929703146219254\n",
      "Epoch 52: \n",
      "Training Loss: 0.050262127071619034\n",
      "Epoch 53: \n",
      "Training Loss: 0.045361440628767014\n",
      "Epoch 54: \n",
      "Training Loss: 0.038925301283597946\n",
      "Epoch 55: \n",
      "Training Loss: 0.03171589970588684\n",
      "Epoch 56: \n",
      "Training Loss: 0.024465102702379227\n",
      "Epoch 57: \n",
      "Training Loss: 0.017801059409976006\n",
      "Epoch 58: \n",
      "Training Loss: 0.012197687290608883\n",
      "Epoch 59: \n",
      "Training Loss: 0.0079481340944767\n",
      "Epoch 60: \n",
      "Training Loss: 0.005161492619663477\n",
      "Epoch 61: \n",
      "Training Loss: 0.0037795393727719784\n",
      "Epoch 62: \n",
      "Training Loss: 0.0036084915045648813\n",
      "Epoch 63: \n",
      "Training Loss: 0.004360775928944349\n",
      "Epoch 64: \n",
      "Training Loss: 0.005700939334928989\n",
      "Epoch 65: \n",
      "Training Loss: 0.007290487177670002\n",
      "Epoch 66: \n",
      "Training Loss: 0.008826185017824173\n",
      "Epoch 67: \n",
      "Training Loss: 0.010069306008517742\n",
      "Epoch 68: \n",
      "Training Loss: 0.010862884111702442\n",
      "Epoch 69: \n",
      "Training Loss: 0.01113611925393343\n",
      "Epoch 70: \n",
      "Training Loss: 0.010898410342633724\n",
      "Epoch 71: \n",
      "Training Loss: 0.010224643163383007\n",
      "Epoch 72: \n",
      "Training Loss: 0.009233997203409672\n",
      "Epoch 73: \n",
      "Training Loss: 0.008067931048572063\n",
      "Epoch 74: \n",
      "Training Loss: 0.006868080701678991\n",
      "Epoch 75: \n",
      "Training Loss: 0.0057589951902627945\n",
      "Epoch 76: \n",
      "Training Loss: 0.00483465101569891\n",
      "Epoch 77: \n",
      "Training Loss: 0.004152386914938688\n",
      "Epoch 78: \n",
      "Training Loss: 0.003731404896825552\n",
      "Epoch 79: \n",
      "Training Loss: 0.0035570107866078615\n",
      "Epoch 80: \n",
      "Training Loss: 0.003588107880204916\n",
      "Epoch 81: \n",
      "Training Loss: 0.0037666880525648594\n",
      "Epoch 82: \n",
      "Training Loss: 0.004027895163744688\n",
      "Epoch 83: \n",
      "Training Loss: 0.004309310112148523\n",
      "Epoch 84: \n",
      "Training Loss: 0.004558229353278875\n",
      "Epoch 85: \n",
      "Training Loss: 0.004736608359962702\n",
      "Epoch 86: \n",
      "Training Loss: 0.004823287483304739\n",
      "Epoch 87: \n",
      "Training Loss: 0.00481389882043004\n",
      "Epoch 88: \n",
      "Training Loss: 0.004718127194792032\n",
      "Epoch 89: \n",
      "Training Loss: 0.0045562745071947575\n",
      "Epoch 90: \n",
      "Training Loss: 0.004354643635451794\n",
      "Epoch 91: \n",
      "Training Loss: 0.004140887409448624\n",
      "Epoch 92: \n",
      "Training Loss: 0.003940139897167683\n",
      "Epoch 93: \n",
      "Training Loss: 0.003771962132304907\n",
      "Epoch 94: \n",
      "Training Loss: 0.0036486638709902763\n",
      "Epoch 95: \n",
      "Training Loss: 0.003574749920517206\n",
      "Epoch 96: \n",
      "Training Loss: 0.0035476237535476685\n",
      "Epoch 97: \n",
      "Training Loss: 0.003559054573997855\n",
      "Epoch 98: \n",
      "Training Loss: 0.0035972497425973415\n",
      "Epoch 99: \n",
      "Training Loss: 0.0036490564234554768\n",
      "Epoch 100: \n",
      "Training Loss: 0.0037019893061369658\n",
      "test loss: 0.009397 \n"
     ]
    }
   ],
   "source": [
    "epochs = 100\n",
    "for epoch in range(epochs):\n",
    "    print(f\"Epoch {epoch + 1}: \")\n",
    "    train(train_loader, crypto_price_model)\n",
    "test_predictions = test(test_loader, crypto_price_model)\n",
    "#print(test_predictions[:][:][:][0])"
   ]
  },
  {
   "cell_type": "code",
   "execution_count": 17,
   "metadata": {},
   "outputs": [
    {
     "name": "stdout",
     "output_type": "stream",
     "text": [
      "[4.0182767 4.0182767 4.0182767 4.0182767 4.0182767 4.0182767 4.0182767\n",
      " 4.0182767 4.0182767 4.0182767 4.0182767 4.0182767 4.0182767 4.0182767\n",
      " 4.0182767 4.0182767 4.0182767 4.0182767 4.0182767 4.0182767 4.0182767\n",
      " 4.0182767 4.0182767 4.0182767 4.0182767 4.0182767 4.0182767 4.0182767\n",
      " 4.0182767 4.0182767 4.0182767 4.0182767 4.0182767 4.0182767 4.0182767\n",
      " 4.0182767 4.0182767 4.0182767 4.0182767 4.0182767 4.0182767 4.0182767\n",
      " 4.0182767 4.0182767 4.0182767 4.0182767 4.0182767 4.0182767 4.0182767\n",
      " 4.0182767 4.0182767 4.0182767 4.0182767 4.0182767 4.0182767]\n"
     ]
    }
   ],
   "source": [
    "forecast_price = np.array([num for num in test_predictions[0][0]]).flatten()\n",
    "print(forecast_price)"
   ]
  },
  {
   "cell_type": "code",
   "execution_count": 18,
   "metadata": {},
   "outputs": [
    {
     "name": "stdout",
     "output_type": "stream",
     "text": [
      "1\n",
      "\n"
     ]
    },
    {
     "data": {
      "application/vnd.plotly.v1+json": {
       "config": {
        "plotlyServerURL": "https://plot.ly"
       },
       "data": [
        {
         "mode": "lines",
         "name": "Predicted Price",
         "type": "scatter",
         "x": [
          "2022-06-20T02:17:00",
          "2022-06-20T02:18:00",
          "2022-06-20T02:19:00",
          "2022-06-20T02:20:00",
          "2022-06-20T02:22:00",
          "2022-06-20T02:24:00",
          "2022-06-20T02:25:00",
          "2022-06-20T02:26:00",
          "2022-06-20T02:27:00",
          "2022-06-20T02:28:00",
          "2022-06-20T02:29:00",
          "2022-06-20T02:30:00",
          "2022-06-20T02:31:00",
          "2022-06-20T02:32:00",
          "2022-06-20T02:33:00",
          "2022-06-20T02:34:00",
          "2022-06-20T02:35:00",
          "2022-06-20T02:36:00",
          "2022-06-20T02:37:00",
          "2022-06-20T02:39:00",
          "2022-06-20T02:40:00",
          "2022-06-20T02:42:00",
          "2022-06-20T02:43:00",
          "2022-06-20T02:44:00",
          "2022-06-20T02:45:00",
          "2022-06-20T02:46:00",
          "2022-06-20T02:47:00",
          "2022-06-20T02:49:00",
          "2022-06-20T02:50:00",
          "2022-06-20T02:51:00",
          "2022-06-20T02:53:00",
          "2022-06-20T02:55:00",
          "2022-06-20T02:56:00",
          "2022-06-20T02:57:00",
          "2022-06-20T02:59:00",
          "2022-06-20T03:00:00",
          "2022-06-20T03:01:00",
          "2022-06-20T03:02:00",
          "2022-06-20T03:03:00",
          "2022-06-20T03:04:00",
          "2022-06-20T03:06:00",
          "2022-06-20T03:07:00",
          "2022-06-20T03:09:00",
          "2022-06-20T03:10:00",
          "2022-06-20T03:12:00",
          "2022-06-20T03:14:00",
          "2022-06-20T03:15:00",
          "2022-06-20T03:16:00",
          "2022-06-20T03:17:00",
          "2022-06-20T03:18:00",
          "2022-06-20T03:21:00",
          "2022-06-20T03:23:00",
          "2022-06-20T03:24:00",
          "2022-06-20T03:25:00",
          "2022-06-20T03:26:00"
         ],
         "y": [
          4.018276691436768,
          4.018276691436768,
          4.018276691436768,
          4.018276691436768,
          4.018276691436768,
          4.018276691436768,
          4.018276691436768,
          4.018276691436768,
          4.018276691436768,
          4.018276691436768,
          4.018276691436768,
          4.018276691436768,
          4.018276691436768,
          4.018276691436768,
          4.018276691436768,
          4.018276691436768,
          4.018276691436768,
          4.018276691436768,
          4.018276691436768,
          4.018276691436768,
          4.018276691436768,
          4.018276691436768,
          4.018276691436768,
          4.018276691436768,
          4.018276691436768,
          4.018276691436768,
          4.018276691436768,
          4.018276691436768,
          4.018276691436768,
          4.018276691436768,
          4.018276691436768,
          4.018276691436768,
          4.018276691436768,
          4.018276691436768,
          4.018276691436768,
          4.018276691436768,
          4.018276691436768,
          4.018276691436768,
          4.018276691436768,
          4.018276691436768,
          4.018276691436768,
          4.018276691436768,
          4.018276691436768,
          4.018276691436768,
          4.018276691436768,
          4.018276691436768,
          4.018276691436768,
          4.018276691436768,
          4.018276691436768,
          4.018276691436768,
          4.018276691436768,
          4.018276691436768,
          4.018276691436768,
          4.018276691436768,
          4.018276691436768
         ]
        },
        {
         "mode": "lines",
         "name": "Actual Price",
         "type": "scatter",
         "x": [
          "2022-06-20T02:17:00",
          "2022-06-20T02:18:00",
          "2022-06-20T02:19:00",
          "2022-06-20T02:20:00",
          "2022-06-20T02:22:00",
          "2022-06-20T02:24:00",
          "2022-06-20T02:25:00",
          "2022-06-20T02:26:00",
          "2022-06-20T02:27:00",
          "2022-06-20T02:28:00",
          "2022-06-20T02:29:00",
          "2022-06-20T02:30:00",
          "2022-06-20T02:31:00",
          "2022-06-20T02:32:00",
          "2022-06-20T02:33:00",
          "2022-06-20T02:34:00",
          "2022-06-20T02:35:00",
          "2022-06-20T02:36:00",
          "2022-06-20T02:37:00",
          "2022-06-20T02:39:00",
          "2022-06-20T02:40:00",
          "2022-06-20T02:42:00",
          "2022-06-20T02:43:00",
          "2022-06-20T02:44:00",
          "2022-06-20T02:45:00",
          "2022-06-20T02:46:00",
          "2022-06-20T02:47:00",
          "2022-06-20T02:49:00",
          "2022-06-20T02:50:00",
          "2022-06-20T02:51:00",
          "2022-06-20T02:53:00",
          "2022-06-20T02:55:00",
          "2022-06-20T02:56:00",
          "2022-06-20T02:57:00",
          "2022-06-20T02:59:00",
          "2022-06-20T03:00:00",
          "2022-06-20T03:01:00",
          "2022-06-20T03:02:00",
          "2022-06-20T03:03:00",
          "2022-06-20T03:04:00",
          "2022-06-20T03:06:00",
          "2022-06-20T03:07:00",
          "2022-06-20T03:09:00",
          "2022-06-20T03:10:00",
          "2022-06-20T03:12:00",
          "2022-06-20T03:14:00",
          "2022-06-20T03:15:00",
          "2022-06-20T03:16:00",
          "2022-06-20T03:17:00",
          "2022-06-20T03:18:00",
          "2022-06-20T03:21:00",
          "2022-06-20T03:23:00",
          "2022-06-20T03:24:00",
          "2022-06-20T03:25:00",
          "2022-06-20T03:26:00"
         ],
         "y": [
          3.911,
          3.9019,
          3.898,
          3.9025,
          3.894,
          3.8836,
          3.8832,
          3.8676,
          3.8595,
          3.8674,
          3.8593,
          3.8666,
          3.8864,
          3.8949,
          3.8819,
          3.8878,
          3.899,
          3.8895,
          3.897,
          3.898,
          3.893,
          3.901,
          3.898,
          3.9039,
          3.9266,
          3.9233,
          3.926,
          3.933,
          3.9218,
          3.9175,
          3.921,
          3.9139,
          3.9149,
          3.9237,
          3.9161,
          3.9294,
          3.916,
          3.922,
          3.919,
          3.908,
          3.915,
          3.9335,
          3.92,
          3.9286,
          3.935,
          3.9288,
          3.9353,
          3.926,
          3.9294,
          3.9325,
          3.9506,
          3.9598,
          3.9531,
          3.953,
          3.9683
         ]
        }
       ],
       "layout": {
        "template": {
         "data": {
          "bar": [
           {
            "error_x": {
             "color": "#2a3f5f"
            },
            "error_y": {
             "color": "#2a3f5f"
            },
            "marker": {
             "line": {
              "color": "#E5ECF6",
              "width": 0.5
             },
             "pattern": {
              "fillmode": "overlay",
              "size": 10,
              "solidity": 0.2
             }
            },
            "type": "bar"
           }
          ],
          "barpolar": [
           {
            "marker": {
             "line": {
              "color": "#E5ECF6",
              "width": 0.5
             },
             "pattern": {
              "fillmode": "overlay",
              "size": 10,
              "solidity": 0.2
             }
            },
            "type": "barpolar"
           }
          ],
          "carpet": [
           {
            "aaxis": {
             "endlinecolor": "#2a3f5f",
             "gridcolor": "white",
             "linecolor": "white",
             "minorgridcolor": "white",
             "startlinecolor": "#2a3f5f"
            },
            "baxis": {
             "endlinecolor": "#2a3f5f",
             "gridcolor": "white",
             "linecolor": "white",
             "minorgridcolor": "white",
             "startlinecolor": "#2a3f5f"
            },
            "type": "carpet"
           }
          ],
          "choropleth": [
           {
            "colorbar": {
             "outlinewidth": 0,
             "ticks": ""
            },
            "type": "choropleth"
           }
          ],
          "contour": [
           {
            "colorbar": {
             "outlinewidth": 0,
             "ticks": ""
            },
            "colorscale": [
             [
              0,
              "#0d0887"
             ],
             [
              0.1111111111111111,
              "#46039f"
             ],
             [
              0.2222222222222222,
              "#7201a8"
             ],
             [
              0.3333333333333333,
              "#9c179e"
             ],
             [
              0.4444444444444444,
              "#bd3786"
             ],
             [
              0.5555555555555556,
              "#d8576b"
             ],
             [
              0.6666666666666666,
              "#ed7953"
             ],
             [
              0.7777777777777778,
              "#fb9f3a"
             ],
             [
              0.8888888888888888,
              "#fdca26"
             ],
             [
              1,
              "#f0f921"
             ]
            ],
            "type": "contour"
           }
          ],
          "contourcarpet": [
           {
            "colorbar": {
             "outlinewidth": 0,
             "ticks": ""
            },
            "type": "contourcarpet"
           }
          ],
          "heatmap": [
           {
            "colorbar": {
             "outlinewidth": 0,
             "ticks": ""
            },
            "colorscale": [
             [
              0,
              "#0d0887"
             ],
             [
              0.1111111111111111,
              "#46039f"
             ],
             [
              0.2222222222222222,
              "#7201a8"
             ],
             [
              0.3333333333333333,
              "#9c179e"
             ],
             [
              0.4444444444444444,
              "#bd3786"
             ],
             [
              0.5555555555555556,
              "#d8576b"
             ],
             [
              0.6666666666666666,
              "#ed7953"
             ],
             [
              0.7777777777777778,
              "#fb9f3a"
             ],
             [
              0.8888888888888888,
              "#fdca26"
             ],
             [
              1,
              "#f0f921"
             ]
            ],
            "type": "heatmap"
           }
          ],
          "heatmapgl": [
           {
            "colorbar": {
             "outlinewidth": 0,
             "ticks": ""
            },
            "colorscale": [
             [
              0,
              "#0d0887"
             ],
             [
              0.1111111111111111,
              "#46039f"
             ],
             [
              0.2222222222222222,
              "#7201a8"
             ],
             [
              0.3333333333333333,
              "#9c179e"
             ],
             [
              0.4444444444444444,
              "#bd3786"
             ],
             [
              0.5555555555555556,
              "#d8576b"
             ],
             [
              0.6666666666666666,
              "#ed7953"
             ],
             [
              0.7777777777777778,
              "#fb9f3a"
             ],
             [
              0.8888888888888888,
              "#fdca26"
             ],
             [
              1,
              "#f0f921"
             ]
            ],
            "type": "heatmapgl"
           }
          ],
          "histogram": [
           {
            "marker": {
             "pattern": {
              "fillmode": "overlay",
              "size": 10,
              "solidity": 0.2
             }
            },
            "type": "histogram"
           }
          ],
          "histogram2d": [
           {
            "colorbar": {
             "outlinewidth": 0,
             "ticks": ""
            },
            "colorscale": [
             [
              0,
              "#0d0887"
             ],
             [
              0.1111111111111111,
              "#46039f"
             ],
             [
              0.2222222222222222,
              "#7201a8"
             ],
             [
              0.3333333333333333,
              "#9c179e"
             ],
             [
              0.4444444444444444,
              "#bd3786"
             ],
             [
              0.5555555555555556,
              "#d8576b"
             ],
             [
              0.6666666666666666,
              "#ed7953"
             ],
             [
              0.7777777777777778,
              "#fb9f3a"
             ],
             [
              0.8888888888888888,
              "#fdca26"
             ],
             [
              1,
              "#f0f921"
             ]
            ],
            "type": "histogram2d"
           }
          ],
          "histogram2dcontour": [
           {
            "colorbar": {
             "outlinewidth": 0,
             "ticks": ""
            },
            "colorscale": [
             [
              0,
              "#0d0887"
             ],
             [
              0.1111111111111111,
              "#46039f"
             ],
             [
              0.2222222222222222,
              "#7201a8"
             ],
             [
              0.3333333333333333,
              "#9c179e"
             ],
             [
              0.4444444444444444,
              "#bd3786"
             ],
             [
              0.5555555555555556,
              "#d8576b"
             ],
             [
              0.6666666666666666,
              "#ed7953"
             ],
             [
              0.7777777777777778,
              "#fb9f3a"
             ],
             [
              0.8888888888888888,
              "#fdca26"
             ],
             [
              1,
              "#f0f921"
             ]
            ],
            "type": "histogram2dcontour"
           }
          ],
          "mesh3d": [
           {
            "colorbar": {
             "outlinewidth": 0,
             "ticks": ""
            },
            "type": "mesh3d"
           }
          ],
          "parcoords": [
           {
            "line": {
             "colorbar": {
              "outlinewidth": 0,
              "ticks": ""
             }
            },
            "type": "parcoords"
           }
          ],
          "pie": [
           {
            "automargin": true,
            "type": "pie"
           }
          ],
          "scatter": [
           {
            "marker": {
             "colorbar": {
              "outlinewidth": 0,
              "ticks": ""
             }
            },
            "type": "scatter"
           }
          ],
          "scatter3d": [
           {
            "line": {
             "colorbar": {
              "outlinewidth": 0,
              "ticks": ""
             }
            },
            "marker": {
             "colorbar": {
              "outlinewidth": 0,
              "ticks": ""
             }
            },
            "type": "scatter3d"
           }
          ],
          "scattercarpet": [
           {
            "marker": {
             "colorbar": {
              "outlinewidth": 0,
              "ticks": ""
             }
            },
            "type": "scattercarpet"
           }
          ],
          "scattergeo": [
           {
            "marker": {
             "colorbar": {
              "outlinewidth": 0,
              "ticks": ""
             }
            },
            "type": "scattergeo"
           }
          ],
          "scattergl": [
           {
            "marker": {
             "colorbar": {
              "outlinewidth": 0,
              "ticks": ""
             }
            },
            "type": "scattergl"
           }
          ],
          "scattermapbox": [
           {
            "marker": {
             "colorbar": {
              "outlinewidth": 0,
              "ticks": ""
             }
            },
            "type": "scattermapbox"
           }
          ],
          "scatterpolar": [
           {
            "marker": {
             "colorbar": {
              "outlinewidth": 0,
              "ticks": ""
             }
            },
            "type": "scatterpolar"
           }
          ],
          "scatterpolargl": [
           {
            "marker": {
             "colorbar": {
              "outlinewidth": 0,
              "ticks": ""
             }
            },
            "type": "scatterpolargl"
           }
          ],
          "scatterternary": [
           {
            "marker": {
             "colorbar": {
              "outlinewidth": 0,
              "ticks": ""
             }
            },
            "type": "scatterternary"
           }
          ],
          "surface": [
           {
            "colorbar": {
             "outlinewidth": 0,
             "ticks": ""
            },
            "colorscale": [
             [
              0,
              "#0d0887"
             ],
             [
              0.1111111111111111,
              "#46039f"
             ],
             [
              0.2222222222222222,
              "#7201a8"
             ],
             [
              0.3333333333333333,
              "#9c179e"
             ],
             [
              0.4444444444444444,
              "#bd3786"
             ],
             [
              0.5555555555555556,
              "#d8576b"
             ],
             [
              0.6666666666666666,
              "#ed7953"
             ],
             [
              0.7777777777777778,
              "#fb9f3a"
             ],
             [
              0.8888888888888888,
              "#fdca26"
             ],
             [
              1,
              "#f0f921"
             ]
            ],
            "type": "surface"
           }
          ],
          "table": [
           {
            "cells": {
             "fill": {
              "color": "#EBF0F8"
             },
             "line": {
              "color": "white"
             }
            },
            "header": {
             "fill": {
              "color": "#C8D4E3"
             },
             "line": {
              "color": "white"
             }
            },
            "type": "table"
           }
          ]
         },
         "layout": {
          "annotationdefaults": {
           "arrowcolor": "#2a3f5f",
           "arrowhead": 0,
           "arrowwidth": 1
          },
          "autotypenumbers": "strict",
          "coloraxis": {
           "colorbar": {
            "outlinewidth": 0,
            "ticks": ""
           }
          },
          "colorscale": {
           "diverging": [
            [
             0,
             "#8e0152"
            ],
            [
             0.1,
             "#c51b7d"
            ],
            [
             0.2,
             "#de77ae"
            ],
            [
             0.3,
             "#f1b6da"
            ],
            [
             0.4,
             "#fde0ef"
            ],
            [
             0.5,
             "#f7f7f7"
            ],
            [
             0.6,
             "#e6f5d0"
            ],
            [
             0.7,
             "#b8e186"
            ],
            [
             0.8,
             "#7fbc41"
            ],
            [
             0.9,
             "#4d9221"
            ],
            [
             1,
             "#276419"
            ]
           ],
           "sequential": [
            [
             0,
             "#0d0887"
            ],
            [
             0.1111111111111111,
             "#46039f"
            ],
            [
             0.2222222222222222,
             "#7201a8"
            ],
            [
             0.3333333333333333,
             "#9c179e"
            ],
            [
             0.4444444444444444,
             "#bd3786"
            ],
            [
             0.5555555555555556,
             "#d8576b"
            ],
            [
             0.6666666666666666,
             "#ed7953"
            ],
            [
             0.7777777777777778,
             "#fb9f3a"
            ],
            [
             0.8888888888888888,
             "#fdca26"
            ],
            [
             1,
             "#f0f921"
            ]
           ],
           "sequentialminus": [
            [
             0,
             "#0d0887"
            ],
            [
             0.1111111111111111,
             "#46039f"
            ],
            [
             0.2222222222222222,
             "#7201a8"
            ],
            [
             0.3333333333333333,
             "#9c179e"
            ],
            [
             0.4444444444444444,
             "#bd3786"
            ],
            [
             0.5555555555555556,
             "#d8576b"
            ],
            [
             0.6666666666666666,
             "#ed7953"
            ],
            [
             0.7777777777777778,
             "#fb9f3a"
            ],
            [
             0.8888888888888888,
             "#fdca26"
            ],
            [
             1,
             "#f0f921"
            ]
           ]
          },
          "colorway": [
           "#636efa",
           "#EF553B",
           "#00cc96",
           "#ab63fa",
           "#FFA15A",
           "#19d3f3",
           "#FF6692",
           "#B6E880",
           "#FF97FF",
           "#FECB52"
          ],
          "font": {
           "color": "#2a3f5f"
          },
          "geo": {
           "bgcolor": "white",
           "lakecolor": "white",
           "landcolor": "#E5ECF6",
           "showlakes": true,
           "showland": true,
           "subunitcolor": "white"
          },
          "hoverlabel": {
           "align": "left"
          },
          "hovermode": "closest",
          "mapbox": {
           "style": "light"
          },
          "paper_bgcolor": "white",
          "plot_bgcolor": "#E5ECF6",
          "polar": {
           "angularaxis": {
            "gridcolor": "white",
            "linecolor": "white",
            "ticks": ""
           },
           "bgcolor": "#E5ECF6",
           "radialaxis": {
            "gridcolor": "white",
            "linecolor": "white",
            "ticks": ""
           }
          },
          "scene": {
           "xaxis": {
            "backgroundcolor": "#E5ECF6",
            "gridcolor": "white",
            "gridwidth": 2,
            "linecolor": "white",
            "showbackground": true,
            "ticks": "",
            "zerolinecolor": "white"
           },
           "yaxis": {
            "backgroundcolor": "#E5ECF6",
            "gridcolor": "white",
            "gridwidth": 2,
            "linecolor": "white",
            "showbackground": true,
            "ticks": "",
            "zerolinecolor": "white"
           },
           "zaxis": {
            "backgroundcolor": "#E5ECF6",
            "gridcolor": "white",
            "gridwidth": 2,
            "linecolor": "white",
            "showbackground": true,
            "ticks": "",
            "zerolinecolor": "white"
           }
          },
          "shapedefaults": {
           "line": {
            "color": "#2a3f5f"
           }
          },
          "ternary": {
           "aaxis": {
            "gridcolor": "white",
            "linecolor": "white",
            "ticks": ""
           },
           "baxis": {
            "gridcolor": "white",
            "linecolor": "white",
            "ticks": ""
           },
           "bgcolor": "#E5ECF6",
           "caxis": {
            "gridcolor": "white",
            "linecolor": "white",
            "ticks": ""
           }
          },
          "title": {
           "x": 0.05
          },
          "xaxis": {
           "automargin": true,
           "gridcolor": "white",
           "linecolor": "white",
           "ticks": "",
           "title": {
            "standoff": 15
           },
           "zerolinecolor": "white",
           "zerolinewidth": 2
          },
          "yaxis": {
           "automargin": true,
           "gridcolor": "white",
           "linecolor": "white",
           "ticks": "",
           "title": {
            "standoff": 15
           },
           "zerolinecolor": "white",
           "zerolinewidth": 2
          }
         }
        },
        "title": {
         "text": "Predicted Price vs Actual Price for 'apeusd'"
        },
        "xaxis": {
         "title": {
          "text": "Time"
         }
        },
        "yaxis": {
         "title": {
          "text": "Actual Price ($)"
         }
        }
       }
      }
     },
     "metadata": {},
     "output_type": "display_data"
    }
   ],
   "source": [
    "print(len(test_predictions[0]))\n",
    "print()\n",
    "\n",
    "fig = go.Figure()\n",
    "pred_line = go.Scatter(x=time_test_y[:len(forecast_price)], y=forecast_price, mode = 'lines', name = 'Predicted Price')\n",
    "fig.add_trace(pred_line)\n",
    "\n",
    "fig.add_trace(go.Scatter(x=time_test_y[:len(forecast_price)], y=price_test_y[:len(forecast_price)], mode = 'lines', name = 'Actual Price'))\n",
    "\n",
    "fig.update_layout(xaxis_title=\"Time\", yaxis_title=\"Actual Price ($)\", title=f\"Predicted Price vs Actual Price for '{crypto_name}'\")\n",
    "\n",
    "fig.show()"
   ]
  },
  {
   "cell_type": "code",
   "execution_count": 24,
   "metadata": {},
   "outputs": [
    {
     "name": "stdout",
     "output_type": "stream",
     "text": [
      "1\n",
      "\n"
     ]
    }
   ],
   "source": [
    "print(len(test_predictions[0]))\n",
    "print()\n",
    "def forecast_prices(most_recent_time,forecast ):\n",
    "    fig = go.Figure()\n",
    "    td = most_recent_time + timedelta(minutes=len(forecast))\n",
    "    print(td)\n",
    "    forecast_time = [td + timedelta(minutes=i) for i in range(len(forecast))]\n",
    "    pred_line = go.Scatter(x=forecast_time, y=forecast_price, mode = 'lines', name = 'Predicted Price')\n",
    "    fig.add_trace(pred_line)\n",
    "\n",
    "    fig.update_layout(xaxis_title=\"Time\", yaxis_title=\"Price ($)\", title=f\"Forecasted Price for '{crypto_name}'\")\n",
    "    fig.show()\n",
    "last_time = time_test_val[-1]"
   ]
  },
  {
   "cell_type": "code",
   "execution_count": 20,
   "metadata": {},
   "outputs": [],
   "source": [
    "if not os.path.exists('LSTM_figures'):\n",
    "    os.mkdir('LSTM_figures')\n",
    "fig.write_html('LSTM_figures/'+f'{crypto_name}_predicted_price.html')"
   ]
  },
  {
   "cell_type": "code",
   "execution_count": 21,
   "metadata": {},
   "outputs": [
    {
     "name": "stdout",
     "output_type": "stream",
     "text": [
      "2022-06-20 11:22:00\n"
     ]
    },
    {
     "data": {
      "application/vnd.plotly.v1+json": {
       "config": {
        "plotlyServerURL": "https://plot.ly"
       },
       "data": [
        {
         "mode": "lines",
         "name": "Predicted Price",
         "type": "scatter",
         "x": [
          "2022-06-20T11:22:00",
          "2022-06-20T11:23:00",
          "2022-06-20T11:24:00",
          "2022-06-20T11:25:00",
          "2022-06-20T11:26:00",
          "2022-06-20T11:27:00",
          "2022-06-20T11:28:00",
          "2022-06-20T11:29:00",
          "2022-06-20T11:30:00",
          "2022-06-20T11:31:00",
          "2022-06-20T11:32:00",
          "2022-06-20T11:33:00",
          "2022-06-20T11:34:00",
          "2022-06-20T11:35:00",
          "2022-06-20T11:36:00",
          "2022-06-20T11:37:00",
          "2022-06-20T11:38:00",
          "2022-06-20T11:39:00",
          "2022-06-20T11:40:00",
          "2022-06-20T11:41:00",
          "2022-06-20T11:42:00",
          "2022-06-20T11:43:00",
          "2022-06-20T11:44:00",
          "2022-06-20T11:45:00",
          "2022-06-20T11:46:00",
          "2022-06-20T11:47:00",
          "2022-06-20T11:48:00",
          "2022-06-20T11:49:00",
          "2022-06-20T11:50:00",
          "2022-06-20T11:51:00",
          "2022-06-20T11:52:00",
          "2022-06-20T11:53:00",
          "2022-06-20T11:54:00",
          "2022-06-20T11:55:00",
          "2022-06-20T11:56:00",
          "2022-06-20T11:57:00",
          "2022-06-20T11:58:00",
          "2022-06-20T11:59:00",
          "2022-06-20T12:00:00",
          "2022-06-20T12:01:00",
          "2022-06-20T12:02:00",
          "2022-06-20T12:03:00",
          "2022-06-20T12:04:00",
          "2022-06-20T12:05:00",
          "2022-06-20T12:06:00",
          "2022-06-20T12:07:00",
          "2022-06-20T12:08:00",
          "2022-06-20T12:09:00",
          "2022-06-20T12:10:00",
          "2022-06-20T12:11:00",
          "2022-06-20T12:12:00",
          "2022-06-20T12:13:00",
          "2022-06-20T12:14:00",
          "2022-06-20T12:15:00",
          "2022-06-20T12:16:00"
         ],
         "y": [
          4.018276691436768,
          4.018276691436768,
          4.018276691436768,
          4.018276691436768,
          4.018276691436768,
          4.018276691436768,
          4.018276691436768,
          4.018276691436768,
          4.018276691436768,
          4.018276691436768,
          4.018276691436768,
          4.018276691436768,
          4.018276691436768,
          4.018276691436768,
          4.018276691436768,
          4.018276691436768,
          4.018276691436768,
          4.018276691436768,
          4.018276691436768,
          4.018276691436768,
          4.018276691436768,
          4.018276691436768,
          4.018276691436768,
          4.018276691436768,
          4.018276691436768,
          4.018276691436768,
          4.018276691436768,
          4.018276691436768,
          4.018276691436768,
          4.018276691436768,
          4.018276691436768,
          4.018276691436768,
          4.018276691436768,
          4.018276691436768,
          4.018276691436768,
          4.018276691436768,
          4.018276691436768,
          4.018276691436768,
          4.018276691436768,
          4.018276691436768,
          4.018276691436768,
          4.018276691436768,
          4.018276691436768,
          4.018276691436768,
          4.018276691436768,
          4.018276691436768,
          4.018276691436768,
          4.018276691436768,
          4.018276691436768,
          4.018276691436768,
          4.018276691436768,
          4.018276691436768,
          4.018276691436768,
          4.018276691436768,
          4.018276691436768
         ]
        }
       ],
       "layout": {
        "template": {
         "data": {
          "bar": [
           {
            "error_x": {
             "color": "#2a3f5f"
            },
            "error_y": {
             "color": "#2a3f5f"
            },
            "marker": {
             "line": {
              "color": "#E5ECF6",
              "width": 0.5
             },
             "pattern": {
              "fillmode": "overlay",
              "size": 10,
              "solidity": 0.2
             }
            },
            "type": "bar"
           }
          ],
          "barpolar": [
           {
            "marker": {
             "line": {
              "color": "#E5ECF6",
              "width": 0.5
             },
             "pattern": {
              "fillmode": "overlay",
              "size": 10,
              "solidity": 0.2
             }
            },
            "type": "barpolar"
           }
          ],
          "carpet": [
           {
            "aaxis": {
             "endlinecolor": "#2a3f5f",
             "gridcolor": "white",
             "linecolor": "white",
             "minorgridcolor": "white",
             "startlinecolor": "#2a3f5f"
            },
            "baxis": {
             "endlinecolor": "#2a3f5f",
             "gridcolor": "white",
             "linecolor": "white",
             "minorgridcolor": "white",
             "startlinecolor": "#2a3f5f"
            },
            "type": "carpet"
           }
          ],
          "choropleth": [
           {
            "colorbar": {
             "outlinewidth": 0,
             "ticks": ""
            },
            "type": "choropleth"
           }
          ],
          "contour": [
           {
            "colorbar": {
             "outlinewidth": 0,
             "ticks": ""
            },
            "colorscale": [
             [
              0,
              "#0d0887"
             ],
             [
              0.1111111111111111,
              "#46039f"
             ],
             [
              0.2222222222222222,
              "#7201a8"
             ],
             [
              0.3333333333333333,
              "#9c179e"
             ],
             [
              0.4444444444444444,
              "#bd3786"
             ],
             [
              0.5555555555555556,
              "#d8576b"
             ],
             [
              0.6666666666666666,
              "#ed7953"
             ],
             [
              0.7777777777777778,
              "#fb9f3a"
             ],
             [
              0.8888888888888888,
              "#fdca26"
             ],
             [
              1,
              "#f0f921"
             ]
            ],
            "type": "contour"
           }
          ],
          "contourcarpet": [
           {
            "colorbar": {
             "outlinewidth": 0,
             "ticks": ""
            },
            "type": "contourcarpet"
           }
          ],
          "heatmap": [
           {
            "colorbar": {
             "outlinewidth": 0,
             "ticks": ""
            },
            "colorscale": [
             [
              0,
              "#0d0887"
             ],
             [
              0.1111111111111111,
              "#46039f"
             ],
             [
              0.2222222222222222,
              "#7201a8"
             ],
             [
              0.3333333333333333,
              "#9c179e"
             ],
             [
              0.4444444444444444,
              "#bd3786"
             ],
             [
              0.5555555555555556,
              "#d8576b"
             ],
             [
              0.6666666666666666,
              "#ed7953"
             ],
             [
              0.7777777777777778,
              "#fb9f3a"
             ],
             [
              0.8888888888888888,
              "#fdca26"
             ],
             [
              1,
              "#f0f921"
             ]
            ],
            "type": "heatmap"
           }
          ],
          "heatmapgl": [
           {
            "colorbar": {
             "outlinewidth": 0,
             "ticks": ""
            },
            "colorscale": [
             [
              0,
              "#0d0887"
             ],
             [
              0.1111111111111111,
              "#46039f"
             ],
             [
              0.2222222222222222,
              "#7201a8"
             ],
             [
              0.3333333333333333,
              "#9c179e"
             ],
             [
              0.4444444444444444,
              "#bd3786"
             ],
             [
              0.5555555555555556,
              "#d8576b"
             ],
             [
              0.6666666666666666,
              "#ed7953"
             ],
             [
              0.7777777777777778,
              "#fb9f3a"
             ],
             [
              0.8888888888888888,
              "#fdca26"
             ],
             [
              1,
              "#f0f921"
             ]
            ],
            "type": "heatmapgl"
           }
          ],
          "histogram": [
           {
            "marker": {
             "pattern": {
              "fillmode": "overlay",
              "size": 10,
              "solidity": 0.2
             }
            },
            "type": "histogram"
           }
          ],
          "histogram2d": [
           {
            "colorbar": {
             "outlinewidth": 0,
             "ticks": ""
            },
            "colorscale": [
             [
              0,
              "#0d0887"
             ],
             [
              0.1111111111111111,
              "#46039f"
             ],
             [
              0.2222222222222222,
              "#7201a8"
             ],
             [
              0.3333333333333333,
              "#9c179e"
             ],
             [
              0.4444444444444444,
              "#bd3786"
             ],
             [
              0.5555555555555556,
              "#d8576b"
             ],
             [
              0.6666666666666666,
              "#ed7953"
             ],
             [
              0.7777777777777778,
              "#fb9f3a"
             ],
             [
              0.8888888888888888,
              "#fdca26"
             ],
             [
              1,
              "#f0f921"
             ]
            ],
            "type": "histogram2d"
           }
          ],
          "histogram2dcontour": [
           {
            "colorbar": {
             "outlinewidth": 0,
             "ticks": ""
            },
            "colorscale": [
             [
              0,
              "#0d0887"
             ],
             [
              0.1111111111111111,
              "#46039f"
             ],
             [
              0.2222222222222222,
              "#7201a8"
             ],
             [
              0.3333333333333333,
              "#9c179e"
             ],
             [
              0.4444444444444444,
              "#bd3786"
             ],
             [
              0.5555555555555556,
              "#d8576b"
             ],
             [
              0.6666666666666666,
              "#ed7953"
             ],
             [
              0.7777777777777778,
              "#fb9f3a"
             ],
             [
              0.8888888888888888,
              "#fdca26"
             ],
             [
              1,
              "#f0f921"
             ]
            ],
            "type": "histogram2dcontour"
           }
          ],
          "mesh3d": [
           {
            "colorbar": {
             "outlinewidth": 0,
             "ticks": ""
            },
            "type": "mesh3d"
           }
          ],
          "parcoords": [
           {
            "line": {
             "colorbar": {
              "outlinewidth": 0,
              "ticks": ""
             }
            },
            "type": "parcoords"
           }
          ],
          "pie": [
           {
            "automargin": true,
            "type": "pie"
           }
          ],
          "scatter": [
           {
            "marker": {
             "colorbar": {
              "outlinewidth": 0,
              "ticks": ""
             }
            },
            "type": "scatter"
           }
          ],
          "scatter3d": [
           {
            "line": {
             "colorbar": {
              "outlinewidth": 0,
              "ticks": ""
             }
            },
            "marker": {
             "colorbar": {
              "outlinewidth": 0,
              "ticks": ""
             }
            },
            "type": "scatter3d"
           }
          ],
          "scattercarpet": [
           {
            "marker": {
             "colorbar": {
              "outlinewidth": 0,
              "ticks": ""
             }
            },
            "type": "scattercarpet"
           }
          ],
          "scattergeo": [
           {
            "marker": {
             "colorbar": {
              "outlinewidth": 0,
              "ticks": ""
             }
            },
            "type": "scattergeo"
           }
          ],
          "scattergl": [
           {
            "marker": {
             "colorbar": {
              "outlinewidth": 0,
              "ticks": ""
             }
            },
            "type": "scattergl"
           }
          ],
          "scattermapbox": [
           {
            "marker": {
             "colorbar": {
              "outlinewidth": 0,
              "ticks": ""
             }
            },
            "type": "scattermapbox"
           }
          ],
          "scatterpolar": [
           {
            "marker": {
             "colorbar": {
              "outlinewidth": 0,
              "ticks": ""
             }
            },
            "type": "scatterpolar"
           }
          ],
          "scatterpolargl": [
           {
            "marker": {
             "colorbar": {
              "outlinewidth": 0,
              "ticks": ""
             }
            },
            "type": "scatterpolargl"
           }
          ],
          "scatterternary": [
           {
            "marker": {
             "colorbar": {
              "outlinewidth": 0,
              "ticks": ""
             }
            },
            "type": "scatterternary"
           }
          ],
          "surface": [
           {
            "colorbar": {
             "outlinewidth": 0,
             "ticks": ""
            },
            "colorscale": [
             [
              0,
              "#0d0887"
             ],
             [
              0.1111111111111111,
              "#46039f"
             ],
             [
              0.2222222222222222,
              "#7201a8"
             ],
             [
              0.3333333333333333,
              "#9c179e"
             ],
             [
              0.4444444444444444,
              "#bd3786"
             ],
             [
              0.5555555555555556,
              "#d8576b"
             ],
             [
              0.6666666666666666,
              "#ed7953"
             ],
             [
              0.7777777777777778,
              "#fb9f3a"
             ],
             [
              0.8888888888888888,
              "#fdca26"
             ],
             [
              1,
              "#f0f921"
             ]
            ],
            "type": "surface"
           }
          ],
          "table": [
           {
            "cells": {
             "fill": {
              "color": "#EBF0F8"
             },
             "line": {
              "color": "white"
             }
            },
            "header": {
             "fill": {
              "color": "#C8D4E3"
             },
             "line": {
              "color": "white"
             }
            },
            "type": "table"
           }
          ]
         },
         "layout": {
          "annotationdefaults": {
           "arrowcolor": "#2a3f5f",
           "arrowhead": 0,
           "arrowwidth": 1
          },
          "autotypenumbers": "strict",
          "coloraxis": {
           "colorbar": {
            "outlinewidth": 0,
            "ticks": ""
           }
          },
          "colorscale": {
           "diverging": [
            [
             0,
             "#8e0152"
            ],
            [
             0.1,
             "#c51b7d"
            ],
            [
             0.2,
             "#de77ae"
            ],
            [
             0.3,
             "#f1b6da"
            ],
            [
             0.4,
             "#fde0ef"
            ],
            [
             0.5,
             "#f7f7f7"
            ],
            [
             0.6,
             "#e6f5d0"
            ],
            [
             0.7,
             "#b8e186"
            ],
            [
             0.8,
             "#7fbc41"
            ],
            [
             0.9,
             "#4d9221"
            ],
            [
             1,
             "#276419"
            ]
           ],
           "sequential": [
            [
             0,
             "#0d0887"
            ],
            [
             0.1111111111111111,
             "#46039f"
            ],
            [
             0.2222222222222222,
             "#7201a8"
            ],
            [
             0.3333333333333333,
             "#9c179e"
            ],
            [
             0.4444444444444444,
             "#bd3786"
            ],
            [
             0.5555555555555556,
             "#d8576b"
            ],
            [
             0.6666666666666666,
             "#ed7953"
            ],
            [
             0.7777777777777778,
             "#fb9f3a"
            ],
            [
             0.8888888888888888,
             "#fdca26"
            ],
            [
             1,
             "#f0f921"
            ]
           ],
           "sequentialminus": [
            [
             0,
             "#0d0887"
            ],
            [
             0.1111111111111111,
             "#46039f"
            ],
            [
             0.2222222222222222,
             "#7201a8"
            ],
            [
             0.3333333333333333,
             "#9c179e"
            ],
            [
             0.4444444444444444,
             "#bd3786"
            ],
            [
             0.5555555555555556,
             "#d8576b"
            ],
            [
             0.6666666666666666,
             "#ed7953"
            ],
            [
             0.7777777777777778,
             "#fb9f3a"
            ],
            [
             0.8888888888888888,
             "#fdca26"
            ],
            [
             1,
             "#f0f921"
            ]
           ]
          },
          "colorway": [
           "#636efa",
           "#EF553B",
           "#00cc96",
           "#ab63fa",
           "#FFA15A",
           "#19d3f3",
           "#FF6692",
           "#B6E880",
           "#FF97FF",
           "#FECB52"
          ],
          "font": {
           "color": "#2a3f5f"
          },
          "geo": {
           "bgcolor": "white",
           "lakecolor": "white",
           "landcolor": "#E5ECF6",
           "showlakes": true,
           "showland": true,
           "subunitcolor": "white"
          },
          "hoverlabel": {
           "align": "left"
          },
          "hovermode": "closest",
          "mapbox": {
           "style": "light"
          },
          "paper_bgcolor": "white",
          "plot_bgcolor": "#E5ECF6",
          "polar": {
           "angularaxis": {
            "gridcolor": "white",
            "linecolor": "white",
            "ticks": ""
           },
           "bgcolor": "#E5ECF6",
           "radialaxis": {
            "gridcolor": "white",
            "linecolor": "white",
            "ticks": ""
           }
          },
          "scene": {
           "xaxis": {
            "backgroundcolor": "#E5ECF6",
            "gridcolor": "white",
            "gridwidth": 2,
            "linecolor": "white",
            "showbackground": true,
            "ticks": "",
            "zerolinecolor": "white"
           },
           "yaxis": {
            "backgroundcolor": "#E5ECF6",
            "gridcolor": "white",
            "gridwidth": 2,
            "linecolor": "white",
            "showbackground": true,
            "ticks": "",
            "zerolinecolor": "white"
           },
           "zaxis": {
            "backgroundcolor": "#E5ECF6",
            "gridcolor": "white",
            "gridwidth": 2,
            "linecolor": "white",
            "showbackground": true,
            "ticks": "",
            "zerolinecolor": "white"
           }
          },
          "shapedefaults": {
           "line": {
            "color": "#2a3f5f"
           }
          },
          "ternary": {
           "aaxis": {
            "gridcolor": "white",
            "linecolor": "white",
            "ticks": ""
           },
           "baxis": {
            "gridcolor": "white",
            "linecolor": "white",
            "ticks": ""
           },
           "bgcolor": "#E5ECF6",
           "caxis": {
            "gridcolor": "white",
            "linecolor": "white",
            "ticks": ""
           }
          },
          "title": {
           "x": 0.05
          },
          "xaxis": {
           "automargin": true,
           "gridcolor": "white",
           "linecolor": "white",
           "ticks": "",
           "title": {
            "standoff": 15
           },
           "zerolinecolor": "white",
           "zerolinewidth": 2
          },
          "yaxis": {
           "automargin": true,
           "gridcolor": "white",
           "linecolor": "white",
           "ticks": "",
           "title": {
            "standoff": 15
           },
           "zerolinecolor": "white",
           "zerolinewidth": 2
          }
         }
        },
        "title": {
         "text": "Forecasted Price for 'apeusd'"
        },
        "xaxis": {
         "title": {
          "text": "Time"
         }
        },
        "yaxis": {
         "title": {
          "text": "Price ($)"
         }
        }
       }
      }
     },
     "metadata": {},
     "output_type": "display_data"
    }
   ],
   "source": [
    "forecast = crypto_price_model.predict(price_test_val).detach().numpy()\n",
    "forecast = np.array([num for num in forecast]).flatten()\n",
    "forecast_prices(last_time,forecast)"
   ]
  },
  {
   "cell_type": "code",
   "execution_count": 22,
   "metadata": {},
   "outputs": [],
   "source": [
    "if not os.path.exists('LSTM_parameters'):\n",
    "    os.mkdir('LSTM_parameters')\n",
    "#fig.write_html('LSTM_parameters/'+f'{crypto_name}_predicted_price.html')\n",
    "torch.save(crypto_price_model.state_dict(), f'LSTM_parameters/{crypto_name}_model_weights.pth')"
   ]
  },
  {
   "cell_type": "code",
   "execution_count": 23,
   "metadata": {},
   "outputs": [
    {
     "name": "stdout",
     "output_type": "stream",
     "text": [
      "cuda\n"
     ]
    },
    {
     "data": {
      "text/plain": [
       "<All keys matched successfully>"
      ]
     },
     "execution_count": 23,
     "metadata": {},
     "output_type": "execute_result"
    }
   ],
   "source": [
    "device = torch.device('cuda' if torch.cuda.is_available() else 'cpu')\n",
    "print(device)\n",
    "crypto_price_model.load_state_dict(torch.load(f'{crypto_name}_model_weights.pth',))"
   ]
  }
 ],
 "metadata": {
  "kernelspec": {
   "display_name": "Python 3.8.13",
   "language": "python",
   "name": "python3"
  },
  "language_info": {
   "codemirror_mode": {
    "name": "ipython",
    "version": 3
   },
   "file_extension": ".py",
   "mimetype": "text/x-python",
   "name": "python",
   "nbconvert_exporter": "python",
   "pygments_lexer": "ipython3",
   "version": "3.8.13"
  },
  "orig_nbformat": 4,
  "vscode": {
   "interpreter": {
    "hash": "9cfc535063982cb54bc105cd8a1db8df6351516bd1ac835c350edc56f17e34e3"
   }
  }
 },
 "nbformat": 4,
 "nbformat_minor": 2
}
